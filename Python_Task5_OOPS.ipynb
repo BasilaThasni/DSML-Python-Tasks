{
  "nbformat": 4,
  "nbformat_minor": 0,
  "metadata": {
    "colab": {
      "provenance": [],
      "authorship_tag": "ABX9TyP4dTE7PLspWlqYutrtGTbc",
      "include_colab_link": true
    },
    "kernelspec": {
      "name": "python3",
      "display_name": "Python 3"
    },
    "language_info": {
      "name": "python"
    }
  },
  "cells": [
    {
      "cell_type": "markdown",
      "metadata": {
        "id": "view-in-github",
        "colab_type": "text"
      },
      "source": [
        "<a href=\"https://colab.research.google.com/github/BasilaThasni/DSML-Python-Tasks/blob/main/Python_Task5_OOPS.ipynb\" target=\"_parent\"><img src=\"https://colab.research.google.com/assets/colab-badge.svg\" alt=\"Open In Colab\"/></a>"
      ]
    },
    {
      "cell_type": "markdown",
      "source": [
        "##1.  Write a Python program to create a class representing a Circle. Include methods to calculate its area and perimeter.\n"
      ],
      "metadata": {
        "id": "v0Nyaj17JjEC"
      }
    },
    {
      "cell_type": "code",
      "source": [
        "import math\n",
        "\n",
        "class Circle:\n",
        "    def __init__(self, radius):\n",
        "        self.radius = radius\n",
        "\n",
        "    def get_radius(self):\n",
        "        return self.radius\n",
        "\n",
        "    def set_radius(self, radius):\n",
        "        self.radius = radius\n",
        "\n",
        "    def area(self):\n",
        "        return math.pi * self.radius**2\n",
        "\n",
        "    def perimeter(self):\n",
        "        return 2 * math.pi * self.radius\n",
        "\n",
        "# Example usage:\n",
        "radius = 5\n",
        "circle = Circle(radius)\n",
        "\n",
        "print(f\"Radius of the circle: {circle.get_radius()}\")\n",
        "print(f\"Area of the circle: {circle.area():.2f}\")\n",
        "print(f\"Perimeter of the circle: {circle.perimeter():.2f}\")\n"
      ],
      "metadata": {
        "colab": {
          "base_uri": "https://localhost:8080/"
        },
        "id": "CUxaeFahJolU",
        "outputId": "b5f1aeb9-0d85-4feb-928f-04b62fafd342"
      },
      "execution_count": 1,
      "outputs": [
        {
          "output_type": "stream",
          "name": "stdout",
          "text": [
            "Radius of the circle: 5\n",
            "Area of the circle: 78.54\n",
            "Perimeter of the circle: 31.42\n"
          ]
        }
      ]
    },
    {
      "cell_type": "markdown",
      "source": [
        "##2. Write a Python program to create a calculator class. Include methods for basic arithmetic operations."
      ],
      "metadata": {
        "id": "8ZULd2rkJ42Q"
      }
    },
    {
      "cell_type": "code",
      "source": [
        "class Calculator:\n",
        "    def add(self, x, y):\n",
        "        return x + y\n",
        "\n",
        "    def subtract(self, x, y):\n",
        "        return x - y\n",
        "\n",
        "    def multiply(self, x, y):\n",
        "        return x * y\n",
        "\n",
        "    def divide(self, x, y):\n",
        "        if y == 0:\n",
        "            raise ValueError(\"Cannot divide by zero\")\n",
        "        return x / y\n",
        "\n",
        "# Example\n",
        "calculator = Calculator()\n",
        "\n",
        "# Perform arithmetic operations\n",
        "print(\"Addition:\", calculator.add(5, 3))\n",
        "print(\"Subtraction:\", calculator.subtract(5, 3))\n",
        "print(\"Multiplication:\", calculator.multiply(5, 3))\n",
        "print(\"Division:\", calculator.divide(5, 3))\n"
      ],
      "metadata": {
        "colab": {
          "base_uri": "https://localhost:8080/"
        },
        "id": "rU7pLQgRJ68K",
        "outputId": "08dd46ce-bdfc-4143-8c3c-8e45247b75a7"
      },
      "execution_count": 2,
      "outputs": [
        {
          "output_type": "stream",
          "name": "stdout",
          "text": [
            "Addition: 8\n",
            "Subtraction: 2\n",
            "Multiplication: 15\n",
            "Division: 1.6666666666666667\n"
          ]
        }
      ]
    },
    {
      "cell_type": "markdown",
      "source": [
        "##3. Write a Python program to create a class that represents a shape. Include methods to calculate its area and perimeter. Implement subclasses for different shapes like circle, triangle, and square.\n",
        "\n",
        "\n"
      ],
      "metadata": {
        "id": "AuWBwDBgKKjC"
      }
    },
    {
      "cell_type": "code",
      "source": [
        "import math\n",
        "\n",
        "class Shape:\n",
        "    def area(self):\n",
        "        pass\n",
        "\n",
        "    def perimeter(self):\n",
        "        pass\n",
        "\n",
        "class Circle(Shape):\n",
        "    def __init__(self, radius):\n",
        "        self.radius = radius\n",
        "\n",
        "    def area(self):\n",
        "        return math.pi * self.radius**2\n",
        "\n",
        "    def perimeter(self):\n",
        "        return 2 * math.pi * self.radius\n",
        "\n",
        "class Triangle(Shape):\n",
        "    def __init__(self, base, height, side1, side2):\n",
        "        self.base = base\n",
        "        self.height = height\n",
        "        self.side1 = side1\n",
        "        self.side2 = side2\n",
        "\n",
        "    def area(self):\n",
        "        return 0.5 * self.base * self.height\n",
        "\n",
        "    def perimeter(self):\n",
        "        return self.base + self.side1 + self.side2\n",
        "\n",
        "class Square(Shape):\n",
        "    def __init__(self, side):\n",
        "        self.side = side\n",
        "\n",
        "    def area(self):\n",
        "        return self.side**2\n",
        "\n",
        "    def perimeter(self):\n",
        "        return 4 * self.side\n",
        "\n",
        "# Example usage:\n",
        "circle = Circle(5)\n",
        "triangle = Triangle(5, 3, 4, 4)\n",
        "square = Square(4)\n",
        "\n",
        "# Calculate and print area and perimeter for each shape\n",
        "print(\"Circle - Area:\", circle.area(), \",Perimeter:\", circle.perimeter())\n",
        "print(\"Triangle - Area:\", triangle.area(), \",Perimeter:\", triangle.perimeter())\n",
        "print(\"Square - Area:\", square.area(), \",Perimeter:\", square.perimeter())\n"
      ],
      "metadata": {
        "colab": {
          "base_uri": "https://localhost:8080/"
        },
        "id": "p8Wisvl9KNVM",
        "outputId": "29a94d05-4c11-4807-dc99-48279a35b98e"
      },
      "execution_count": 4,
      "outputs": [
        {
          "output_type": "stream",
          "name": "stdout",
          "text": [
            "Circle - Area: 78.53981633974483 ,Perimeter: 31.41592653589793\n",
            "Triangle - Area: 7.5 ,Perimeter: 13\n",
            "Square - Area: 16 ,Perimeter: 16\n"
          ]
        }
      ]
    }
  ]
}