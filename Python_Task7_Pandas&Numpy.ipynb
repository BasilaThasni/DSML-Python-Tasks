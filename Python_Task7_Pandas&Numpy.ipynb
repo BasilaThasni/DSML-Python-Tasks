{
  "nbformat": 4,
  "nbformat_minor": 0,
  "metadata": {
    "colab": {
      "provenance": [],
      "include_colab_link": true
    },
    "kernelspec": {
      "name": "python3",
      "display_name": "Python 3"
    },
    "language_info": {
      "name": "python"
    }
  },
  "cells": [
    {
      "cell_type": "markdown",
      "metadata": {
        "id": "view-in-github",
        "colab_type": "text"
      },
      "source": [
        "<a href=\"https://colab.research.google.com/github/BasilaThasni/DSML-Python-Tasks/blob/main/Python_Task7_Pandas%26Numpy.ipynb\" target=\"_parent\"><img src=\"https://colab.research.google.com/assets/colab-badge.svg\" alt=\"Open In Colab\"/></a>"
      ]
    },
    {
      "cell_type": "markdown",
      "source": [
        "#NumPy"
      ],
      "metadata": {
        "id": "vsSF6Xu82dAx"
      }
    },
    {
      "cell_type": "markdown",
      "source": [
        "##1. How to extract all odd numbers from arr?\n"
      ],
      "metadata": {
        "id": "XQknjhFB2z2z"
      }
    },
    {
      "cell_type": "code",
      "execution_count": 1,
      "metadata": {
        "id": "rv7hu_dl193Z",
        "outputId": "3085ed92-4977-4a15-c273-04ad525af619",
        "colab": {
          "base_uri": "https://localhost:8080/"
        }
      },
      "outputs": [
        {
          "output_type": "stream",
          "name": "stdout",
          "text": [
            "[1 3 5 7 9]\n"
          ]
        }
      ],
      "source": [
        "import numpy as np\n",
        "arr = np.array([0, 1, 2, 3, 4, 5, 6, 7, 8, 9])\n",
        "\n",
        "odd_numbers = arr[arr % 2 != 0]\n",
        "\n",
        "print(odd_numbers)"
      ]
    },
    {
      "cell_type": "markdown",
      "source": [
        "##2. Replace all odd numbers in arr with -1 without changing"
      ],
      "metadata": {
        "id": "L4_c6cw23H1S"
      }
    },
    {
      "cell_type": "code",
      "source": [
        "import numpy as np\n",
        "arr = np.array([0, 1, 2, 3, 4, 5, 6, 7, 8, 9])\n",
        "\n",
        "arr[arr % 2 != 0] = -1\n",
        "\n",
        "print(arr)"
      ],
      "metadata": {
        "id": "hwIVhWMX3FEK",
        "outputId": "c93fb75c-a59b-4098-c4ef-5629f8fec68a",
        "colab": {
          "base_uri": "https://localhost:8080/"
        }
      },
      "execution_count": 2,
      "outputs": [
        {
          "output_type": "stream",
          "name": "stdout",
          "text": [
            "[ 0 -1  2 -1  4 -1  6 -1  8 -1]\n"
          ]
        }
      ]
    },
    {
      "cell_type": "markdown",
      "source": [
        "##3.  Convert a 1D array to a 2D array with 2 rows\n",
        "\n"
      ],
      "metadata": {
        "id": "-qmIigJO3Xr1"
      }
    },
    {
      "cell_type": "code",
      "source": [
        "import numpy as np\n",
        "arr=np.arange(10)\n",
        "\n",
        "#Desired Output:\n",
        "#> array([[0, 1, 2, 3, 4],\n",
        "#>        [5, 6, 7, 8, 9]])\n",
        "\n",
        "arr_2d = arr.reshape(2,5)\n",
        "print(arr_2d)"
      ],
      "metadata": {
        "id": "zkK0sPOk3jmA",
        "outputId": "1c575083-03d6-4a66-fa2d-e180eb60c440",
        "colab": {
          "base_uri": "https://localhost:8080/"
        }
      },
      "execution_count": 3,
      "outputs": [
        {
          "output_type": "stream",
          "name": "stdout",
          "text": [
            "[[0 1 2 3 4]\n",
            " [5 6 7 8 9]]\n"
          ]
        }
      ]
    },
    {
      "cell_type": "markdown",
      "source": [
        "##4. Stack arrays a and b vertically\n",
        "\n"
      ],
      "metadata": {
        "id": "RkGJycHf3wsg"
      }
    },
    {
      "cell_type": "code",
      "source": [
        "import numpy as np\n",
        "a = np.arange(10).reshape(2,-1)\n",
        "b = np.repeat(1, 10).reshape(2,-1)\n",
        "\n",
        "#Desired Output:\n",
        "\n",
        "#> array([[0, 1, 2, 3, 4],\n",
        "#>        [5, 6, 7, 8, 9],\n",
        "#>        [1, 1, 1, 1, 1],\n",
        "#>        [1, 1, 1, 1, 1]])\n",
        "\n",
        "result = np.vstack((a,b))\n",
        "\n",
        "print(result)"
      ],
      "metadata": {
        "id": "DdnTO_2r3np2",
        "outputId": "aa494da8-6ab3-468e-de5d-3ffa9abda3cc",
        "colab": {
          "base_uri": "https://localhost:8080/"
        }
      },
      "execution_count": 4,
      "outputs": [
        {
          "output_type": "stream",
          "name": "stdout",
          "text": [
            "[[0 1 2 3 4]\n",
            " [5 6 7 8 9]\n",
            " [1 1 1 1 1]\n",
            " [1 1 1 1 1]]\n"
          ]
        }
      ]
    },
    {
      "cell_type": "markdown",
      "source": [
        "##5. Stack the arrays a and b horizontally.\n",
        "\n"
      ],
      "metadata": {
        "id": "fZhOCoqa38FV"
      }
    },
    {
      "cell_type": "code",
      "source": [
        "import numpy as np\n",
        "a = np.arange(10).reshape(2,-1)\n",
        "b = np.repeat(1, 10).reshape(2,-1)\n",
        "\n",
        "#Desired Output:\n",
        "\n",
        "#> array([[0, 1, 2, 3, 4, 1, 1, 1, 1, 1],\n",
        "#>        [5, 6, 7, 8, 9, 1, 1, 1, 1, 1]])\n",
        "\n",
        "result = np.hstack((a,b))\n",
        "print(result)"
      ],
      "metadata": {
        "id": "K9mw1Yhy35cd",
        "outputId": "a44cf88a-75ff-405c-a73d-d6c75179825f",
        "colab": {
          "base_uri": "https://localhost:8080/"
        }
      },
      "execution_count": 5,
      "outputs": [
        {
          "output_type": "stream",
          "name": "stdout",
          "text": [
            "[[0 1 2 3 4 1 1 1 1 1]\n",
            " [5 6 7 8 9 1 1 1 1 1]]\n"
          ]
        }
      ]
    },
    {
      "cell_type": "markdown",
      "source": [
        "##6.How to get the common items between two python numpy arrays?\n",
        "Get the common items between a and b\n",
        "\n",
        "\n"
      ],
      "metadata": {
        "id": "0xV1tmaj4L69"
      }
    },
    {
      "cell_type": "code",
      "source": [
        "import numpy as np\n",
        "a = np.array([1,2,3,2,3,4,3,4,5,6])\n",
        "b = np.array([7,2,10,2,7,4,9,4,9,8])\n",
        "\n",
        "common_items = np.intersect1d(a,b)\n",
        "\n",
        "print(common_items)\n",
        "\n"
      ],
      "metadata": {
        "id": "Tc1Vdsrj4FYS",
        "outputId": "982fc910-ae4d-436b-b751-b8c1f879ea0a",
        "colab": {
          "base_uri": "https://localhost:8080/"
        }
      },
      "execution_count": 6,
      "outputs": [
        {
          "output_type": "stream",
          "name": "stdout",
          "text": [
            "[2 4]\n"
          ]
        }
      ]
    },
    {
      "cell_type": "markdown",
      "source": [
        "##7.How to remove from one array those items that exist in another?\n",
        "Q. From array a remove all items present in array b"
      ],
      "metadata": {
        "id": "kb1PG4QI4b_m"
      }
    },
    {
      "cell_type": "code",
      "source": [
        "import numpy as np\n",
        "\n",
        "a = np.array([1,2,3,4,5])\n",
        "b = np.array([5,6,7,8,9])\n",
        "\n",
        "result = np.setdiff1d(a,b)\n",
        "\n",
        "print(result)"
      ],
      "metadata": {
        "id": "5WvxXTdb4WZ4",
        "outputId": "91b72029-e703-4ad6-b948-5d7b072dc4c1",
        "colab": {
          "base_uri": "https://localhost:8080/"
        }
      },
      "execution_count": 7,
      "outputs": [
        {
          "output_type": "stream",
          "name": "stdout",
          "text": [
            "[1 2 3 4]\n"
          ]
        }
      ]
    },
    {
      "cell_type": "markdown",
      "source": [
        "##8. How to get the positions where elements of two arrays match?\n",
        "\n",
        "Q. Get the positions where elements of a and b match\n",
        "\n"
      ],
      "metadata": {
        "id": "XVSe5ri94oKM"
      }
    },
    {
      "cell_type": "code",
      "source": [
        "import numpy as np\n",
        "a = np.array([1,2,3,2,3,4,3,4,5,6])\n",
        "b = np.array([7,2,10,2,7,4,9,4,9,8])\n",
        "\n",
        "#Desired Output:\n",
        "\n",
        "#> (array([1, 3, 5, 7]),)\n",
        "\n",
        "matching_positions = np.where(a == b)[0]\n",
        "print(matching_positions)\n"
      ],
      "metadata": {
        "id": "e1BWOjSb4kPk",
        "outputId": "2bdd17d8-24fb-45e5-fb03-4b2d6c9636c7",
        "colab": {
          "base_uri": "https://localhost:8080/"
        }
      },
      "execution_count": 8,
      "outputs": [
        {
          "output_type": "stream",
          "name": "stdout",
          "text": [
            "[1 3 5 7]\n"
          ]
        }
      ]
    },
    {
      "cell_type": "markdown",
      "source": [
        "##9. How to extract all numbers between a given range from a numpy array?\n",
        "Get all items between 5 and 10 from a"
      ],
      "metadata": {
        "id": "AcfbnetxAi9Y"
      }
    },
    {
      "cell_type": "code",
      "source": [
        "import numpy as np\n",
        "\n",
        "a = np.array([2, 6, 1, 9, 10, 3, 27])\n",
        "#Desired Output:\n",
        "\n",
        "#(array([6, 9, 10]),)\n",
        "\n",
        "result = a[(a >=5) & (a<=10)]\n",
        "print(result)"
      ],
      "metadata": {
        "id": "m1uk3EQZAZwS",
        "outputId": "3a2409af-b614-44a5-818f-84be5b43cbc8",
        "colab": {
          "base_uri": "https://localhost:8080/"
        }
      },
      "execution_count": 9,
      "outputs": [
        {
          "output_type": "stream",
          "name": "stdout",
          "text": [
            "[ 6  9 10]\n"
          ]
        }
      ]
    },
    {
      "cell_type": "markdown",
      "source": [
        "#Pandas"
      ],
      "metadata": {
        "id": "704c9zfTBW3n"
      }
    },
    {
      "cell_type": "markdown",
      "source": [
        "##Pandas Data Series"
      ],
      "metadata": {
        "id": "vFmbX5IXIgeJ"
      }
    },
    {
      "cell_type": "markdown",
      "source": [
        "##1. Write a Pandas program to convert a dictionary to a Pandas series.\n",
        "\n",
        "```\n",
        "Sample Series:\n",
        "Original dictionary:\n",
        "{'a': 100, 'b': 200, 'c': 300, 'd': 400, 'e': 800}\n",
        "\n",
        "Converted series:\n",
        "a    100\n",
        "b    200\n",
        "c    300\n",
        "d    400\n",
        "e    800\n",
        "dtype: int64\n",
        "\n",
        "```"
      ],
      "metadata": {
        "id": "uXoMD-z1BZe5"
      }
    },
    {
      "cell_type": "code",
      "source": [
        "import pandas as pd\n",
        "\n",
        "org_dict = {'Anu':50,'Sneha':34,'Arun':45,'John':49,'Sana':44}\n",
        "\n",
        "series = pd.Series(org_dict)\n",
        "\n",
        "print(\"Original dictionary:\")\n",
        "print(org_dict)\n",
        "\n",
        "print(\"\\nConverted series:\")\n",
        "print(series)"
      ],
      "metadata": {
        "id": "GWNYyZq1c9WW",
        "outputId": "f0577e8b-30ac-4fb7-f472-9bf2f1fed2e6",
        "colab": {
          "base_uri": "https://localhost:8080/"
        }
      },
      "execution_count": 10,
      "outputs": [
        {
          "output_type": "stream",
          "name": "stdout",
          "text": [
            "Original dictionary:\n",
            "{'Anu': 50, 'Sneha': 34, 'Arun': 45, 'John': 49, 'Sana': 44}\n",
            "\n",
            "Converted series:\n",
            "Anu      50\n",
            "Sneha    34\n",
            "Arun     45\n",
            "John     49\n",
            "Sana     44\n",
            "dtype: int64\n"
          ]
        }
      ]
    },
    {
      "cell_type": "markdown",
      "source": [
        "##2. Write a Pandas program to convert a NumPy array to a Pandas series.\n",
        "```\n",
        "Sample Series:\n",
        "  NumPy array:\n",
        "[10 20 30 40 50]\n",
        "Converted Pandas series:\n",
        "0    10\n",
        "1    20\n",
        "2    30\n",
        "3    40\n",
        "4    50\n",
        "dtype: int64\n",
        "\n",
        "```"
      ],
      "metadata": {
        "id": "0x6UlatfHmBX"
      }
    },
    {
      "cell_type": "code",
      "source": [
        "import numpy as np\n",
        "import pandas as pd\n",
        "\n",
        "array = pd.array([100,200,300,400,500])\n",
        "\n",
        "series = pd.Series(array)\n",
        "\n",
        "print(\"Numpy array:\")\n",
        "print(array)\n",
        "\n",
        "print(\"\\nConverted Pandas series:\")\n",
        "print(series)"
      ],
      "metadata": {
        "id": "PwN5WO-7efxS",
        "outputId": "4ecb07fd-5ef6-40ba-f611-0535e699ebf3",
        "colab": {
          "base_uri": "https://localhost:8080/"
        }
      },
      "execution_count": 11,
      "outputs": [
        {
          "output_type": "stream",
          "name": "stdout",
          "text": [
            "Numpy array:\n",
            "<IntegerArray>\n",
            "[100, 200, 300, 400, 500]\n",
            "Length: 5, dtype: Int64\n",
            "\n",
            "Converted Pandas series:\n",
            "0    100\n",
            "1    200\n",
            "2    300\n",
            "3    400\n",
            "4    500\n",
            "dtype: Int64\n"
          ]
        }
      ]
    },
    {
      "cell_type": "markdown",
      "source": [
        "##3. Write a Pandas program to change the data type of given a column or a Series.\n",
        "\n",
        "```\n",
        "Sample Series:\n",
        "    Original Data Series:\n",
        "0       100\n",
        "1       200\n",
        "2    python\n",
        "3    300.12\n",
        "4       400\n",
        "dtype: object\n",
        "Change the said data type to numeric:\n",
        "0    100.00\n",
        "1    200.00\n",
        "2       NaN\n",
        "3    300.12\n",
        "4    400.00\n",
        "dtype: float64\n",
        "\n",
        "```"
      ],
      "metadata": {
        "id": "MYTvji7SHx2F"
      }
    },
    {
      "cell_type": "code",
      "source": [
        "import pandas as pd\n",
        "\n",
        "# Original Data Series\n",
        "data = pd.Series([100, 200, 'python', 300.12, 400])\n",
        "\n",
        "print(\"Original Data Series:\")\n",
        "print(data)\n",
        "\n",
        "# Change the data type to numeric\n",
        "numeric_data = pd.to_numeric(data, errors='coerce')\n",
        "\n",
        "print(\"\\nChange the said data type to numeric:\")\n",
        "print(numeric_data)\n"
      ],
      "metadata": {
        "id": "X_wGBvbOfXWe",
        "outputId": "3bc1fd39-0506-40b0-a250-c7e23dc81ae7",
        "colab": {
          "base_uri": "https://localhost:8080/"
        }
      },
      "execution_count": 14,
      "outputs": [
        {
          "output_type": "stream",
          "name": "stdout",
          "text": [
            "Original Data Series:\n",
            "0       100\n",
            "1       200\n",
            "2    python\n",
            "3    300.12\n",
            "4       400\n",
            "dtype: object\n",
            "\n",
            "Change the said data type to numeric:\n",
            "0    100.00\n",
            "1    200.00\n",
            "2       NaN\n",
            "3    300.12\n",
            "4    400.00\n",
            "dtype: float64\n"
          ]
        }
      ]
    },
    {
      "cell_type": "markdown",
      "source": [
        "##4. Write a Pandas program to convert the first column of a DataFrame as a Series.\n",
        "\n",
        "```\n",
        "Sample Output:  \n",
        "Original DataFrame\n",
        "   col1  col2  col3\n",
        "0     1     4     7\n",
        "1     2     5     5\n",
        "2     3     6     8\n",
        "3     4     9    12\n",
        "4     7     5     1\n",
        "5    11     0    11\n",
        "\n",
        "1st column as a Series:\n",
        "0     1\n",
        "1     2\n",
        "2     3\n",
        "3     4\n",
        "4     7\n",
        "5    11\n",
        "Name: col1, dtype: int64\n",
        "<class 'pandas.core.series.Series'>\n",
        "\n",
        "```"
      ],
      "metadata": {
        "id": "8KpTxLSPH4qa"
      }
    },
    {
      "cell_type": "code",
      "source": [
        "import pandas as pd\n",
        "\n",
        "df = pd.DataFrame({\n",
        "    'col1': [1, 2, 3, 4, 7, 11],\n",
        "    'col2': [4, 5, 6, 9, 5, 0],\n",
        "    'col3': [7, 5, 8, 12, 1, 11]\n",
        "})\n",
        "\n",
        "print(\"Original DataFrame:\")\n",
        "print(df)\n",
        "\n",
        "series = df['col1']\n",
        "\n",
        "print(\"\\n1st column as a Series:\")\n",
        "print(series)\n",
        "\n",
        "print(f\"\\n<class '{type(series).__name__}'>\")\n"
      ],
      "metadata": {
        "id": "zHZBWSpyi55B",
        "outputId": "6ee9ee4b-844f-4547-c65b-b3ef7597b966",
        "colab": {
          "base_uri": "https://localhost:8080/"
        }
      },
      "execution_count": 15,
      "outputs": [
        {
          "output_type": "stream",
          "name": "stdout",
          "text": [
            "Original DataFrame:\n",
            "   col1  col2  col3\n",
            "0     1     4     7\n",
            "1     2     5     5\n",
            "2     3     6     8\n",
            "3     4     9    12\n",
            "4     7     5     1\n",
            "5    11     0    11\n",
            "\n",
            "1st column as a Series:\n",
            "0     1\n",
            "1     2\n",
            "2     3\n",
            "3     4\n",
            "4     7\n",
            "5    11\n",
            "Name: col1, dtype: int64\n",
            "\n",
            "<class 'Series'>\n"
          ]
        }
      ]
    },
    {
      "cell_type": "markdown",
      "source": [
        "##5. Write a Pandas program to convert a given Series to an array.\n",
        "\n",
        "```\n",
        "Sample Output:\n",
        "Original Data Series:\n",
        "0       100\n",
        "1       200\n",
        "2    python\n",
        "3    300.12\n",
        "4       400\n",
        "dtype: object\n",
        "Series to an array\n",
        "['100' '200' 'python' '300.12' '400']\n",
        "<class 'numpy.ndarray'>\n",
        "\n",
        "```"
      ],
      "metadata": {
        "id": "I3akTejyIHHR"
      }
    },
    {
      "cell_type": "code",
      "source": [
        "import pandas as pd\n",
        "\n",
        "series = pd.Series([100, 200, 'python', 300.12, 400])\n",
        "\n",
        "print(\"Original Data Series:\")\n",
        "print(series)\n",
        "\n",
        "array = series.to_numpy()\n",
        "\n",
        "print(\"\\nSeries to an array:\")\n",
        "print(array)\n",
        "\n",
        "print(f\"\\n<class '{type(array).__name__}'>\")\n"
      ],
      "metadata": {
        "id": "F7W_84cujKS0",
        "outputId": "0ba0753c-1563-43cc-b1b7-7dcacbcc9911",
        "colab": {
          "base_uri": "https://localhost:8080/"
        }
      },
      "execution_count": 16,
      "outputs": [
        {
          "output_type": "stream",
          "name": "stdout",
          "text": [
            "Original Data Series:\n",
            "0       100\n",
            "1       200\n",
            "2    python\n",
            "3    300.12\n",
            "4       400\n",
            "dtype: object\n",
            "\n",
            "Series to an array:\n",
            "[100 200 'python' 300.12 400]\n",
            "\n",
            "<class 'ndarray'>\n"
          ]
        }
      ]
    },
    {
      "cell_type": "markdown",
      "source": [
        "##6 Write a Pandas program to convert Series of lists to one Series.\n",
        "```\n",
        "Sample Output:\n",
        "Original Series of list\n",
        "0    [Red, Green, White]\n",
        "1           [Red, Black]\n",
        "2               [Yellow]\n",
        "dtype: object\n",
        "One Series\n",
        "0       Red\n",
        "1     Green\n",
        "2     White\n",
        "3       Red\n",
        "4     Black\n",
        "5    Yellow\n",
        "dtype: object\n",
        "\n",
        "```"
      ],
      "metadata": {
        "id": "Xy5hy5DBIOM8"
      }
    },
    {
      "cell_type": "code",
      "source": [
        "import pandas as pd\n",
        "\n",
        "series_of_lists = pd.Series([\n",
        "    ['Red', 'Green', 'White'],\n",
        "    ['Red', 'Black'],\n",
        "    ['Yellow']\n",
        "])\n",
        "\n",
        "print(\"Original Series of list:\")\n",
        "print(series_of_lists)\n",
        "\n",
        "one_series = series_of_lists.explode()\n",
        "\n",
        "print(\"\\nOne Series:\")\n",
        "print(one_series)\n"
      ],
      "metadata": {
        "id": "PImq8JjnjZEO",
        "outputId": "0e069387-7e54-4a8b-9381-04aebc7e15ba",
        "colab": {
          "base_uri": "https://localhost:8080/"
        }
      },
      "execution_count": 17,
      "outputs": [
        {
          "output_type": "stream",
          "name": "stdout",
          "text": [
            "Original Series of list:\n",
            "0    [Red, Green, White]\n",
            "1           [Red, Black]\n",
            "2               [Yellow]\n",
            "dtype: object\n",
            "\n",
            "One Series:\n",
            "0       Red\n",
            "0     Green\n",
            "0     White\n",
            "1       Red\n",
            "1     Black\n",
            "2    Yellow\n",
            "dtype: object\n"
          ]
        }
      ]
    },
    {
      "cell_type": "code",
      "source": [
        "import pandas as pd\n",
        "\n",
        "ps=pd.Series([['Red', 'Green', 'White'],['Red', 'Black'],['Yellow']])\n",
        "ps.explode().reset_index(drop=True)"
      ],
      "metadata": {
        "colab": {
          "base_uri": "https://localhost:8080/",
          "height": 272
        },
        "id": "RagGZ8pirPMz",
        "outputId": "d3f4e7f7-6584-4521-a865-c73cfa4fb1b7"
      },
      "execution_count": 18,
      "outputs": [
        {
          "output_type": "execute_result",
          "data": {
            "text/plain": [
              "0       Red\n",
              "1     Green\n",
              "2     White\n",
              "3       Red\n",
              "4     Black\n",
              "5    Yellow\n",
              "dtype: object"
            ],
            "text/html": [
              "<div>\n",
              "<style scoped>\n",
              "    .dataframe tbody tr th:only-of-type {\n",
              "        vertical-align: middle;\n",
              "    }\n",
              "\n",
              "    .dataframe tbody tr th {\n",
              "        vertical-align: top;\n",
              "    }\n",
              "\n",
              "    .dataframe thead th {\n",
              "        text-align: right;\n",
              "    }\n",
              "</style>\n",
              "<table border=\"1\" class=\"dataframe\">\n",
              "  <thead>\n",
              "    <tr style=\"text-align: right;\">\n",
              "      <th></th>\n",
              "      <th>0</th>\n",
              "    </tr>\n",
              "  </thead>\n",
              "  <tbody>\n",
              "    <tr>\n",
              "      <th>0</th>\n",
              "      <td>Red</td>\n",
              "    </tr>\n",
              "    <tr>\n",
              "      <th>1</th>\n",
              "      <td>Green</td>\n",
              "    </tr>\n",
              "    <tr>\n",
              "      <th>2</th>\n",
              "      <td>White</td>\n",
              "    </tr>\n",
              "    <tr>\n",
              "      <th>3</th>\n",
              "      <td>Red</td>\n",
              "    </tr>\n",
              "    <tr>\n",
              "      <th>4</th>\n",
              "      <td>Black</td>\n",
              "    </tr>\n",
              "    <tr>\n",
              "      <th>5</th>\n",
              "      <td>Yellow</td>\n",
              "    </tr>\n",
              "  </tbody>\n",
              "</table>\n",
              "</div><br><label><b>dtype:</b> object</label>"
            ]
          },
          "metadata": {},
          "execution_count": 18
        }
      ]
    },
    {
      "cell_type": "markdown",
      "source": [
        "##7.Write a Pandas program to sort a given Series.\n",
        "```\n",
        "Sample Output:\n",
        "Original Data Series:\n",
        "0       100\n",
        "1       200\n",
        "2    python\n",
        "3    300.12\n",
        "4       400\n",
        "dtype: object\n",
        "0       100\n",
        "1       200\n",
        "3    300.12\n",
        "4       400\n",
        "2    python\n",
        "dtype: object\n",
        "```"
      ],
      "metadata": {
        "id": "yZLlnPrFIZGu"
      }
    },
    {
      "cell_type": "code",
      "source": [
        "import pandas as pd\n",
        "\n",
        "series = pd.Series([100, 200, 'python', 300.12, 400])\n",
        "\n",
        "print(\"Original Data Series:\")\n",
        "print(series)\n",
        "\n",
        "sorted_series = series.astype(str).sort_values()\n",
        "\n",
        "print(\"\\nSorted Data Series:\")\n",
        "print(sorted_series)\n"
      ],
      "metadata": {
        "id": "oRAVP5kJkUUE",
        "outputId": "d6a38580-1f38-4476-f261-b12e9ffb54f6",
        "colab": {
          "base_uri": "https://localhost:8080/"
        }
      },
      "execution_count": 30,
      "outputs": [
        {
          "output_type": "stream",
          "name": "stdout",
          "text": [
            "Original Data Series:\n",
            "0       100\n",
            "1       200\n",
            "2    python\n",
            "3    300.12\n",
            "4       400\n",
            "dtype: object\n",
            "\n",
            "Sorted Data Series:\n",
            "0       100\n",
            "1       200\n",
            "3    300.12\n",
            "4       400\n",
            "2    python\n",
            "dtype: object\n"
          ]
        }
      ]
    },
    {
      "cell_type": "markdown",
      "source": [
        "##Pandas DataFrame"
      ],
      "metadata": {
        "id": "QujcJSvgIxHm"
      }
    },
    {
      "cell_type": "markdown",
      "source": [
        "##1.Write a Pandas program to create a dataframe from a dictionary and display it.\n",
        "```\n",
        "Sample data: {'X':[78,85,96,80,86], 'Y':[84,94,89,83,86],'Z':[86,97,96,72,83]}\n",
        "Expected Output:\n",
        "    X   Y   Z                                                         \n",
        "0  78  84  86                                                        \n",
        "1  85  94  97                                                         \n",
        "2  96  89  96                                                      \n",
        "3  80  83  72                                                         \n",
        "4  86  86  83\n",
        "\n",
        "```\n"
      ],
      "metadata": {
        "id": "IOLHAKSjI0cz"
      }
    },
    {
      "cell_type": "code",
      "source": [
        "import pandas as pd\n",
        "\n",
        "data = {\n",
        "    'X': [78, 85, 96, 80, 86],\n",
        "    'Y': [84, 94, 89, 83, 86],\n",
        "    'Z': [86, 97, 96, 72, 83]\n",
        "}\n",
        "\n",
        "df = pd.DataFrame(data)\n",
        "\n",
        "print(\"DataFrame:\")\n",
        "print(df)\n"
      ],
      "metadata": {
        "id": "Y9XWoVdRmPrR",
        "outputId": "f844d694-448f-43b9-ef37-754930611067",
        "colab": {
          "base_uri": "https://localhost:8080/"
        }
      },
      "execution_count": 31,
      "outputs": [
        {
          "output_type": "stream",
          "name": "stdout",
          "text": [
            "DataFrame:\n",
            "    X   Y   Z\n",
            "0  78  84  86\n",
            "1  85  94  97\n",
            "2  96  89  96\n",
            "3  80  83  72\n",
            "4  86  86  83\n"
          ]
        }
      ]
    },
    {
      "cell_type": "markdown",
      "source": [
        "##2. Write a Pandas program to create and display a DataFrame from a specified dictionary data which has the index labels.\n",
        "```\n",
        "Sample Python dictionary data and list labels:\n",
        "exam_data = {'name': ['Anastasia', 'Dima', 'Katherine', 'James', 'Emily', 'Michael', 'Matthew', 'Laura', 'Kevin', 'Jonas'],\n",
        "'score': [12.5, 9, 16.5, np.nan, 9, 20, 14.5, np.nan, 8, 19],\n",
        "'attempts': [1, 3, 2, 3, 2, 3, 1, 1, 2, 1],\n",
        "'qualify': ['yes', 'no', 'yes', 'no', 'no', 'yes', 'yes', 'no', 'no', 'yes']}\n",
        "labels = ['a', 'b', 'c', 'd', 'e', 'f', 'g', 'h', 'i', 'j']\n",
        "```\n",
        "\n",
        "```\n",
        "Expected Output:\n",
        "   attempts       name qualify  score                              \n",
        "a         1  Anastasia     yes   12.5                                 \n",
        "b         3       Dima      no    9.0                                 \n",
        "....                              \n",
        "i         2      Kevin      no    8.0                                \n",
        "j         1      Jonas     yes   19.0\n",
        "\n",
        "```"
      ],
      "metadata": {
        "id": "kaEX2PN6I7s_"
      }
    },
    {
      "cell_type": "markdown",
      "source": [
        "##3. Write a Pandas program to get the first 3 rows of a given DataFrame.\n",
        "```\n",
        "Sample Python dictionary data and list labels:\n",
        "exam_data = {'name': ['Anastasia', 'Dima', 'Katherine', 'James', 'Emily', 'Michael', 'Matthew', 'Laura', 'Kevin', 'Jonas'],\n",
        "'score': [12.5, 9, 16.5, np.nan, 9, 20, 14.5, np.nan, 8, 19],\n",
        "'attempts': [1, 3, 2, 3, 2, 3, 1, 1, 2, 1],\n",
        "'qualify': ['yes', 'no', 'yes', 'no', 'no', 'yes', 'yes', 'no', 'no', 'yes']}\n",
        "labels = ['a', 'b', 'c', 'd', 'e', 'f', 'g', 'h', 'i', 'j']\n",
        "```\n",
        "\n",
        "```\n",
        "Expected Output:\n",
        "First three rows of the data frame:                                   \n",
        "   attempts       name qualify  score                              \n",
        "a         1  Anastasia     yes   12.5                                 \n",
        "b         3       Dima      no    9.0                                 \n",
        "c         2  Katherine     yes   16.5\n",
        "\n",
        "```"
      ],
      "metadata": {
        "id": "yT64ZxLnJNLt"
      }
    },
    {
      "cell_type": "code",
      "source": [
        "import pandas as pd\n",
        "import numpy as np\n",
        "\n",
        "exam_data = {\n",
        "    'name': ['Anastasia', 'Dima', 'Katherine', 'James', 'Emily', 'Michael', 'Matthew', 'Laura', 'Kevin', 'Jonas'],\n",
        "    'score': [12.5, 9, 16.5, np.nan, 9, 20, 14.5, np.nan, 8, 19],\n",
        "    'attempts': [1, 3, 2, 3, 2, 3, 1, 1, 2, 1],\n",
        "    'qualify': ['yes', 'no', 'yes', 'no', 'no', 'yes', 'yes', 'no', 'no', 'yes']\n",
        "}\n",
        "\n",
        "labels = ['a', 'b', 'c', 'd', 'e', 'f', 'g', 'h', 'i', 'j']\n",
        "\n",
        "df = pd.DataFrame(exam_data, index=labels)\n",
        "\n",
        "print(\"DataFrame:\")\n",
        "print(df)\n"
      ],
      "metadata": {
        "id": "ouE6gCbKms47",
        "outputId": "36220823-933f-4ace-b5e2-51379d6c5f36",
        "colab": {
          "base_uri": "https://localhost:8080/"
        }
      },
      "execution_count": 32,
      "outputs": [
        {
          "output_type": "stream",
          "name": "stdout",
          "text": [
            "DataFrame:\n",
            "        name  score  attempts qualify\n",
            "a  Anastasia   12.5         1     yes\n",
            "b       Dima    9.0         3      no\n",
            "c  Katherine   16.5         2     yes\n",
            "d      James    NaN         3      no\n",
            "e      Emily    9.0         2      no\n",
            "f    Michael   20.0         3     yes\n",
            "g    Matthew   14.5         1     yes\n",
            "h      Laura    NaN         1      no\n",
            "i      Kevin    8.0         2      no\n",
            "j      Jonas   19.0         1     yes\n"
          ]
        }
      ]
    },
    {
      "cell_type": "markdown",
      "source": [
        "##4.Write a Pandas program to select the 'name' and 'score' columns from the following DataFrame.\n",
        "\n",
        "```\n",
        "Sample Python dictionary data and list labels:\n",
        "exam_data = {'name': ['Anastasia', 'Dima', 'Katherine', 'James', 'Emily', 'Michael', 'Matthew', 'Laura', 'Kevin', 'Jonas'],\n",
        "'score': [12.5, 9, 16.5, np.nan, 9, 20, 14.5, np.nan, 8, 19],\n",
        "'attempts': [1, 3, 2, 3, 2, 3, 1, 1, 2, 1],\n",
        "'qualify': ['yes', 'no', 'yes', 'no', 'no', 'yes', 'yes', 'no', 'no', 'yes']}\n",
        "labels = ['a', 'b', 'c', 'd', 'e', 'f', 'g', 'h', 'i', 'j']\n",
        "```\n",
        "```\n",
        "Expected Output:\n",
        "Select specific columns:                                               \n",
        "        name  score                                                  \n",
        "a  Anastasia   12.5                                                   \n",
        "b       Dima    9.0                                                \n",
        "c  Katherine   16.5                                                    \n",
        "...                                                  \n",
        "h      Laura    NaN                                                   \n",
        "i      Kevin    8.0                                                  \n",
        "j      Jonas   19.0\n",
        "```"
      ],
      "metadata": {
        "id": "oju0J2PQJXkF"
      }
    },
    {
      "cell_type": "code",
      "source": [
        "import pandas as pd\n",
        "import numpy as np\n",
        "\n",
        "exam_data = {\n",
        "    'name': ['Anastasia', 'Dima', 'Katherine', 'James', 'Emily', 'Michael', 'Matthew', 'Laura', 'Kevin', 'Jonas'],\n",
        "    'score': [12.5, 9, 16.5, np.nan, 9, 20, 14.5, np.nan, 8, 19],\n",
        "    'attempts': [1, 3, 2, 3, 2, 3, 1, 1, 2, 1],\n",
        "    'qualify': ['yes', 'no', 'yes', 'no', 'no', 'yes', 'yes', 'no', 'no', 'yes']\n",
        "}\n",
        "\n",
        "labels = ['a', 'b', 'c', 'd', 'e', 'f', 'g', 'h', 'i', 'j']\n",
        "\n",
        "df = pd.DataFrame(exam_data, index=labels)\n",
        "\n",
        "selected_columns = df[['name', 'score']]\n",
        "\n",
        "print(\"Selected 'name' and 'score' columns:\")\n",
        "print(selected_columns)\n"
      ],
      "metadata": {
        "id": "oG7wUS8HnCoT",
        "outputId": "c25ea565-c002-44d0-8514-560f01a15a1a",
        "colab": {
          "base_uri": "https://localhost:8080/"
        }
      },
      "execution_count": 33,
      "outputs": [
        {
          "output_type": "stream",
          "name": "stdout",
          "text": [
            "Selected 'name' and 'score' columns:\n",
            "        name  score\n",
            "a  Anastasia   12.5\n",
            "b       Dima    9.0\n",
            "c  Katherine   16.5\n",
            "d      James    NaN\n",
            "e      Emily    9.0\n",
            "f    Michael   20.0\n",
            "g    Matthew   14.5\n",
            "h      Laura    NaN\n",
            "i      Kevin    8.0\n",
            "j      Jonas   19.0\n"
          ]
        }
      ]
    },
    {
      "cell_type": "markdown",
      "source": [
        "##5.  Write a Pandas program to select the specified columns and rows from a given data frame.\n",
        "```\n",
        "Sample Python dictionary data and list labels:\n",
        "Select 'name' and 'score' columns in rows 1, 3, 5, 6 from the following data frame.\n",
        "exam_data = {'name': ['Anastasia', 'Dima', 'Katherine', 'James', 'Emily', 'Michael', 'Matthew', 'Laura', 'Kevin', 'Jonas'],\n",
        "'score': [12.5, 9, 16.5, np.nan, 9, 20, 14.5, np.nan, 8, 19],\n",
        "'attempts': [1, 3, 2, 3, 2, 3, 1, 1, 2, 1],\n",
        "'qualify': ['yes', 'no', 'yes', 'no', 'no', 'yes', 'yes', 'no', 'no', 'yes']}\n",
        "labels = ['a', 'b', 'c', 'd', 'e', 'f', 'g', 'h', 'i', 'j']\n",
        "```\n",
        "```\n",
        "Expected Output:\n",
        "Select specific columns and rows:\n",
        "   score qualify\n",
        "b    9.0      no\n",
        "d    NaN      no\n",
        "f   20.0     yes\n",
        "g   14.5     yes\n",
        "\n",
        "```"
      ],
      "metadata": {
        "id": "IPLZcBpjJldx"
      }
    },
    {
      "cell_type": "code",
      "source": [
        "import pandas as pd\n",
        "import numpy as np\n",
        "\n",
        "exam_data = {\n",
        "    'name': ['Anastasia', 'Dima', 'Katherine', 'James', 'Emily', 'Michael', 'Matthew', 'Laura', 'Kevin', 'Jonas'],\n",
        "    'score': [12.5, 9, 16.5, np.nan, 9, 20, 14.5, np.nan, 8, 19],\n",
        "    'attempts': [1, 3, 2, 3, 2, 3, 1, 1, 2, 1],\n",
        "    'qualification': ['yes', 'no', 'yes', 'no', 'no', 'yes', 'yes', 'no', 'no', 'yes']\n",
        "}\n",
        "\n",
        "labels = ['a', 'b', 'c', 'd', 'e', 'f', 'g', 'h', 'i', 'j']\n",
        "\n",
        "df = pd.DataFrame(exam_data, index=labels)\n",
        "\n",
        "selected_rows = df.loc[['b', 'd', 'f', 'g'], ['score', 'qualification']]\n",
        "\n",
        "print(\"Select specific columns and rows:\")\n",
        "print(selected_rows)\n"
      ],
      "metadata": {
        "colab": {
          "base_uri": "https://localhost:8080/"
        },
        "id": "UeQgUnL8nkou",
        "outputId": "13102236-5674-4962-e976-819a2de5fea0"
      },
      "execution_count": 37,
      "outputs": [
        {
          "output_type": "stream",
          "name": "stdout",
          "text": [
            "Select specific columns and rows:\n",
            "   score qualification\n",
            "b    9.0            no\n",
            "d    NaN            no\n",
            "f   20.0           yes\n",
            "g   14.5           yes\n"
          ]
        }
      ]
    },
    {
      "cell_type": "markdown",
      "source": [
        "##6. Write a Pandas program to select the rows where the number of attempts in the examination is greater than 2.\n",
        "\n",
        "```\n",
        "Sample Python dictionary data and list labels:\n",
        "exam_data = {'name': ['Anastasia', 'Dima', 'Katherine', 'James', 'Emily', 'Michael', 'Matthew', 'Laura', 'Kevin', 'Jonas'],\n",
        "'score': [12.5, 9, 16.5, np.nan, 9, 20, 14.5, np.nan, 8, 19],\n",
        "'attempts': [1, 3, 2, 3, 2, 3, 1, 1, 2, 1],\n",
        "'qualify': ['yes', 'no', 'yes', 'no', 'no', 'yes', 'yes', 'no', 'no', 'yes']}\n",
        "labels = ['a', 'b', 'c', 'd', 'e', 'f', 'g', 'h', 'i', 'j']\n",
        "```\n",
        "\n",
        "```\n",
        "Expected Output:\n",
        "Number of attempts in the examination is greater than 2:\n",
        "      name  score  attempts qualify\n",
        "b     Dima    9.0         3      no\n",
        "d    James    NaN         3      no\n",
        "f  Michael   20.0         3     yes\n",
        "\n",
        "```"
      ],
      "metadata": {
        "id": "fTlzhTKbqQ7e"
      }
    },
    {
      "cell_type": "code",
      "source": [
        "import pandas as pd\n",
        "import numpy as np\n",
        "\n",
        "exam_data = {\n",
        "    'name': ['Anastasia', 'Dima', 'Katherine', 'James', 'Emily', 'Michael', 'Matthew', 'Laura', 'Kevin', 'Jonas'],\n",
        "    'score': [12.5, 9, 16.5, np.nan, 9, 20, 14.5, np.nan, 8, 19],\n",
        "    'attempts': [1, 3, 2, 3, 2, 3, 1, 1, 2, 1],\n",
        "    'qualify': ['yes', 'no', 'yes', 'no', 'no', 'yes', 'yes', 'no', 'no', 'yes']\n",
        "}\n",
        "\n",
        "labels = ['a', 'b', 'c', 'd', 'e', 'f', 'g', 'h', 'i', 'j']\n",
        "\n",
        "df = pd.DataFrame(exam_data, index=labels)\n",
        "\n",
        "filtered_df = df[df['attempts'] > 2]\n",
        "\n",
        "print(\"Number of attempts in the examination is greater than 2:\")\n",
        "print(filtered_df)\n"
      ],
      "metadata": {
        "id": "GYfjiqTWAuT3",
        "outputId": "4c121d65-9081-4b76-e9e8-ebbd059e2000",
        "colab": {
          "base_uri": "https://localhost:8080/"
        }
      },
      "execution_count": 39,
      "outputs": [
        {
          "output_type": "stream",
          "name": "stdout",
          "text": [
            "Number of attempts in the examination is greater than 2:\n",
            "      name  score  attempts qualify\n",
            "b     Dima    9.0         3      no\n",
            "d    James    NaN         3      no\n",
            "f  Michael   20.0         3     yes\n"
          ]
        }
      ]
    },
    {
      "cell_type": "markdown",
      "source": [
        "##7. Write a Pandas program to select the rows where the score is missing, i.e. is NaN.\n",
        "\n",
        "```\n",
        "Sample Python dictionary data and list labels:\n",
        "exam_data = {'name': ['Anastasia', 'Dima', 'Katherine', 'James', 'Emily', 'Michael', 'Matthew', 'Laura', 'Kevin', 'Jonas'],\n",
        "'score': [12.5, 9, 16.5, np.nan, 9, 20, 14.5, np.nan, 8, 19],\n",
        "'attempts': [1, 3, 2, 3, 2, 3, 1, 1, 2, 1],\n",
        "'qualify': ['yes', 'no', 'yes', 'no', 'no', 'yes', 'yes', 'no', 'no', 'yes']}\n",
        "labels = ['a', 'b', 'c', 'd', 'e', 'f', 'g', labels = ['a', 'b', 'c', 'd', 'e', 'f', 'g', 'h', 'i', 'j']\n",
        "```\n",
        "\n",
        "```\n",
        "Expected Output:\n",
        "Rows where score is missing:\n",
        "   attempts   name qualify  score\n",
        "d         3  James      no    NaN\n",
        "h         1  Laura      no    NaN\n",
        "\n",
        "```"
      ],
      "metadata": {
        "id": "-8QV9ZHjqa1P"
      }
    },
    {
      "cell_type": "code",
      "source": [
        "import pandas as pd\n",
        "import numpy as np\n",
        "\n",
        "exam_data = {\n",
        "    'name': ['Anastasia', 'Dima', 'Katherine', 'James', 'Emily', 'Michael', 'Matthew', 'Laura', 'Kevin', 'Jonas'],\n",
        "    'score': [12.5, 9, 16.5, np.nan, 9, 20, 14.5, np.nan, 8, 19],\n",
        "    'attempts': [1, 3, 2, 3, 2, 3, 1, 1, 2, 1],\n",
        "    'qualify': ['yes', 'no', 'yes', 'no', 'no', 'yes', 'yes', 'no', 'no', 'yes']\n",
        "}\n",
        "\n",
        "labels = ['a', 'b', 'c', 'd', 'e', 'f', 'g', 'h', 'i', 'j']\n",
        "\n",
        "df = pd.DataFrame(exam_data, index=labels)\n",
        "\n",
        "nan_score_rows = df[df['score'].isna()]\n",
        "\n",
        "print(\"Rows where score is missing:\")\n",
        "print(nan_score_rows)\n"
      ],
      "metadata": {
        "id": "WrUBKXMKqrHF"
      },
      "execution_count": null,
      "outputs": []
    },
    {
      "cell_type": "markdown",
      "source": [
        "##8. Write a Pandas program to select the rows the score is between 15 and 20 (inclusive).\n",
        "```\n",
        "Sample Python dictionary data and list labels:\n",
        "exam_data = {'name': ['Anastasia', 'Dima', 'Katherine', 'James', 'Emily', 'Michael', 'Matthew', 'Laura', 'Kevin', 'Jonas'],\n",
        "'score': [12.5, 9, 16.5, np.nan, 9, 20, 14.5, np.nan, 8, 19],\n",
        "'attempts': [1, 3, 2, 3, 2, 3, 1, 1, 2, 1],\n",
        "'qualify': ['yes', 'no', 'yes', 'no', 'no', 'yes', 'yes', 'no', 'no', 'yes']}\n",
        "labels = ['a', 'b', 'c', 'd', 'e', 'f', 'g', labels = ['a', 'b', 'c', 'd', 'e', 'f', 'g', 'h', 'i', 'j']\n",
        "```\n",
        "```\n",
        "Expected Output:\n",
        "Rows where score between 15 and 20 (inclusive):                        \n",
        "   attempts       name qualify  score                                  \n",
        "c         2  Katherine     yes   16.5                                \n",
        "f         3    Michael     yes   20.0                                 \n",
        "j         1      Jonas     yes   19.0\n",
        "```\n"
      ],
      "metadata": {
        "id": "Wul2T54jqvf0"
      }
    },
    {
      "cell_type": "code",
      "source": [
        "import pandas as pd\n",
        "import numpy as np\n",
        "\n",
        "exam_data = {\n",
        "    'name': ['Anastasia', 'Dima', 'Katherine', 'James', 'Emily', 'Michael', 'Matthew', 'Laura', 'Kevin', 'Jonas'],\n",
        "    'score': [12.5, 9, 16.5, np.nan, 9, 20, 14.5, np.nan, 8, 19],\n",
        "    'attempts': [1, 3, 2, 3, 2, 3, 1, 1, 2, 1],\n",
        "    'qualify': ['yes', 'no', 'yes', 'no', 'no', 'yes', 'yes', 'no', 'no', 'yes']\n",
        "}\n",
        "\n",
        "labels = ['a', 'b', 'c', 'd', 'e', 'f', 'g', 'h', 'i', 'j']\n",
        "\n",
        "df = pd.DataFrame(exam_data, index=labels)\n",
        "\n",
        "score_between_15_and_20 = df[(df['score'] >= 15) & (df['score'] <= 20)]\n",
        "\n",
        "print(\"Rows where score is between 15 and 20 (inclusive):\")\n",
        "print(score_between_15_and_20)\n"
      ],
      "metadata": {
        "id": "gpB-XPmJq0x1",
        "outputId": "9e97d411-4dee-4593-d029-edc2bd72ad0d",
        "colab": {
          "base_uri": "https://localhost:8080/"
        }
      },
      "execution_count": 40,
      "outputs": [
        {
          "output_type": "stream",
          "name": "stdout",
          "text": [
            "Rows where score is between 15 and 20 (inclusive):\n",
            "        name  score  attempts qualify\n",
            "c  Katherine   16.5         2     yes\n",
            "f    Michael   20.0         3     yes\n",
            "j      Jonas   19.0         1     yes\n"
          ]
        }
      ]
    },
    {
      "cell_type": "markdown",
      "source": [
        "##9. Write a Pandas program to select the rows where number of attempts in the examination is less than 2 and score greater than 15.\n",
        "\n",
        "```\n",
        "Sample Python dictionary data and list labels:\n",
        "exam_data = {'name': ['Anastasia', 'Dima', 'Katherine', 'James', 'Emily', 'Michael', 'Matthew', 'Laura', 'Kevin', 'Jonas'],\n",
        "'score': [12.5, 9, 16.5, np.nan, 9, 20, 14.5, np.nan, 8, 19],\n",
        "'attempts': [1, 3, 2, 3, 2, 3, 1, 1, 2, 1],\n",
        "'qualify': ['yes', 'no', 'yes', 'no', 'no', 'yes', 'yes', 'no', 'no', 'yes']}\n",
        "labels = ['a', 'b', 'c', 'd', 'e', 'f', 'g', labels = ['a', 'b', 'c', 'd', 'e', 'f', 'g', 'h', 'i', 'j']\n",
        "```\n",
        "```\n",
        "Expected Output:\n",
        "Number of attempts in the examination is less than 2 and score greater than 15 :\n",
        "    name  score  attempts qualify\n",
        "j  Jonas   19.0         1     yes\n",
        "\n",
        "```"
      ],
      "metadata": {
        "id": "W6WRzh-uq5Ln"
      }
    },
    {
      "cell_type": "code",
      "source": [
        "import pandas as pd\n",
        "import numpy as np\n",
        "\n",
        "exam_data = {\n",
        "    'name': ['Anastasia', 'Dima', 'Katherine', 'James', 'Emily', 'Michael', 'Matthew', 'Laura', 'Kevin', 'Jonas'],\n",
        "    'score': [12.5, 9, 16.5, np.nan, 9, 20, 14.5, np.nan, 8, 19],\n",
        "    'attempts': [1, 3, 2, 3, 2, 3, 1, 1, 2, 1],\n",
        "    'qualify': ['yes', 'no', 'yes', 'no', 'no', 'yes', 'yes', 'no', 'no', 'yes']\n",
        "}\n",
        "\n",
        "labels = ['a', 'b', 'c', 'd', 'e', 'f', 'g', 'h', 'i', 'j']\n",
        "\n",
        "df = pd.DataFrame(exam_data, index=labels)\n",
        "\n",
        "result = df[(df['attempts'] < 2) & (df['score'] > 15)]\n",
        "\n",
        "print(\"Number of attempts in the examination is less than 2 and score greater than 15:\")\n",
        "print(result)\n"
      ],
      "metadata": {
        "id": "aQn-wclU2PmH",
        "outputId": "b6c2119f-d358-44db-f897-9d4f43c903a9",
        "colab": {
          "base_uri": "https://localhost:8080/"
        }
      },
      "execution_count": 41,
      "outputs": [
        {
          "output_type": "stream",
          "name": "stdout",
          "text": [
            "Number of attempts in the examination is less than 2 and score greater than 15:\n",
            "    name  score  attempts qualify\n",
            "j  Jonas   19.0         1     yes\n"
          ]
        }
      ]
    },
    {
      "cell_type": "markdown",
      "source": [
        "##10. Write a Pandas program to change the score in row 'd' to 11.5.\n",
        "\n",
        "```\n",
        "Sample Python dictionary data and list labels:\n",
        "exam_data = {'name': ['Anastasia', 'Dima', 'Katherine', 'James', 'Emily', 'Michael', 'Matthew', 'Laura', 'Kevin', 'Jonas'],\n",
        "'score': [12.5, 9, 16.5, np.nan, 9, 20, 14.5, np.nan, 8, 19],\n",
        "'attempts': [1, 3, 2, 3, 2, 3, 1, 1, 2, 1],\n",
        "'qualify': ['yes', 'no', 'yes', 'no', 'no', 'yes', 'yes', 'no', 'no', 'yes']}\n",
        "labels = ['a', 'b', 'c', 'd', 'e', 'f', 'g', 'h', 'i', 'j']\n",
        "\n",
        "```\n",
        "\n",
        "```\n",
        "Expected Output:\n",
        "Change the score in row 'd' to 11.5:                                  \n",
        "   attempts       name qualify  score                                \n",
        "a         1  Anastasia     yes   12.5                               \n",
        "b         3       Dima      no    9.0                                \n",
        "c         2  Katherine     yes   16.5\n",
        "...                                \n",
        "i         2      Kevin      no    8.0                                 \n",
        "j         1      Jonas     yes   19.0\n",
        "\n",
        "```"
      ],
      "metadata": {
        "id": "pUnX1JFJrLmD"
      }
    },
    {
      "cell_type": "code",
      "source": [
        "import pandas as pd\n",
        "import numpy as np\n",
        "\n",
        "exam_data = {\n",
        "    'name': ['Anastasia', 'Dima', 'Katherine', 'James', 'Emily', 'Michael', 'Matthew', 'Laura', 'Kevin', 'Jonas'],\n",
        "    'score': [12.5, 9, 16.5, np.nan, 9, 20, 14.5, np.nan, 8, 19],\n",
        "    'attempts': [1, 3, 2, 3, 2, 3, 1, 1, 2, 1],\n",
        "    'qualify': ['yes', 'no', 'yes', 'no', 'no', 'yes', 'yes', 'no', 'no', 'yes']\n",
        "}\n",
        "\n",
        "labels = ['a', 'b', 'c', 'd', 'e', 'f', 'g', 'h', 'i', 'j']\n",
        "\n",
        "df = pd.DataFrame(exam_data, index=labels)\n",
        "\n",
        "df.at['d', 'score'] = 11.5\n",
        "\n",
        "print(\"Change the score in row 'd' to 11.5:\")\n",
        "print(df)\n"
      ],
      "metadata": {
        "id": "wxhJfGnarSMH",
        "outputId": "9502e00e-cbc1-4395-f003-82cfe87a53b9",
        "colab": {
          "base_uri": "https://localhost:8080/"
        }
      },
      "execution_count": 42,
      "outputs": [
        {
          "output_type": "stream",
          "name": "stdout",
          "text": [
            "Change the score in row 'd' to 11.5:\n",
            "        name  score  attempts qualify\n",
            "a  Anastasia   12.5         1     yes\n",
            "b       Dima    9.0         3      no\n",
            "c  Katherine   16.5         2     yes\n",
            "d      James   11.5         3      no\n",
            "e      Emily    9.0         2      no\n",
            "f    Michael   20.0         3     yes\n",
            "g    Matthew   14.5         1     yes\n",
            "h      Laura    NaN         1      no\n",
            "i      Kevin    8.0         2      no\n",
            "j      Jonas   19.0         1     yes\n"
          ]
        }
      ]
    },
    {
      "cell_type": "markdown",
      "source": [
        "##11. Write a Pandas program to calculate the sum of the examination attempts by the students.\n",
        "```\n",
        "Sample Python dictionary data and list labels:\n",
        "exam_data = {'name': ['Anastasia', 'Dima', 'Katherine', 'James', 'Emily', 'Michael', 'Matthew', 'Laura', 'Kevin', 'Jonas'],\n",
        "'score': [12.5, 9, 16.5, np.nan, 9, 20, 14.5, np.nan, 8, 19],\n",
        "'attempts': [1, 3, 2, 3, 2, 3, 1, 1, 2, 1],\n",
        "'qualify': ['yes', 'no', 'yes', 'no', 'no', 'yes', 'yes', 'no', 'no', 'yes']}\n",
        "labels = ['a', 'b', 'c', 'd', 'e', 'f', 'g', 'h', 'i', 'j']\n",
        "```\n",
        "```\n",
        "Expected Output:\n",
        "Sum of the examination attempts by the students:                     \n",
        "19\n",
        "```"
      ],
      "metadata": {
        "id": "AwcBiDaSrTM3"
      }
    },
    {
      "cell_type": "code",
      "source": [
        "import pandas as pd\n",
        "import numpy as np\n",
        "\n",
        "exam_data = {\n",
        "    'name': ['Anastasia', 'Dima', 'Katherine', 'James', 'Emily', 'Michael', 'Matthew', 'Laura', 'Kevin', 'Jonas'],\n",
        "    'score': [12.5, 9, 16.5, np.nan, 9, 20, 14.5, np.nan, 8, 19],\n",
        "    'attempts': [1, 3, 2, 3, 2, 3, 1, 1, 2, 1],\n",
        "    'qualify': ['yes', 'no', 'yes', 'no', 'no', 'yes', 'yes', 'no', 'no', 'yes']\n",
        "}\n",
        "\n",
        "labels = ['a', 'b', 'c', 'd', 'e', 'f', 'g', 'h', 'i', 'j']\n",
        "\n",
        "df = pd.DataFrame(exam_data, index=labels)\n",
        "\n",
        "total_attempts = df['attempts'].sum()\n",
        "\n",
        "print(f\"Sum of the examination attempts by the students: {total_attempts}\")\n"
      ],
      "metadata": {
        "id": "G6ebFduRrZ6D",
        "outputId": "baaa9f88-dc47-4c3c-8bc2-4525dd2b0cfc",
        "colab": {
          "base_uri": "https://localhost:8080/"
        }
      },
      "execution_count": 43,
      "outputs": [
        {
          "output_type": "stream",
          "name": "stdout",
          "text": [
            "Sum of the examination attempts by the students: 19\n"
          ]
        }
      ]
    },
    {
      "cell_type": "markdown",
      "source": [
        "##12. Write a Pandas program to calculate the mean of all students' scores. Data is stored in a dataframe.\n",
        "```\n",
        "Sample Python dictionary data and list labels:\n",
        "exam_data = {'name': ['Anastasia', 'Dima', 'Katherine', 'James', 'Emily', 'Michael', 'Matthew', 'Laura', 'Kevin', 'Jonas'],\n",
        "'score': [12.5, 9, 16.5, np.nan, 9, 20, 14.5, np.nan, 8, 19],\n",
        "'attempts': [1, 3, 2, 3, 2, 3, 1, 1, 2, 1],\n",
        "'qualify': ['yes', 'no', 'yes', 'no', 'no', 'yes', 'yes', 'no', 'no', 'yes']}\n",
        "labels = ['a', 'b', 'c', 'd', 'e', 'f', 'g', 'h', 'i', 'j']\n",
        "```\n",
        "```\n",
        "Expected Output:\n",
        "Mean score for each different student in data frame:                  \n",
        "13.5625\n",
        "```"
      ],
      "metadata": {
        "id": "NCpyXg-Jrfjr"
      }
    },
    {
      "cell_type": "code",
      "source": [
        "import pandas as pd\n",
        "import numpy as np\n",
        "\n",
        "exam_data = {\n",
        "    'name': ['Anastasia', 'Dima', 'Katherine', 'James', 'Emily', 'Michael', 'Matthew', 'Laura', 'Kevin', 'Jonas'],\n",
        "    'score': [12.5, 9, 16.5, np.nan, 9, 20, 14.5, np.nan, 8, 19],\n",
        "    'attempts': [1, 3, 2, 3, 2, 3, 1, 1, 2, 1],\n",
        "    'qualify': ['yes', 'no', 'yes', 'no', 'no', 'yes', 'yes', 'no', 'no', 'yes']\n",
        "}\n",
        "\n",
        "labels = ['a', 'b', 'c', 'd', 'e', 'f', 'g', 'h', 'i', 'j']\n",
        "\n",
        "df = pd.DataFrame(exam_data, index=labels)\n",
        "\n",
        "mean_score = df['score'].mean()\n",
        "\n",
        "print(f\"Mean score for each different student in data frame: {mean_score}\")\n"
      ],
      "metadata": {
        "id": "87dA6nqarop9",
        "outputId": "2de17fb9-6598-475d-ecf8-c2e7bd4f37e5",
        "colab": {
          "base_uri": "https://localhost:8080/"
        }
      },
      "execution_count": 44,
      "outputs": [
        {
          "output_type": "stream",
          "name": "stdout",
          "text": [
            "Mean score for each different student in data frame: 13.5625\n"
          ]
        }
      ]
    },
    {
      "cell_type": "markdown",
      "source": [
        "##13. Write a Pandas program to replace the 'qualify' column contains the values 'yes' and 'no' with True and False.\n",
        "\n",
        "```\n",
        "Sample Python dictionary data and list labels:\n",
        "exam_data = {'name': ['Anastasia', 'Dima', 'Katherine', 'James', 'Emily', 'Michael', 'Matthew', 'Laura', 'Kevin', 'Jonas'],\n",
        "'score': [12.5, 9, 16.5, np.nan, 9, 20, 14.5, np.nan, 8, 19],\n",
        "'attempts': [1, 3, 2, 3, 2, 3, 1, 1, 2, 1],\n",
        "'qualify': ['yes', 'no', 'yes', 'no', 'no', 'yes', 'yes', 'no', 'no', 'yes']}\n",
        "labels = ['a', 'b', 'c', 'd', 'e', 'f', 'g', 'h', 'i', 'j']\n",
        "```\n",
        "\n",
        "```\n",
        "Expected Output:\n",
        "Replace the 'qualify' column contains the values 'yes' and 'no'  with T\n",
        "rue and  False:                                                      \n",
        "   attempts       name  qualify  score                              \n",
        "a         1  Anastasia     True   12.5                          \n",
        "b         3       Dima    False    9.0                              \n",
        "......                           \n",
        "i         2      Kevin    False    8.0                                 \n",
        "j         1      Jonas     True   19.0\n",
        "```"
      ],
      "metadata": {
        "id": "1fZOVLG9sLTo"
      }
    },
    {
      "cell_type": "code",
      "source": [
        "import pandas as pd\n",
        "import numpy as np\n",
        "\n",
        "exam_data = {\n",
        "    'name': ['Anastasia', 'Dima', 'Katherine', 'James', 'Emily', 'Michael', 'Matthew', 'Laura', 'Kevin', 'Jonas'],\n",
        "    'score': [12.5, 9, 16.5, np.nan, 9, 20, 14.5, np.nan, 8, 19],\n",
        "    'attempts': [1, 3, 2, 3, 2, 3, 1, 1, 2, 1],\n",
        "    'qualify': ['yes', 'no', 'yes', 'no', 'no', 'yes', 'yes', 'no', 'no', 'yes']\n",
        "}\n",
        "\n",
        "labels = ['a', 'b', 'c', 'd', 'e', 'f', 'g', 'h', 'i', 'j']\n",
        "\n",
        "df = pd.DataFrame(exam_data, index=labels)\n",
        "\n",
        "df['qualify'] = df['qualify'].replace({'yes': True, 'no': False})\n",
        "\n",
        "print(\"Replace the 'qualify' column contains the values 'yes' and 'no' with True and False:\")\n",
        "print(df)\n"
      ],
      "metadata": {
        "id": "zIup3T_OsRd7",
        "outputId": "b1eaa7aa-4698-462e-c8ed-41c3e696fe2f",
        "colab": {
          "base_uri": "https://localhost:8080/"
        }
      },
      "execution_count": 45,
      "outputs": [
        {
          "output_type": "stream",
          "name": "stdout",
          "text": [
            "Replace the 'qualify' column contains the values 'yes' and 'no' with True and False:\n",
            "        name  score  attempts  qualify\n",
            "a  Anastasia   12.5         1     True\n",
            "b       Dima    9.0         3    False\n",
            "c  Katherine   16.5         2     True\n",
            "d      James    NaN         3    False\n",
            "e      Emily    9.0         2    False\n",
            "f    Michael   20.0         3     True\n",
            "g    Matthew   14.5         1     True\n",
            "h      Laura    NaN         1    False\n",
            "i      Kevin    8.0         2    False\n",
            "j      Jonas   19.0         1     True\n"
          ]
        }
      ]
    },
    {
      "cell_type": "markdown",
      "source": [
        "##14. Write a Pandas program to change the name 'James' to 'Suresh' in name column of the DataFrame.\n",
        "\n",
        "```\n",
        "Sample Python dictionary data and list labels:\n",
        "exam_data = {'name': ['Anastasia', 'Dima', 'Katherine', 'James', 'Emily', 'Michael', 'Matthew', 'Laura', 'Kevin', 'Jonas'],\n",
        "'score': [12.5, 9, 16.5, np.nan, 9, 20, 14.5, np.nan, 8, 19],\n",
        "'attempts': [1, 3, 2, 3, 2, 3, 1, 1, 2, 1],\n",
        "'qualify': ['yes', 'no', 'yes', 'no', 'no', 'yes', 'yes', 'no', 'no', 'yes']}\n",
        "labels = ['a', 'b', 'c', 'd', 'e', 'f', 'g', 'h', 'i', 'j']\n",
        "```\n",
        "```\n",
        "Expected Output:\n",
        "Change the name 'James' to \\?Suresh\\?:                                \n",
        "   attempts       name qualify  score                                  \n",
        "a         1  Anastasia     yes   12.5                                  \n",
        "b         3       Dima      no    9.0                                  \n",
        ".......                               \n",
        "i         2      Kevin      no    8.0                                 \n",
        "j         1      Jonas     yes   19.0\n",
        "```"
      ],
      "metadata": {
        "id": "VevSITkvsSH-"
      }
    },
    {
      "cell_type": "code",
      "source": [
        "import pandas as pd\n",
        "import numpy as np\n",
        "\n",
        "exam_data = {\n",
        "    'name': ['Anastasia', 'Dima', 'Katherine', 'James', 'Emily', 'Michael', 'Matthew', 'Laura', 'Kevin', 'Jonas'],\n",
        "    'score': [12.5, 9, 16.5, np.nan, 9, 20, 14.5, np.nan, 8, 19],\n",
        "    'attempts': [1, 3, 2, 3, 2, 3, 1, 1, 2, 1],\n",
        "    'qualify': ['yes', 'no', 'yes', 'no', 'no', 'yes', 'yes', 'no', 'no', 'yes']\n",
        "}\n",
        "\n",
        "labels = ['a', 'b', 'c', 'd', 'e', 'f', 'g', 'h', 'i', 'j']\n",
        "\n",
        "df = pd.DataFrame(exam_data, index=labels)\n",
        "\n",
        "df['name'] = df['name'].replace('James', 'Suresh')\n",
        "\n",
        "print(\"Change the name 'James' to 'Suresh':\")\n",
        "print(df)\n"
      ],
      "metadata": {
        "id": "GPlad_JGsZuF",
        "outputId": "777e6443-4dc5-4755-8e41-65c9fb88c304",
        "colab": {
          "base_uri": "https://localhost:8080/"
        }
      },
      "execution_count": 46,
      "outputs": [
        {
          "output_type": "stream",
          "name": "stdout",
          "text": [
            "Change the name 'James' to 'Suresh':\n",
            "        name  score  attempts qualify\n",
            "a  Anastasia   12.5         1     yes\n",
            "b       Dima    9.0         3      no\n",
            "c  Katherine   16.5         2     yes\n",
            "d     Suresh    NaN         3      no\n",
            "e      Emily    9.0         2      no\n",
            "f    Michael   20.0         3     yes\n",
            "g    Matthew   14.5         1     yes\n",
            "h      Laura    NaN         1      no\n",
            "i      Kevin    8.0         2      no\n",
            "j      Jonas   19.0         1     yes\n"
          ]
        }
      ]
    },
    {
      "cell_type": "markdown",
      "source": [
        "##15. Write a Pandas program to delete the 'attempts' column from the DataFrame.\n",
        "```\n",
        "Sample Python dictionary data and list labels:\n",
        "exam_data = {'name': ['Anastasia', 'Dima', 'Katherine', 'James', 'Emily', 'Michael', 'Matthew', 'Laura', 'Kevin', 'Jonas'],\n",
        "'score': [12.5, 9, 16.5, np.nan, 9, 20, 14.5, np.nan, 8, 19],\n",
        "'attempts': [1, 3, 2, 3, 2, 3, 1, 1, 2, 1],\n",
        "'qualify': ['yes', 'no', 'yes', 'no', 'no', 'yes', 'yes', 'no', 'no', 'yes']}\n",
        "labels = ['a', 'b', 'c', 'd', 'e', 'f', 'g', 'h', 'i', 'j']\n",
        "```\n",
        "```\n",
        "Expected Output:\n",
        "Delete the 'attempts' column from the data frame:                    \n",
        "        name qualify  score                                          \n",
        "a  Anastasia     yes   12.5                                           \n",
        "b       Dima      no    9.0                                          \n",
        ".....                                       \n",
        "i      Kevin      no    8.0                                          \n",
        "j      Jonas     yes   19.0\n",
        "```"
      ],
      "metadata": {
        "id": "SOkgCA-XsftL"
      }
    },
    {
      "cell_type": "code",
      "source": [
        "import pandas as pd\n",
        "import numpy as np\n",
        "\n",
        "exam_data = {\n",
        "    'name': ['Anastasia', 'Dima', 'Katherine', 'James', 'Emily', 'Michael', 'Matthew', 'Laura', 'Kevin', 'Jonas'],\n",
        "    'score': [12.5, 9, 16.5, np.nan, 9, 20, 14.5, np.nan, 8, 19],\n",
        "    'attempts': [1, 3, 2, 3, 2, 3, 1, 1, 2, 1],\n",
        "    'qualify': ['yes', 'no', 'yes', 'no', 'no', 'yes', 'yes', 'no', 'no', 'yes']\n",
        "}\n",
        "\n",
        "labels = ['a', 'b', 'c', 'd', 'e', 'f', 'g', 'h', 'i', 'j']\n",
        "\n",
        "df = pd.DataFrame(exam_data, index=labels)\n",
        "\n",
        "df = df.drop(columns=['attempts'])\n",
        "\n",
        "print(\"Delete the 'attempts' column from the data frame:\")\n",
        "print(df)\n"
      ],
      "metadata": {
        "id": "6YhM9w0qsjpQ",
        "outputId": "9383aa5b-eede-451a-82db-2a15b113ed70",
        "colab": {
          "base_uri": "https://localhost:8080/"
        }
      },
      "execution_count": 47,
      "outputs": [
        {
          "output_type": "stream",
          "name": "stdout",
          "text": [
            "Delete the 'attempts' column from the data frame:\n",
            "        name  score qualify\n",
            "a  Anastasia   12.5     yes\n",
            "b       Dima    9.0      no\n",
            "c  Katherine   16.5     yes\n",
            "d      James    NaN      no\n",
            "e      Emily    9.0      no\n",
            "f    Michael   20.0     yes\n",
            "g    Matthew   14.5     yes\n",
            "h      Laura    NaN      no\n",
            "i      Kevin    8.0      no\n",
            "j      Jonas   19.0     yes\n"
          ]
        }
      ]
    },
    {
      "cell_type": "markdown",
      "source": [
        "##16.  Write a Pandas program to insert a new column in existing DataFrame.\n",
        "\n",
        "```\n",
        "Sample Python dictionary data and list labels:\n",
        "exam_data = {'name': ['Anastasia', 'Dima', 'Katherine', 'James', 'Emily', 'Michael', 'Matthew', 'Laura', 'Kevin', 'Jonas'],\n",
        "'score': [12.5, 9, 16.5, np.nan, 9, 20, 14.5, np.nan, 8, 19],\n",
        "'attempts': [1, 3, 2, 3, 2, 3, 1, 1, 2, 1],\n",
        "'qualify': ['yes', 'no', 'yes', 'no', 'no', 'yes', 'yes', 'no', 'no', 'yes']}\n",
        "labels = ['a', 'b', 'c', 'd', 'e', 'f', 'g', 'h', 'i', 'j']\n",
        "```\n",
        "```\n",
        "Expected Output:\n",
        "New DataFrame after inserting the 'color' column                       \n",
        "   attempts       name qualify  score   color                       \n",
        "a         1  Anastasia     yes   12.5     Red                         \n",
        "b         3       Dima      no    9.0    Blue                        \n",
        ".......                     \n",
        "i         2      Kevin      no    8.0   Green                        \n",
        "j         1      Jonas     yes   19.0     Red\n",
        "```"
      ],
      "metadata": {
        "id": "jMcYKDVqsxwV"
      }
    },
    {
      "cell_type": "code",
      "source": [
        "import pandas as pd\n",
        "import numpy as np\n",
        "\n",
        "exam_data = {\n",
        "    'name': ['Anastasia', 'Dima', 'Katherine', 'James', 'Emily', 'Michael', 'Matthew', 'Laura', 'Kevin', 'Jonas'],\n",
        "    'score': [12.5, 9, 16.5, np.nan, 9, 20, 14.5, np.nan, 8, 19],\n",
        "    'attempts': [1, 3, 2, 3, 2, 3, 1, 1, 2, 1],\n",
        "    'qualify': ['yes', 'no', 'yes', 'no', 'no', 'yes', 'yes', 'no', 'no', 'yes']\n",
        "}\n",
        "\n",
        "labels = ['a', 'b', 'c', 'd', 'e', 'f', 'g', 'h', 'i', 'j']\n",
        "\n",
        "df = pd.DataFrame(exam_data, index=labels)\n",
        "\n",
        "color_data = ['Red', 'Blue', 'Green', 'Yellow', 'Black', 'White', 'Red', 'Blue', 'Green', 'Red']\n",
        "\n",
        "df['color'] = color_data\n",
        "\n",
        "print(\"New DataFrame after inserting the 'color' column:\")\n",
        "print(df)\n"
      ],
      "metadata": {
        "id": "gVRGJuO0s2gS",
        "outputId": "842055f1-3f9a-428b-86cb-6b7aa119a072",
        "colab": {
          "base_uri": "https://localhost:8080/"
        }
      },
      "execution_count": 48,
      "outputs": [
        {
          "output_type": "stream",
          "name": "stdout",
          "text": [
            "New DataFrame after inserting the 'color' column:\n",
            "        name  score  attempts qualify   color\n",
            "a  Anastasia   12.5         1     yes     Red\n",
            "b       Dima    9.0         3      no    Blue\n",
            "c  Katherine   16.5         2     yes   Green\n",
            "d      James    NaN         3      no  Yellow\n",
            "e      Emily    9.0         2      no   Black\n",
            "f    Michael   20.0         3     yes   White\n",
            "g    Matthew   14.5         1     yes     Red\n",
            "h      Laura    NaN         1      no    Blue\n",
            "i      Kevin    8.0         2      no   Green\n",
            "j      Jonas   19.0         1     yes     Red\n"
          ]
        }
      ]
    },
    {
      "cell_type": "markdown",
      "source": [
        "##17.  Write a Pandas program to rename columns of a given DataFrame\n",
        "\n",
        "```\n",
        "Sample data:\n",
        "Original DataFrame\n",
        "   col1  col2  col3\n",
        "0     1     4     7\n",
        "1     2     5     8\n",
        "2     3     6     9\n",
        "New DataFrame after renaming columns:\n",
        "   Column1  Column2  Column3\n",
        "0        1        4        7\n",
        "1        2        5        8\n",
        "2        3        6        9\n",
        "```"
      ],
      "metadata": {
        "id": "hfw-zYXNs8P2"
      }
    },
    {
      "cell_type": "code",
      "source": [
        "import pandas as pd\n",
        "\n",
        "df = pd.DataFrame({\n",
        "    'col1': [1, 2, 3],\n",
        "    'col2': [4, 5, 6],\n",
        "    'col3': [7, 8, 9]\n",
        "})\n",
        "\n",
        "print(\"Original DataFrame:\")\n",
        "print(df)\n",
        "\n",
        "df_renamed = df.rename(columns={'col1': 'Column1', 'col2': 'Column2', 'col3': 'Column3'})\n",
        "\n",
        "print(\"\\nNew DataFrame after renaming columns:\")\n",
        "print(df_renamed)\n"
      ],
      "metadata": {
        "id": "Mddzpu09s_EU",
        "outputId": "4ccc2173-4e1d-48b0-e79d-0df9eba6dc00",
        "colab": {
          "base_uri": "https://localhost:8080/"
        }
      },
      "execution_count": 49,
      "outputs": [
        {
          "output_type": "stream",
          "name": "stdout",
          "text": [
            "Original DataFrame:\n",
            "   col1  col2  col3\n",
            "0     1     4     7\n",
            "1     2     5     8\n",
            "2     3     6     9\n",
            "\n",
            "New DataFrame after renaming columns:\n",
            "   Column1  Column2  Column3\n",
            "0        1        4        7\n",
            "1        2        5        8\n",
            "2        3        6        9\n"
          ]
        }
      ]
    },
    {
      "cell_type": "markdown",
      "source": [
        "##18. Write a Pandas program to select rows from a given DataFrame based on values in some columns.\n",
        "```\n",
        "Sample data:\n",
        "Original DataFrame\n",
        "   col1  col2  col3\n",
        "0     1     4     7\n",
        "1     4     5     8\n",
        "2     3     6     9\n",
        "3     4     7     0\n",
        "4     5     8     1\n",
        "Rows for colum1 value == 4\n",
        "   col1  col2  col3\n",
        "1     4     5     8\n",
        "3     4     7     0\n",
        "```"
      ],
      "metadata": {
        "id": "ohV2QQQgtCg4"
      }
    },
    {
      "cell_type": "code",
      "source": [
        "import pandas as pd\n",
        "\n",
        "df = pd.DataFrame({\n",
        "    'col1': [1, 4, 3, 4, 5],\n",
        "    'col2': [4, 5, 6, 7, 8],\n",
        "    'col3': [7, 8, 9, 0, 1]\n",
        "})\n",
        "\n",
        "print(\"Original DataFrame:\")\n",
        "print(df)\n",
        "\n",
        "filtered_df = df[df['col1'] == 4]\n",
        "\n",
        "print(\"\\nRows for col1 value == 4:\")\n",
        "print(filtered_df)\n"
      ],
      "metadata": {
        "id": "yQ3wBxhztFUi",
        "outputId": "0259c89c-4591-4707-c1d5-638d1955715a",
        "colab": {
          "base_uri": "https://localhost:8080/"
        }
      },
      "execution_count": 50,
      "outputs": [
        {
          "output_type": "stream",
          "name": "stdout",
          "text": [
            "Original DataFrame:\n",
            "   col1  col2  col3\n",
            "0     1     4     7\n",
            "1     4     5     8\n",
            "2     3     6     9\n",
            "3     4     7     0\n",
            "4     5     8     1\n",
            "\n",
            "Rows for col1 value == 4:\n",
            "   col1  col2  col3\n",
            "1     4     5     8\n",
            "3     4     7     0\n"
          ]
        }
      ]
    },
    {
      "cell_type": "markdown",
      "source": [
        "##19. Write a Pandas program to add one row in an existing DataFrame.\n",
        "\n",
        "```\n",
        "Sample data:\n",
        "Original DataFrame\n",
        "   col1  col2  col3\n",
        "0     1     4     7\n",
        "1     4     5     8\n",
        "2     3     6     9\n",
        "3     4     7     0\n",
        "4     5     8     1\n",
        "After add one row:\n",
        "   col1  col2  col3\n",
        "0     1     4     7\n",
        "1     4     5     8\n",
        "2     3     6     9\n",
        "3     4     7     0\n",
        "4     5     8     1\n",
        "5    10    11    12\n",
        "```"
      ],
      "metadata": {
        "id": "TWHWrlCVtOCr"
      }
    },
    {
      "cell_type": "code",
      "source": [
        "import pandas as pd\n",
        "\n",
        "df = pd.DataFrame({\n",
        "    'col1': [1, 4, 3, 4, 5],\n",
        "    'col2': [4, 5, 6, 7, 8],\n",
        "    'col3': [7, 8, 9, 0, 1]\n",
        "})\n",
        "\n",
        "print(\"Original DataFrame:\")\n",
        "print(df)\n",
        "\n",
        "new_row = pd.Series([10, 11, 12], index=['col1', 'col2', 'col3'])\n",
        "\n",
        "df = pd.concat([df,pd.DataFrame([new_row])],ignore_index=True)\n",
        "\n",
        "print(\"\\nAfter adding one row:\")\n",
        "print(df)\n"
      ],
      "metadata": {
        "id": "psVnuNJvtQ8d",
        "outputId": "66c03562-ea32-4de9-8a89-60385d3eb7f6",
        "colab": {
          "base_uri": "https://localhost:8080/"
        }
      },
      "execution_count": 70,
      "outputs": [
        {
          "output_type": "stream",
          "name": "stdout",
          "text": [
            "Original DataFrame:\n",
            "   col1  col2  col3\n",
            "0     1     4     7\n",
            "1     4     5     8\n",
            "2     3     6     9\n",
            "3     4     7     0\n",
            "4     5     8     1\n",
            "\n",
            "After adding one row:\n",
            "   col1  col2  col3\n",
            "0     1     4     7\n",
            "1     4     5     8\n",
            "2     3     6     9\n",
            "3     4     7     0\n",
            "4     5     8     1\n",
            "5    10    11    12\n"
          ]
        }
      ]
    },
    {
      "cell_type": "markdown",
      "source": [
        "##20. Write a Pandas program to replace all the NaN values with Zero's in a column of a dataframe.\n",
        "\n",
        "```\n",
        "Sample data:\n",
        "Original DataFrame\n",
        "\n",
        "   attempts       name qualify  score\n",
        "0         1  Anastasia     yes   12.5\n",
        "1         3       Dima      no    9.0\n",
        "2         2  Katherine     yes   16.5\n",
        ".....\n",
        "8         2      Kevin      no    8.0\n",
        "9         1      Jonas     yes   19.0\n",
        "\n",
        "```\n",
        "```\n",
        "\n",
        "New DataFrame replacing all NaN with 0:\n",
        "   attempts       name qualify  score\n",
        "0         1  Anastasia     yes   12.5\n",
        "1         3       Dima      no    9.0\n",
        "2         2  Katherine     yes   16.5\n",
        ".....\n",
        "8         2      Kevin      no    8.0\n",
        "9         1      Jonas     yes   19.0\n",
        "```"
      ],
      "metadata": {
        "id": "5UFVkEYMteus"
      }
    },
    {
      "cell_type": "code",
      "source": [
        "import pandas as pd\n",
        "import numpy as np\n",
        "\n",
        "df = pd.DataFrame({\n",
        "    'attempts': [1, 3, 2, 3, 2, 3, 1, 1, 2, 1],\n",
        "    'name': ['Anastasia', 'Dima', 'Katherine', 'James', 'Emily', 'Michael', 'Matthew', 'Laura', 'Kevin', 'Jonas'],\n",
        "    'qualify': ['yes', 'no', 'yes', 'no', 'no', 'yes', 'yes', 'no', 'no', 'yes'],\n",
        "    'score': [12.5, 9.0, 16.5, np.nan, 9.0, 20.0, 14.5, np.nan, 8.0, 19.0]\n",
        "})\n",
        "\n",
        "print(\"Original DataFrame:\")\n",
        "print(df)\n",
        "\n",
        "df['score'] = df['score'].fillna(0)\n",
        "\n",
        "print(\"\\nNew DataFrame replacing all NaN with 0:\")\n",
        "print(df)\n"
      ],
      "metadata": {
        "id": "GII1oSuNtjX7",
        "outputId": "f301ebe1-0dc9-4bb6-e0fc-b191c6349e72",
        "colab": {
          "base_uri": "https://localhost:8080/"
        }
      },
      "execution_count": 53,
      "outputs": [
        {
          "output_type": "stream",
          "name": "stdout",
          "text": [
            "Original DataFrame:\n",
            "   attempts       name qualify  score\n",
            "0         1  Anastasia     yes   12.5\n",
            "1         3       Dima      no    9.0\n",
            "2         2  Katherine     yes   16.5\n",
            "3         3      James      no    NaN\n",
            "4         2      Emily      no    9.0\n",
            "5         3    Michael     yes   20.0\n",
            "6         1    Matthew     yes   14.5\n",
            "7         1      Laura      no    NaN\n",
            "8         2      Kevin      no    8.0\n",
            "9         1      Jonas     yes   19.0\n",
            "\n",
            "New DataFrame replacing all NaN with 0:\n",
            "   attempts       name qualify  score\n",
            "0         1  Anastasia     yes   12.5\n",
            "1         3       Dima      no    9.0\n",
            "2         2  Katherine     yes   16.5\n",
            "3         3      James      no    0.0\n",
            "4         2      Emily      no    9.0\n",
            "5         3    Michael     yes   20.0\n",
            "6         1    Matthew     yes   14.5\n",
            "7         1      Laura      no    0.0\n",
            "8         2      Kevin      no    8.0\n",
            "9         1      Jonas     yes   19.0\n"
          ]
        }
      ]
    },
    {
      "cell_type": "markdown",
      "source": [
        "##21. Write a Pandas program to count the NaN values in one or more columns in DataFrame.\n",
        "```\n",
        "Sample data:\n",
        "Original DataFrame\n",
        "   attempts       name qualify  score\n",
        "0         1  Anastasia     yes   12.5\n",
        "1         3       Dima      no    9.0\n",
        "2         2  Katherine     yes   16.5\n",
        "3         3      James      no    NaN\n",
        "4         2      Emily      no    9.0\n",
        "5         3    Michael     yes   20.0\n",
        "6         1    Matthew     yes   14.5\n",
        "7         1      Laura      no    NaN\n",
        "8         2      Kevin      no    8.0\n",
        "9         1      Jonas     yes   19.0\n",
        "\n",
        "Number of NaN values in one or more columns:\n",
        "2\n",
        "\n",
        "```"
      ],
      "metadata": {
        "id": "i8CfYSH_tp71"
      }
    },
    {
      "cell_type": "code",
      "source": [
        "import pandas as pd\n",
        "import numpy as np\n",
        "\n",
        "df = pd.DataFrame({\n",
        "    'attempts': [1, 3, 2, 3, 2, 3, 1, 1, 2, 1],\n",
        "    'name': ['Anastasia', 'Dima', 'Katherine', 'James', 'Emily', 'Michael', 'Matthew', 'Laura', 'Kevin', 'Jonas'],\n",
        "    'qualify': ['yes', 'no', 'yes', 'no', 'no', 'yes', 'yes', 'no', 'no', 'yes'],\n",
        "    'score': [12.5, 9.0, 16.5, np.nan, 9.0, 20.0, 14.5, np.nan, 8.0, 19.0]\n",
        "})\n",
        "\n",
        "print(\"Original DataFrame:\")\n",
        "print(df)\n",
        "\n",
        "nan_counts = df.isna().sum()\n",
        "\n",
        "print(\"\\nNumber of NaN values in each column:\")\n",
        "print(nan_counts)\n",
        "\n",
        "total_nan_count = nan_counts.sum()\n",
        "print(f\"\\nTotal number of NaN values in one or more columns: {total_nan_count}\")\n"
      ],
      "metadata": {
        "id": "TBmRXqHAttfw",
        "outputId": "c8ab8590-6050-461d-d0b4-80129f3bdba4",
        "colab": {
          "base_uri": "https://localhost:8080/"
        }
      },
      "execution_count": 54,
      "outputs": [
        {
          "output_type": "stream",
          "name": "stdout",
          "text": [
            "Original DataFrame:\n",
            "   attempts       name qualify  score\n",
            "0         1  Anastasia     yes   12.5\n",
            "1         3       Dima      no    9.0\n",
            "2         2  Katherine     yes   16.5\n",
            "3         3      James      no    NaN\n",
            "4         2      Emily      no    9.0\n",
            "5         3    Michael     yes   20.0\n",
            "6         1    Matthew     yes   14.5\n",
            "7         1      Laura      no    NaN\n",
            "8         2      Kevin      no    8.0\n",
            "9         1      Jonas     yes   19.0\n",
            "\n",
            "Number of NaN values in each column:\n",
            "attempts    0\n",
            "name        0\n",
            "qualify     0\n",
            "score       2\n",
            "dtype: int64\n",
            "\n",
            "Total number of NaN values in one or more columns: 2\n"
          ]
        }
      ]
    },
    {
      "cell_type": "markdown",
      "source": [
        "##22. Write a Pandas program to drop a list of rows from a specified DataFrame.\n",
        "```\n",
        "Sample data:\n",
        "Original DataFrame\n",
        "   col1  col2  col3\n",
        "0     1     4     7\n",
        "1     4     5     8\n",
        "2     3     6     9\n",
        "3     4     7     0\n",
        "4     5     8     1\n",
        "\n",
        "\n",
        "New DataFrame after removing 2nd & 4th rows:\n",
        "   col1  col2  col3\n",
        "0     1     4     7\n",
        "1     4     5     8\n",
        "3     4     7     0\n",
        "```"
      ],
      "metadata": {
        "id": "Rg1rIYUftyLY"
      }
    },
    {
      "cell_type": "code",
      "source": [
        "import pandas as pd\n",
        "\n",
        "df = pd.DataFrame({\n",
        "    'col1': [1, 4, 3, 4, 5],\n",
        "    'col2': [4, 5, 6, 7, 8],\n",
        "    'col3': [7, 8, 9, 0, 1]\n",
        "})\n",
        "\n",
        "print(\"Original DataFrame:\")\n",
        "print(df)\n",
        "\n",
        "rows_to_drop = [2, 4]\n",
        "\n",
        "df_dropped = df.drop(index=rows_to_drop)\n",
        "\n",
        "print(\"\\nNew DataFrame after removing 2nd & 4th rows:\")\n",
        "print(df_dropped)\n"
      ],
      "metadata": {
        "id": "zKC7OCAXt1rB",
        "outputId": "4f941e53-8bd9-41fb-e3b3-546ef70ecbe3",
        "colab": {
          "base_uri": "https://localhost:8080/"
        }
      },
      "execution_count": 55,
      "outputs": [
        {
          "output_type": "stream",
          "name": "stdout",
          "text": [
            "Original DataFrame:\n",
            "   col1  col2  col3\n",
            "0     1     4     7\n",
            "1     4     5     8\n",
            "2     3     6     9\n",
            "3     4     7     0\n",
            "4     5     8     1\n",
            "\n",
            "New DataFrame after removing 2nd & 4th rows:\n",
            "   col1  col2  col3\n",
            "0     1     4     7\n",
            "1     4     5     8\n",
            "3     4     7     0\n"
          ]
        }
      ]
    },
    {
      "cell_type": "markdown",
      "source": [
        "##23. . Write a Pandas program to convert DataFrame column type from string to datetime.\n",
        "\n",
        "```\n",
        "\n",
        "Sample data:\n",
        "String Date:\n",
        "0    3/11/2000\n",
        "1    3/12/2000\n",
        "2    3/13/2000\n",
        "dtype: object\n",
        "\n",
        "\n",
        "Original DataFrame (string to datetime):\n",
        "           0\n",
        "0 2000-03-11\n",
        "1 2000-03-12\n",
        "2 2000-03-13\n",
        "```"
      ],
      "metadata": {
        "id": "jZ1dWICquCd5"
      }
    },
    {
      "cell_type": "code",
      "source": [
        "import pandas as pd\n",
        "\n",
        "string_dates = pd.Series(['3/11/2000', '3/12/2000', '3/13/2000'])\n",
        "\n",
        "print(\"Original String Dates:\")\n",
        "print(string_dates)\n",
        "\n",
        "datetime_dates = pd.to_datetime(string_dates)\n",
        "\n",
        "print(\"\\nConverted DataFrame (string to datetime):\")\n",
        "print(datetime_dates)\n"
      ],
      "metadata": {
        "id": "UkAHlL6vuGvG",
        "outputId": "72126599-d41d-427a-f7e8-4885074bec1a",
        "colab": {
          "base_uri": "https://localhost:8080/"
        }
      },
      "execution_count": 56,
      "outputs": [
        {
          "output_type": "stream",
          "name": "stdout",
          "text": [
            "Original String Dates:\n",
            "0    3/11/2000\n",
            "1    3/12/2000\n",
            "2    3/13/2000\n",
            "dtype: object\n",
            "\n",
            "Converted DataFrame (string to datetime):\n",
            "0   2000-03-11\n",
            "1   2000-03-12\n",
            "2   2000-03-13\n",
            "dtype: datetime64[ns]\n"
          ]
        }
      ]
    },
    {
      "cell_type": "markdown",
      "source": [
        "##24. Write a Pandas program to find the row for where the value of a given column is maximum.\n",
        "\n",
        "```\n",
        "Sample Output:\n",
        "Original DataFrame\n",
        "   col1  col2  col3\n",
        "0     1     4     7\n",
        "1     2     5     8\n",
        "2     3     6    12\n",
        "3     4     9     1\n",
        "4     7     5    11\n",
        "Row where col1 has maximum value:\n",
        "4\n",
        "Row where col2 has maximum value:\n",
        "3\n",
        "Row where col3 has maximum value:\n",
        "2\n",
        "```"
      ],
      "metadata": {
        "id": "1WjOTutIuNFr"
      }
    },
    {
      "cell_type": "code",
      "source": [
        "import pandas as pd\n",
        "\n",
        "data = {\n",
        "    'col1': [1, 2, 3, 4, 7],\n",
        "    'col2': [4, 5, 6, 9, 5],\n",
        "    'col3': [7, 8, 12, 1, 11]\n",
        "}\n",
        "\n",
        "df = pd.DataFrame(data)\n",
        "\n",
        "print(\"Original DataFrame:\")\n",
        "print(df)\n",
        "\n",
        "max_col1_row = df['col1'].idxmax()\n",
        "print(\"\\nRow where col1 has maximum value:\")\n",
        "print(max_col1_row)\n",
        "\n",
        "max_col2_row = df['col2'].idxmax()\n",
        "print(\"\\nRow where col2 has maximum value:\")\n",
        "print(max_col2_row)\n",
        "\n",
        "max_col3_row = df['col3'].idxmax()\n",
        "print(\"\\nRow where col3 has maximum value:\")\n",
        "print(max_col3_row)\n"
      ],
      "metadata": {
        "id": "arfeSzUDuPPx",
        "outputId": "cee3f2af-a04c-459e-f2d7-619150b48e19",
        "colab": {
          "base_uri": "https://localhost:8080/"
        }
      },
      "execution_count": 57,
      "outputs": [
        {
          "output_type": "stream",
          "name": "stdout",
          "text": [
            "Original DataFrame:\n",
            "   col1  col2  col3\n",
            "0     1     4     7\n",
            "1     2     5     8\n",
            "2     3     6    12\n",
            "3     4     9     1\n",
            "4     7     5    11\n",
            "\n",
            "Row where col1 has maximum value:\n",
            "4\n",
            "\n",
            "Row where col2 has maximum value:\n",
            "3\n",
            "\n",
            "Row where col3 has maximum value:\n",
            "2\n"
          ]
        }
      ]
    },
    {
      "cell_type": "markdown",
      "source": [
        "##25. Write a Pandas program to get the datatypes of columns of a DataFrame.\n",
        "\n",
        "```\n",
        "Sample data:\n",
        "Original DataFrame:\n",
        "   attempts       name qualify  score\n",
        "0         1  Anastasia     yes   12.5\n",
        "1         3       Dima      no    9.0\n",
        ".......\n",
        "8         2      Kevin      no    8.0\n",
        "9         1      Jonas     yes   19.0\n",
        "Data types of the columns of the said DataFrame:\n",
        "attempts      int64\n",
        "name         object\n",
        "qualify      object\n",
        "score       float64\n",
        "dtype: object\n",
        "```"
      ],
      "metadata": {
        "id": "aoGo3biQuUyd"
      }
    },
    {
      "cell_type": "code",
      "source": [
        "import pandas as pd\n",
        "import numpy as np\n",
        "\n",
        "data = {\n",
        "    'attempts': [1, 3, 2, 3, 2, 3, 1, 1, 2, 1],\n",
        "    'name': ['Anastasia', 'Dima', 'Katherine', 'James', 'Emily', 'Michael', 'Matthew', 'Laura', 'Kevin', 'Jonas'],\n",
        "    'qualify': ['yes', 'no', 'yes', 'no', 'no', 'yes', 'yes', 'no', 'no', 'yes'],\n",
        "    'score': [12.5, 9.0, 16.5, np.nan, 9.0, 20.0, 14.5, np.nan, 8.0, 19.0]\n",
        "}\n",
        "\n",
        "df = pd.DataFrame(data)\n",
        "\n",
        "print(\"Original DataFrame:\")\n",
        "print(df)\n",
        "\n",
        "print(\"\\nData types of the columns of the said DataFrame:\")\n",
        "print(df.dtypes)\n"
      ],
      "metadata": {
        "id": "FCy0tW-JuXIn",
        "outputId": "3f764fa9-15b1-475c-ef50-6b8696a09afc",
        "colab": {
          "base_uri": "https://localhost:8080/"
        }
      },
      "execution_count": 58,
      "outputs": [
        {
          "output_type": "stream",
          "name": "stdout",
          "text": [
            "Original DataFrame:\n",
            "   attempts       name qualify  score\n",
            "0         1  Anastasia     yes   12.5\n",
            "1         3       Dima      no    9.0\n",
            "2         2  Katherine     yes   16.5\n",
            "3         3      James      no    NaN\n",
            "4         2      Emily      no    9.0\n",
            "5         3    Michael     yes   20.0\n",
            "6         1    Matthew     yes   14.5\n",
            "7         1      Laura      no    NaN\n",
            "8         2      Kevin      no    8.0\n",
            "9         1      Jonas     yes   19.0\n",
            "\n",
            "Data types of the columns of the said DataFrame:\n",
            "attempts      int64\n",
            "name         object\n",
            "qualify      object\n",
            "score       float64\n",
            "dtype: object\n"
          ]
        }
      ]
    },
    {
      "cell_type": "markdown",
      "source": [
        "##26. Write a Pandas program to group by the first column and get second column as lists in rows.\n",
        "\n",
        "```\n",
        "Sample data:\n",
        "Original DataFrame\n",
        "col1 col2\n",
        "0 C1 1\n",
        "1 C1 2\n",
        "2 C2 3\n",
        "3 C2 3\n",
        "4 C2 4\n",
        "5 C3 6\n",
        "6 C2 5\n",
        "\n",
        "\n",
        "Group on the col1:\n",
        "col1\n",
        "C1 [1, 2]\n",
        "C2 [3, 3, 4, 5]\n",
        "C3 [6]\n",
        "Name: col2, dtype: object\n",
        "```"
      ],
      "metadata": {
        "id": "KBMjpEeOue8v"
      }
    },
    {
      "cell_type": "code",
      "source": [
        "import pandas as pd\n",
        "\n",
        "data = {\n",
        "    'col1': ['C1', 'C1', 'C2', 'C2', 'C2', 'C3', 'C2'],\n",
        "    'col2': [1, 2, 3, 3, 4, 6, 5]\n",
        "}\n",
        "\n",
        "df = pd.DataFrame(data)\n",
        "\n",
        "grouped_df = df.groupby('col1')['col2'].apply(list)\n",
        "\n",
        "print(\"Group on the col1:\")\n",
        "print(grouped_df)\n"
      ],
      "metadata": {
        "id": "sgka6sYjuiuS",
        "outputId": "2716fc44-9bd8-4839-bb47-9cf0c064a7e2",
        "colab": {
          "base_uri": "https://localhost:8080/"
        }
      },
      "execution_count": 59,
      "outputs": [
        {
          "output_type": "stream",
          "name": "stdout",
          "text": [
            "Group on the col1:\n",
            "col1\n",
            "C1          [1, 2]\n",
            "C2    [3, 3, 4, 5]\n",
            "C3             [6]\n",
            "Name: col2, dtype: object\n"
          ]
        }
      ]
    },
    {
      "cell_type": "markdown",
      "source": [
        "##27  Write a Pandas program to count number of columns of a DataFrame.\n",
        "\n",
        "```\n",
        "Sample Output:\n",
        "Original DataFrame\n",
        "  col1 col2 col3\n",
        "0  1    4   7\n",
        "1  2    5   8\n",
        "2  3    6   12\n",
        "3  4    9   1\n",
        "4  7    5   11\n",
        "\n",
        "Number of columns:\n",
        "3\n",
        "```"
      ],
      "metadata": {
        "id": "40Z4J_oMurA8"
      }
    },
    {
      "cell_type": "code",
      "source": [
        "import pandas as pd\n",
        "\n",
        "data = {\n",
        "    'col1': [1, 2, 3, 4, 7],\n",
        "    'col2': [4, 5, 6, 9, 5],\n",
        "    'col3': [7, 8, 12, 1, 11]\n",
        "}\n",
        "\n",
        "df = pd.DataFrame(data)\n",
        "\n",
        "num_columns = df.shape[1]\n",
        "\n",
        "print(\"Original DataFrame\")\n",
        "print(df)\n",
        "print(\"\\nNumber of columns:\")\n",
        "print(num_columns)\n"
      ],
      "metadata": {
        "id": "lOUFqUeHuvLp",
        "outputId": "882dee32-cb5c-4bef-db85-90561e2d0c48",
        "colab": {
          "base_uri": "https://localhost:8080/"
        }
      },
      "execution_count": 60,
      "outputs": [
        {
          "output_type": "stream",
          "name": "stdout",
          "text": [
            "Original DataFrame\n",
            "   col1  col2  col3\n",
            "0     1     4     7\n",
            "1     2     5     8\n",
            "2     3     6    12\n",
            "3     4     9     1\n",
            "4     7     5    11\n",
            "\n",
            "Number of columns:\n",
            "3\n"
          ]
        }
      ]
    },
    {
      "cell_type": "markdown",
      "source": [
        "##28.  Write a Pandas program to get first n records of a DataFrame.\n",
        "\n",
        "```\n",
        "Sample Output:\n",
        "Original DataFrame\n",
        "col1 col2 col3\n",
        "0 1 4 7\n",
        "1 2 5 5\n",
        "2 3 6 8\n",
        "3 4 9 12\n",
        "4 7 5 1\n",
        "5 11 0 11\n",
        "\n",
        "First 3 rows of the said DataFrame':\n",
        "col1 col2 col3\n",
        "0 1 4 7\n",
        "1 2 5 5\n",
        "2 3 6 8\n",
        "```\n"
      ],
      "metadata": {
        "id": "0ubM3981vg4v"
      }
    },
    {
      "cell_type": "code",
      "source": [
        "import pandas as pd\n",
        "\n",
        "data = {\n",
        "    'col1': [1, 2, 3, 4, 7, 11],\n",
        "    'col2': [4, 5, 6, 9, 5, 0],\n",
        "    'col3': [7, 5, 8, 12, 1, 11]\n",
        "}\n",
        "\n",
        "df = pd.DataFrame(data)\n",
        "\n",
        "first_n_records = df.head(3)\n",
        "\n",
        "print(\"Original DataFrame\")\n",
        "print(df)\n",
        "print(\"\\nFirst 3 rows of the said DataFrame:\")\n",
        "print(first_n_records)\n"
      ],
      "metadata": {
        "id": "tF2RrjuWvkU3",
        "outputId": "8055565f-0823-4320-fdce-de82d26f62f1",
        "colab": {
          "base_uri": "https://localhost:8080/"
        }
      },
      "execution_count": 61,
      "outputs": [
        {
          "output_type": "stream",
          "name": "stdout",
          "text": [
            "Original DataFrame\n",
            "   col1  col2  col3\n",
            "0     1     4     7\n",
            "1     2     5     5\n",
            "2     3     6     8\n",
            "3     4     9    12\n",
            "4     7     5     1\n",
            "5    11     0    11\n",
            "\n",
            "First 3 rows of the said DataFrame:\n",
            "   col1  col2  col3\n",
            "0     1     4     7\n",
            "1     2     5     5\n",
            "2     3     6     8\n"
          ]
        }
      ]
    },
    {
      "cell_type": "markdown",
      "source": [
        "##29. Write a Pandas program to get last n records of a DataFrame.\n",
        "\n",
        "```\n",
        "Sample Output:\n",
        "Original DataFrame\n",
        "col1 col2 col3\n",
        "0 1 4 7\n",
        "1 2 5 5\n",
        "2 3 6 8\n",
        "3 4 9 12\n",
        "4 7 5 1\n",
        "5 11 0 11\n",
        "\n",
        "Last 3 rows of the said DataFrame':\n",
        "col1 col2 col3\n",
        "3 4 9 12\n",
        "4 7 5 1\n",
        "5 11 0 11\n",
        "```"
      ],
      "metadata": {
        "id": "HYe8IeZcvnBM"
      }
    },
    {
      "cell_type": "code",
      "source": [
        "import pandas as pd\n",
        "\n",
        "data = {\n",
        "    'col1': [1, 2, 3, 4, 7, 11],\n",
        "    'col2': [4, 5, 6, 9, 5, 0],\n",
        "    'col3': [7, 5, 8, 12, 1, 11]\n",
        "}\n",
        "\n",
        "df = pd.DataFrame(data)\n",
        "\n",
        "last_n_records = df.tail(3)\n",
        "\n",
        "print(\"Original DataFrame\")\n",
        "print(df)\n",
        "print(\"\\nLast 3 rows of the said DataFrame:\")\n",
        "print(last_n_records)\n"
      ],
      "metadata": {
        "id": "uF1krIWivqOZ",
        "outputId": "2172f372-15fa-4a6a-b8ab-6c1969cecac1",
        "colab": {
          "base_uri": "https://localhost:8080/"
        }
      },
      "execution_count": 62,
      "outputs": [
        {
          "output_type": "stream",
          "name": "stdout",
          "text": [
            "Original DataFrame\n",
            "   col1  col2  col3\n",
            "0     1     4     7\n",
            "1     2     5     5\n",
            "2     3     6     8\n",
            "3     4     9    12\n",
            "4     7     5     1\n",
            "5    11     0    11\n",
            "\n",
            "Last 3 rows of the said DataFrame:\n",
            "   col1  col2  col3\n",
            "3     4     9    12\n",
            "4     7     5     1\n",
            "5    11     0    11\n"
          ]
        }
      ]
    },
    {
      "cell_type": "markdown",
      "source": [
        "##30.  Write a Pandas program to get topmost n records within each group of a DataFrame.\n",
        "\n",
        "```\n",
        "Sample Output:\n",
        "Original DataFrame\n",
        "col1 col2 col3\n",
        "0 1 4 7\n",
        "1 2 5 5\n",
        "2 3 6 8\n",
        "3 4 9 12\n",
        "4 7 5 1\n",
        "5 11 0 11\n",
        "\n",
        "```\n",
        "```\n",
        "topmost n records within each group of a DataFrame:\n",
        "col1 col2 col3\n",
        "5 11 0 11\n",
        "4 7 5 1\n",
        "3 4 9 12\n",
        "col1 col2 col3\n",
        "3 4 9 12\n",
        "2 3 6 8\n",
        "1 2 5 5\n",
        "4 7 5 1\n",
        "col1 col2 col3\n",
        "3 4 9 12\n",
        "5 11 0 11\n",
        "2 3 6 8\n",
        "```"
      ],
      "metadata": {
        "id": "EqqWIAyEvvvQ"
      }
    },
    {
      "cell_type": "code",
      "source": [
        "import pandas as pd\n",
        "\n",
        "data = {\n",
        "    'col1': [1, 2, 3, 4, 7, 11],\n",
        "    'col2': [4, 5, 6, 9, 5, 0],\n",
        "    'col3': [7, 5, 8, 12, 1, 11]\n",
        "}\n",
        "\n",
        "df = pd.DataFrame(data)\n",
        "\n",
        "df['group'] = ['A', 'A', 'B', 'B', 'B', 'A']\n",
        "\n",
        "n = 2\n",
        "\n",
        "top_n_records = df.groupby('group').apply(lambda x: x.nlargest(n, 'col3')).reset_index(drop=True)\n",
        "\n",
        "print(\"Original DataFrame\")\n",
        "print(df)\n",
        "print(\"\\nTopmost n records within each group of a DataFrame:\")\n",
        "print(top_n_records)\n"
      ],
      "metadata": {
        "id": "FhFjzbvivzr8",
        "outputId": "99714157-9335-4482-f32c-2fa2bfe67b6e",
        "colab": {
          "base_uri": "https://localhost:8080/"
        }
      },
      "execution_count": 63,
      "outputs": [
        {
          "output_type": "stream",
          "name": "stdout",
          "text": [
            "Original DataFrame\n",
            "   col1  col2  col3 group\n",
            "0     1     4     7     A\n",
            "1     2     5     5     A\n",
            "2     3     6     8     B\n",
            "3     4     9    12     B\n",
            "4     7     5     1     B\n",
            "5    11     0    11     A\n",
            "\n",
            "Topmost n records within each group of a DataFrame:\n",
            "   col1  col2  col3 group\n",
            "0    11     0    11     A\n",
            "1     1     4     7     A\n",
            "2     4     9    12     B\n",
            "3     3     6     8     B\n"
          ]
        }
      ]
    },
    {
      "cell_type": "markdown",
      "source": [
        "##31. Write a Pandas program to add a prefix or suffix to all columns of a given DataFrame.\n",
        "\n",
        "```\n",
        "Sample Output:\n",
        "Original DataFrame\n",
        "W X Y Z\n",
        "0 68 78 84 86\n",
        "1 75 85 94 97\n",
        "2 86 96 89 96\n",
        "3 80 80 83 72\n",
        "4 66 86 86 83\n",
        "\n",
        "Add prefix:\n",
        "A_W A_X A_Y A_Z\n",
        "0 68 78 84 86\n",
        "1 75 85 94 97\n",
        "2 86 96 89 96\n",
        "3 80 80 83 72\n",
        "4 66 86 86 83\n",
        "\n",
        "Add suffix:\n",
        "W_1 X_1 Y_1 Z_1\n",
        "0 68 78 84 86\n",
        "1 75 85 94 97\n",
        "2 86 96 89 96\n",
        "3 80 80 83 72\n",
        "4 66 86 86 83\n",
        "\n",
        "```"
      ],
      "metadata": {
        "id": "cwpL5p29v-In"
      }
    },
    {
      "cell_type": "code",
      "source": [
        "import pandas as pd\n",
        "\n",
        "data = {\n",
        "    'W': [68, 75, 86, 80, 66],\n",
        "    'X': [78, 85, 96, 80, 86],\n",
        "    'Y': [84, 94, 89, 83, 86],\n",
        "    'Z': [86, 97, 96, 72, 83]\n",
        "}\n",
        "\n",
        "df = pd.DataFrame(data)\n",
        "\n",
        "df_with_prefix = df.add_prefix('A_')\n",
        "\n",
        "df_with_suffix = df.add_suffix('_1')\n",
        "\n",
        "print(\"Original DataFrame:\")\n",
        "print(df)\n",
        "print(\"\\nAdd prefix:\")\n",
        "print(df_with_prefix)\n",
        "print(\"\\nAdd suffix:\")\n",
        "print(df_with_suffix)\n"
      ],
      "metadata": {
        "id": "mNnAlSh4wBoU",
        "outputId": "1bf8a2ed-8ee0-4d22-bee6-5d2e3ec5cc74",
        "colab": {
          "base_uri": "https://localhost:8080/"
        }
      },
      "execution_count": 64,
      "outputs": [
        {
          "output_type": "stream",
          "name": "stdout",
          "text": [
            "Original DataFrame:\n",
            "    W   X   Y   Z\n",
            "0  68  78  84  86\n",
            "1  75  85  94  97\n",
            "2  86  96  89  96\n",
            "3  80  80  83  72\n",
            "4  66  86  86  83\n",
            "\n",
            "Add prefix:\n",
            "   A_W  A_X  A_Y  A_Z\n",
            "0   68   78   84   86\n",
            "1   75   85   94   97\n",
            "2   86   96   89   96\n",
            "3   80   80   83   72\n",
            "4   66   86   86   83\n",
            "\n",
            "Add suffix:\n",
            "   W_1  X_1  Y_1  Z_1\n",
            "0   68   78   84   86\n",
            "1   75   85   94   97\n",
            "2   86   96   89   96\n",
            "3   80   80   83   72\n",
            "4   66   86   86   83\n"
          ]
        }
      ]
    },
    {
      "cell_type": "markdown",
      "source": [
        "##32. Write a Pandas program to convert continuous values of a column in a given DataFrame to categorical.\n",
        "```\n",
        "Input:\n",
        " 'name': ['Alberto Franco','Gino Mcneill','Ryan Parkes', 'Eesha Hinton', 'Syed Wharton', 'Kierra Gentry'],\n",
        "      'age': [18, 22, 85, 50, 80, 5]\n",
        "\n",
        "\n",
        "Output:\n",
        "Age group:\n",
        "0 kids\n",
        "1 adult\n",
        "2 elderly\n",
        "3 adult\n",
        "4 elderly\n",
        "5 kids\n",
        "Name: age_groups, dtype: category\n",
        "Categories (3, object): [kids < adult < elderly]\n",
        "```"
      ],
      "metadata": {
        "id": "GJA8ou51wLGk"
      }
    },
    {
      "cell_type": "code",
      "source": [
        "import pandas as pd\n",
        "\n",
        "data = {\n",
        "    'name': ['Alberto Franco', 'Gino Mcneill', 'Ryan Parkes', 'Eesha Hinton', 'Syed Wharton', 'Kierra Gentry'],\n",
        "    'age': [18, 22, 85, 50, 80, 5]\n",
        "}\n",
        "\n",
        "df = pd.DataFrame(data)\n",
        "\n",
        "bins = [0, 12, 59, float('inf')]\n",
        "labels = ['kids', 'adult', 'elderly']\n",
        "\n",
        "df['age_groups'] = pd.cut(df['age'], bins=bins, labels=labels, right=False)\n",
        "\n",
        "print(\"Age group:\")\n",
        "print(df['age_groups'])\n"
      ],
      "metadata": {
        "id": "5MF2Dyw1wOK9",
        "outputId": "ae0ea112-4e12-4101-94bc-a13614e211e7",
        "colab": {
          "base_uri": "https://localhost:8080/"
        }
      },
      "execution_count": 65,
      "outputs": [
        {
          "output_type": "stream",
          "name": "stdout",
          "text": [
            "Age group:\n",
            "0      adult\n",
            "1      adult\n",
            "2    elderly\n",
            "3      adult\n",
            "4    elderly\n",
            "5       kids\n",
            "Name: age_groups, dtype: category\n",
            "Categories (3, object): ['kids' < 'adult' < 'elderly']\n"
          ]
        }
      ]
    },
    {
      "cell_type": "markdown",
      "source": [
        "##33. Write a Pandas program to append rows to an existing DataFrame and display the combined data.\n",
        "\n",
        "```\n",
        "Test Data:\n",
        "tudent_data1\n",
        "  student_id              name  marks\n",
        "0         S1  Danniella Fenton    200\n",
        "1         S2      Ryder Storey    210\n",
        "2         S3      Bryce Jensen    190\n",
        "3         S4         Ed Bernal    222\n",
        "4         S5       Kwame Morin    199\n",
        "\n",
        "\n",
        "New Row(s)\n",
        "student_id                  S6\n",
        "name          Scarlette Fisher\n",
        "marks                      205\n",
        "dtype: object\n",
        "```"
      ],
      "metadata": {
        "id": "feAsVC_uwhOf"
      }
    },
    {
      "cell_type": "code",
      "source": [
        "import pandas as pd\n",
        "\n",
        "student_data1 = pd.DataFrame({\n",
        "    'student_id': ['S1', 'S2', 'S3', 'S4', 'S5'],\n",
        "    'name': ['Danniella Fenton', 'Ryder Storey', 'Bryce Jensen', 'Ed Bernal', 'Kwame Morin'],\n",
        "    'marks': [200, 210, 190, 222, 199]\n",
        "})\n",
        "\n",
        "new_row = pd.Series({\n",
        "    'student_id': 'S6',\n",
        "    'name': 'Scarlette Fisher',\n",
        "    'marks': 205\n",
        "})\n",
        "\n",
        "student_data1 = pd.concat([student_data1, pd.DataFrame([new_row])],ignore_index=True)\n",
        "\n",
        "print(student_data1)\n"
      ],
      "metadata": {
        "id": "mX4VNHcCwkY8",
        "outputId": "03e807b2-950c-4304-c12d-1d1813c8c1ac",
        "colab": {
          "base_uri": "https://localhost:8080/"
        }
      },
      "execution_count": 68,
      "outputs": [
        {
          "output_type": "stream",
          "name": "stdout",
          "text": [
            "  student_id              name  marks\n",
            "0         S1  Danniella Fenton    200\n",
            "1         S2      Ryder Storey    210\n",
            "2         S3      Bryce Jensen    190\n",
            "3         S4         Ed Bernal    222\n",
            "4         S5       Kwame Morin    199\n",
            "5         S6  Scarlette Fisher    205\n"
          ]
        }
      ]
    },
    {
      "cell_type": "markdown",
      "source": [
        "##34  Write a Pandas program to join the two given dataframes along rows and merge with another dataframe along the common column id.\n",
        "\n",
        "```\n",
        "Test Data:\n",
        "student_data1:\n",
        "  student_id              name  marks\n",
        "0         S1  Danniella Fenton    200\n",
        "1         S2      Ryder Storey    210\n",
        "2         S3      Bryce Jensen    190\n",
        "3         S4         Ed Bernal    222\n",
        "4         S5       Kwame Morin    199\n",
        "student_data2:\n",
        "  student_id              name  marks\n",
        "0         S4  Scarlette Fisher    201\n",
        "1         S5  Carla Williamson    200\n",
        "2         S6       Dante Morse    198\n",
        "3         S7    Kaiser William    219\n",
        "4         S8   Madeeha Preston    201\n",
        "```\n",
        "```\n",
        "\n",
        "exam_data:\n",
        "   student_id  exam_id\n",
        "0          S1       23\n",
        "1          S2       45\n",
        "2          S3       12\n",
        "3          S4       67\n",
        "4          S5       21\n",
        "5          S7       55\n",
        "6          S8       33\n",
        "7          S9       14\n",
        "8         S10       56\n",
        "9         S11       83\n",
        "10        S12       88\n",
        "11        S13       12\n",
        "```\n"
      ],
      "metadata": {
        "id": "OGD7xDdTwuUF"
      }
    },
    {
      "cell_type": "code",
      "source": [
        "import pandas as pd\n",
        "\n",
        "# Create the DataFrames\n",
        "student_data1 = pd.DataFrame({\n",
        "    'student_id': ['S1', 'S2', 'S3', 'S4', 'S5'],\n",
        "    'name': ['Danniella Fenton', 'Ryder Storey', 'Bryce Jensen', 'Ed Bernal', 'Kwame Morin'],\n",
        "    'marks': [200, 210, 190, 222, 199]\n",
        "})\n",
        "\n",
        "student_data2 = pd.DataFrame({\n",
        "    'student_id': ['S4', 'S5', 'S6', 'S7', 'S8'],\n",
        "    'name': ['Scarlette Fisher', 'Carla Williamson', 'Dante Morse', 'Kaiser William', 'Madeeha Preston'],\n",
        "    'marks': [201, 200, 198, 219, 201]\n",
        "})\n",
        "\n",
        "exam_data = pd.DataFrame({\n",
        "    'student_id': ['S1', 'S2', 'S3', 'S4', 'S5', 'S7', 'S8', 'S9', 'S10', 'S11', 'S12', 'S13'],\n",
        "    'exam_id': [23, 45, 12, 67, 21, 55, 33, 14, 56, 83, 88, 12]\n",
        "})\n",
        "\n",
        "combined_student_data = pd.concat([student_data1, student_data2], ignore_index=True)\n",
        "\n",
        "merged_data = pd.merge(combined_student_data, exam_data, on='student_id', how='left')\n",
        "\n",
        "print(\"Combined and Merged DataFrame:\")\n",
        "print(merged_data)\n"
      ],
      "metadata": {
        "id": "LKSwxNz3wyO2",
        "outputId": "743681d5-7669-4ec2-f092-4f629bf37484",
        "colab": {
          "base_uri": "https://localhost:8080/"
        }
      },
      "execution_count": 67,
      "outputs": [
        {
          "output_type": "stream",
          "name": "stdout",
          "text": [
            "Combined and Merged DataFrame:\n",
            "  student_id              name  marks  exam_id\n",
            "0         S1  Danniella Fenton    200     23.0\n",
            "1         S2      Ryder Storey    210     45.0\n",
            "2         S3      Bryce Jensen    190     12.0\n",
            "3         S4         Ed Bernal    222     67.0\n",
            "4         S5       Kwame Morin    199     21.0\n",
            "5         S4  Scarlette Fisher    201     67.0\n",
            "6         S5  Carla Williamson    200     21.0\n",
            "7         S6       Dante Morse    198      NaN\n",
            "8         S7    Kaiser William    219     55.0\n",
            "9         S8   Madeeha Preston    201     33.0\n"
          ]
        }
      ]
    }
  ]
}