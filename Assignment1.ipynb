{
  "cells": [
    {
      "cell_type": "markdown",
      "metadata": {
        "id": "view-in-github",
        "colab_type": "text"
      },
      "source": [
        "<a href=\"https://colab.research.google.com/github/BasilaThasni/DSML-Python-Tasks/blob/main/Assignment1.ipynb\" target=\"_parent\"><img src=\"https://colab.research.google.com/assets/colab-badge.svg\" alt=\"Open In Colab\"/></a>"
      ]
    },
    {
      "cell_type": "markdown",
      "metadata": {
        "id": "fUDcwk321g36"
      },
      "source": [
        "##EXERCISE 1\n"
      ]
    },
    {
      "cell_type": "markdown",
      "metadata": {
        "id": "cE8bsJ_u1q2d"
      },
      "source": [
        "###WRITE A PYTHON CODE THAT PRINTS YOUR NAME,STUDENT NUMBER AND EMAIL ADDRESS."
      ]
    },
    {
      "cell_type": "code",
      "execution_count": null,
      "metadata": {
        "id": "X3mXSAiy13cA"
      },
      "outputs": [],
      "source": [
        "Name=\"Basila Thasni\"\n",
        "Student_number=\"D3017\"\n",
        "email_address=\"basilathasni20@gmail.com\""
      ]
    },
    {
      "cell_type": "code",
      "execution_count": null,
      "metadata": {
        "colab": {
          "base_uri": "https://localhost:8080/"
        },
        "id": "u-J7otIt62jN",
        "outputId": "18a67ab2-f43d-4db1-cc84-eb9da9da816e"
      },
      "outputs": [
        {
          "name": "stdout",
          "output_type": "stream",
          "text": [
            "Name: Basila Thasni\n",
            "Student Number: D3017\n",
            "Email Address: basilathasni20@gmail.com\n"
          ]
        }
      ],
      "source": [
        "print(\"Name:\",Name)\n",
        "print(\"Student Number:\",Student_number)\n",
        "print(\"Email Address:\",email_address)\n"
      ]
    },
    {
      "cell_type": "markdown",
      "metadata": {
        "id": "JwXuncEb7UBp"
      },
      "source": [
        "#EXERCISE 2"
      ]
    },
    {
      "cell_type": "markdown",
      "metadata": {
        "id": "Yo3XdHHK7AWw"
      },
      "source": [
        "###WRITE PYTHON CODE THAT PRINTS YOUR NAME,STUDENT NUMBER AND EMAIL ADDRESS USING ESCAPE SEQUENCES."
      ]
    },
    {
      "cell_type": "code",
      "execution_count": null,
      "metadata": {
        "colab": {
          "base_uri": "https://localhost:8080/"
        },
        "id": "YjO2BlNI7o5T",
        "outputId": "6fba0b03-ac23-40fc-81d5-d55ad5f53a1e"
      },
      "outputs": [
        {
          "name": "stdout",
          "output_type": "stream",
          "text": [
            "Name: Basila Thasni\n",
            "Student Number: D3017\n",
            "Email address: basilathasni20@gmail.com\n"
          ]
        }
      ],
      "source": [
        "print(\"Name: Basila Thasni\\nStudent Number: D3017\\nEmail address: basilathasni20@gmail.com\")"
      ]
    },
    {
      "cell_type": "markdown",
      "metadata": {
        "id": "4m1xaCARUOcE"
      },
      "source": [
        "#EXERCISE 3"
      ]
    },
    {
      "cell_type": "markdown",
      "metadata": {
        "id": "nEhSA4jeUVkU"
      },
      "source": [
        "###WRITE PYTHON CODE THAT ADD,SUBTRACT,MULTIPLY AND DIVIDE THE TWO NUMBERS.YOU CAN USE THE NUMBERS 14 AND 7."
      ]
    },
    {
      "cell_type": "code",
      "execution_count": null,
      "metadata": {
        "colab": {
          "base_uri": "https://localhost:8080/"
        },
        "id": "KVaCY3QPVH-a",
        "outputId": "557ca17b-07cf-4032-b418-d836ebfdadc8"
      },
      "outputs": [
        {
          "name": "stdout",
          "output_type": "stream",
          "text": [
            "21\n",
            "7\n",
            "98\n",
            "2.0\n"
          ]
        }
      ],
      "source": [
        "a=14+7\n",
        "b=14-7\n",
        "c=14*7\n",
        "d=14/7\n",
        "for i in (a,b,c,d):\n",
        "  print(i)"
      ]
    },
    {
      "cell_type": "markdown",
      "metadata": {
        "id": "un5Ph12sWfQo"
      },
      "source": [
        "#EXERCISE 4"
      ]
    },
    {
      "cell_type": "markdown",
      "metadata": {
        "id": "8eWFoy_oWvBE"
      },
      "source": [
        "###WRITE PYTHON CODE THAT DISPLAYS THE NUMBERS FROM 1 TO 5 AS STEPS.\n"
      ]
    },
    {
      "cell_type": "code",
      "execution_count": null,
      "metadata": {
        "colab": {
          "base_uri": "https://localhost:8080/"
        },
        "id": "G3pwe-AuWwy_",
        "outputId": "80ab755f-f2f2-484c-db29-d9ff5f0b051e"
      },
      "outputs": [
        {
          "name": "stdout",
          "output_type": "stream",
          "text": [
            "1\n",
            "2\n",
            "3\n",
            "4\n",
            "5\n"
          ]
        }
      ],
      "source": [
        "for i in range(1,6):\n",
        "  print(i)"
      ]
    },
    {
      "cell_type": "markdown",
      "metadata": {
        "id": "w9iapORhYELe"
      },
      "source": [
        "#EXERCISE 5"
      ]
    },
    {
      "cell_type": "markdown",
      "metadata": {
        "id": "oa2AqyjoYIG_"
      },
      "source": [
        "###WRITE PYTHON CODE THAT OUTPUTS THE FOLLOWING SENTENCE(INCLUDING THE QUOTATION MARKS AND LINE BREAK)TO THE SCREEN:\n",
        "##\"SDK\" stands for \"Software Development Kit\",whereas\n",
        "##\"IDE\" stands for \"Integrated Development Environment\"."
      ]
    },
    {
      "cell_type": "code",
      "execution_count": null,
      "metadata": {
        "colab": {
          "base_uri": "https://localhost:8080/"
        },
        "id": "lKMJET0cYtkg",
        "outputId": "4af859c5-0af9-4b71-f4cc-85114c22d2a6"
      },
      "outputs": [
        {
          "name": "stdout",
          "output_type": "stream",
          "text": [
            "\"SDK\" stands for \"Software Development Kit\",whereas\n",
            "\"IDE\" stands for \"Integrated Development Environment\".\n"
          ]
        }
      ],
      "source": [
        "print('\"SDK\" stands for \"Software Development Kit\",whereas\\n\"IDE\" stands for \"Integrated Development Environment\".')"
      ]
    },
    {
      "cell_type": "markdown",
      "metadata": {
        "id": "-cBEwSKQZq5r"
      },
      "source": [
        "#EXERCISE 6"
      ]
    },
    {
      "cell_type": "markdown",
      "metadata": {
        "id": "qzRbLJhfZuQV"
      },
      "source": [
        "###PRACTICE AND CHECK THE OUTPUT\n",
        "\n",
        "print(\"python is an \\\"awesome\\\" language.\")\n",
        "\n",
        "print(\"python\\n\\t2023\")\n",
        "\n",
        "print('I\\'m from Entri.\\b')\n",
        "\n",
        "print(\"\\65\")\n",
        "\n",
        "print(\"\\x65\")\n",
        "\n",
        "print(\"Entri\", \"2023\", sep=\"\\n\")\n",
        "\n",
        "print(\"Entri\", \"2023\", sep=\"\\b\")\n",
        "\n",
        "print(\"Entri\", \"2023\", sep=\"*\",\n",
        "\n",
        "end=\"\\b\\b\\b\\b\")"
      ]
    },
    {
      "cell_type": "code",
      "execution_count": null,
      "metadata": {
        "colab": {
          "base_uri": "https://localhost:8080/",
          "height": 106
        },
        "id": "n1d72vSAZ7-Z",
        "outputId": "23a49bed-d4d5-4c6d-dfa4-65d370a3ac91"
      },
      "outputs": [
        {
          "ename": "SyntaxError",
          "evalue": "invalid syntax. Perhaps you forgot a comma? (<ipython-input-12-49e7ce26ba3d>, line 1)",
          "output_type": "error",
          "traceback": [
            "\u001b[0;36m  File \u001b[0;32m\"<ipython-input-12-49e7ce26ba3d>\"\u001b[0;36m, line \u001b[0;32m1\u001b[0m\n\u001b[0;31m    print(\"python is an \"awesome\" language.\")\u001b[0m\n\u001b[0m          ^\u001b[0m\n\u001b[0;31mSyntaxError\u001b[0m\u001b[0;31m:\u001b[0m invalid syntax. Perhaps you forgot a comma?\n"
          ]
        }
      ],
      "source": [
        "print(\'python is an \"awesome\" language.\')"
      ]
    },
    {
      "cell_type": "code",
      "execution_count": null,
      "metadata": {
        "colab": {
          "base_uri": "https://localhost:8080/"
        },
        "id": "Il1aKmSiaXHk",
        "outputId": "15b4344b-edcb-4fc5-fbc2-7bf38da0e07c"
      },
      "outputs": [
        {
          "name": "stdout",
          "output_type": "stream",
          "text": [
            "python is an \"awesome\" language\n"
          ]
        }
      ],
      "source": [
        "print(\"python is an \\\"awesome\\\" language\" )"
      ]
    },
    {
      "cell_type": "code",
      "execution_count": null,
      "metadata": {
        "colab": {
          "base_uri": "https://localhost:8080/"
        },
        "id": "0eSQlnOSaj9B",
        "outputId": "43c059ef-67e9-45b2-b542-782014932ea5"
      },
      "outputs": [
        {
          "name": "stdout",
          "output_type": "stream",
          "text": [
            "python\n",
            "\t2023\n"
          ]
        }
      ],
      "source": [
        "print(\"python\\n\\t2023\")"
      ]
    },
    {
      "cell_type": "code",
      "execution_count": null,
      "metadata": {
        "colab": {
          "base_uri": "https://localhost:8080/"
        },
        "id": "WGBTgLi-azJP",
        "outputId": "48565412-ce2e-4606-c8bd-9afb78d3b62f"
      },
      "outputs": [
        {
          "name": "stdout",
          "output_type": "stream",
          "text": [
            "|\\m from Entri.b\n"
          ]
        }
      ],
      "source": [
        "print('|\\m from Entri.b')"
      ]
    },
    {
      "cell_type": "code",
      "execution_count": null,
      "metadata": {
        "colab": {
          "base_uri": "https://localhost:8080/"
        },
        "id": "eVCQnjGgbDJi",
        "outputId": "0374e248-1b1e-4e50-ce3e-d2995568af34"
      },
      "outputs": [
        {
          "name": "stdout",
          "output_type": "stream",
          "text": [
            "5\n"
          ]
        }
      ],
      "source": [
        "print(\"\\65\")"
      ]
    },
    {
      "cell_type": "code",
      "execution_count": null,
      "metadata": {
        "colab": {
          "base_uri": "https://localhost:8080/"
        },
        "id": "3k4FLuGibOiM",
        "outputId": "c11b6d5b-9149-46ff-834b-17060603cf05"
      },
      "outputs": [
        {
          "name": "stdout",
          "output_type": "stream",
          "text": [
            "e\n"
          ]
        }
      ],
      "source": [
        "print(\"\\x65\")"
      ]
    },
    {
      "cell_type": "code",
      "execution_count": null,
      "metadata": {
        "colab": {
          "base_uri": "https://localhost:8080/"
        },
        "id": "0TFKGMSlbVMM",
        "outputId": "3a4aec33-4a59-4c58-e9fc-45c11efe706d"
      },
      "outputs": [
        {
          "name": "stdout",
          "output_type": "stream",
          "text": [
            "Entri\n",
            "2023\n"
          ]
        }
      ],
      "source": [
        "print(\"Entri\", \"2023\", sep=\"\\n\")"
      ]
    },
    {
      "cell_type": "code",
      "execution_count": null,
      "metadata": {
        "colab": {
          "base_uri": "https://localhost:8080/"
        },
        "id": "4AOBA6_WbajB",
        "outputId": "9422f983-09bd-4cf0-8c65-fecc77de7b26"
      },
      "outputs": [
        {
          "name": "stdout",
          "output_type": "stream",
          "text": [
            "Entri\b2023\n"
          ]
        }
      ],
      "source": [
        "print(\"Entri\", \"2023\", sep=\"\\b\")"
      ]
    },
    {
      "cell_type": "code",
      "execution_count": null,
      "metadata": {
        "colab": {
          "base_uri": "https://localhost:8080/"
        },
        "id": "xTYeAj9qbo2K",
        "outputId": "3d655167-194d-48ba-cc90-ff8baffe46d6"
      },
      "outputs": [
        {
          "name": "stdout",
          "output_type": "stream",
          "text": [
            "Entri\b2023\n"
          ]
        }
      ],
      "source": []
    },
    {
      "cell_type": "code",
      "execution_count": null,
      "metadata": {
        "colab": {
          "base_uri": "https://localhost:8080/"
        },
        "id": "NavfjxU_bwHC",
        "outputId": "40e37eb6-25a1-4e8d-b5b2-fa8d63e08ca1"
      },
      "outputs": [
        {
          "name": "stdout",
          "output_type": "stream",
          "text": [
            "Entri*2023\b\b\b\b"
          ]
        }
      ],
      "source": [
        "print(\"Entri\", \"2023\", sep=\"*\", end=\"\\b\\b\\b\\b\")"
      ]
    },
    {
      "cell_type": "markdown",
      "metadata": {
        "id": "7ZiVHWwGb5kf"
      },
      "source": [
        "#EXERCISE 7"
      ]
    },
    {
      "cell_type": "markdown",
      "metadata": {
        "id": "WcDH7XPdcZOf"
      },
      "source": [
        "###DEFINE THE VARIABLES BELOW.PRINT THE TYPES OF EACH VARIABLE.WHAT IS THE SUM OF YOUR VARIABLES?(Hint:use a type conversion function.)\n",
        "###What datatype is the sum?\n",
        "num=23\n",
        "\n",
        "textnum=\"57\"\n",
        "\n",
        "decimal=98.3"
      ]
    },
    {
      "cell_type": "code",
      "execution_count": null,
      "metadata": {
        "id": "kI38fDsNcaEE"
      },
      "outputs": [],
      "source": [
        "#num is a variable assigned to an integer datatype.\n",
        "#textnum is a variable assigned to a string datatype.\n",
        "#decimal is a variable assigned to a floating point number datatype."
      ]
    },
    {
      "cell_type": "code",
      "execution_count": null,
      "metadata": {
        "colab": {
          "base_uri": "https://localhost:8080/"
        },
        "id": "69K1-orvt7no",
        "outputId": "6c597970-8664-489a-b794-415d96c78b3e"
      },
      "outputs": [
        {
          "name": "stdout",
          "output_type": "stream",
          "text": [
            "<class 'int'>\n",
            "<class 'str'>\n",
            "<class 'float'>\n"
          ]
        }
      ],
      "source": [
        "num=23\n",
        "textnum=\"57\"\n",
        "decimal=98.3\n",
        "\n",
        "print(type(num))\n",
        "print(type(textnum))\n",
        "print(type(decimal))"
      ]
    },
    {
      "cell_type": "code",
      "execution_count": null,
      "metadata": {
        "colab": {
          "base_uri": "https://localhost:8080/"
        },
        "id": "QMBnZpfQuIv8",
        "outputId": "06e1b712-743c-449e-f1be-3126a183193a"
      },
      "outputs": [
        {
          "name": "stdout",
          "output_type": "stream",
          "text": [
            "178.3\n"
          ]
        }
      ],
      "source": [
        "sum=int(num)+int(textnum)+float(decimal)\n",
        "print(sum)"
      ]
    },
    {
      "cell_type": "code",
      "execution_count": null,
      "metadata": {
        "colab": {
          "base_uri": "https://localhost:8080/"
        },
        "id": "n5iYqdyFvoeA",
        "outputId": "48a58059-1819-44ec-8b9f-fc6a84307b8c"
      },
      "outputs": [
        {
          "data": {
            "text/plain": [
              "float"
            ]
          },
          "execution_count": 14,
          "metadata": {},
          "output_type": "execute_result"
        }
      ],
      "source": [
        "type(sum)"
      ]
    },
    {
      "cell_type": "markdown",
      "metadata": {
        "id": "LACGI-duwB1T"
      },
      "source": [
        "#EXERCISE"
      ]
    },
    {
      "cell_type": "markdown",
      "metadata": {
        "id": "eB5qEq0MwGKz"
      },
      "source": [
        "###CALCULATE THE NUMBER OF MINUTES IN A YEAR USING VARIABLES FOR EACH UNIT OF TIME.PRINT A STATEMENT THAT DESCRIBES WHAT YOUR CODE DOES ALSO.CREATE 3 VARIABLES TO STORE NO.PF DAYS IN A YEAR ,MINUTE IN A HOUR,HOURS IN A DAY,THEN CALCULATE THE TOTAL MINUTES IN A YEAR AND PRINT THE VALUES."
      ]
    },
    {
      "cell_type": "code",
      "execution_count": null,
      "metadata": {
        "colab": {
          "base_uri": "https://localhost:8080/"
        },
        "id": "TVj9wZQCxgl9",
        "outputId": "a947e1f6-f909-403c-a121-8eb6968362a0"
      },
      "outputs": [
        {
          "name": "stdout",
          "output_type": "stream",
          "text": [
            "525600\n"
          ]
        }
      ],
      "source": [
        "a=days_in_a_year=365\n",
        "b=minutes_in_an_hour=60\n",
        "c=hours_in_a_day=24\n",
        "x=total_no_of_minutes_in_a_year=a*b*c\n",
        "print(x)"
      ]
    },
    {
      "cell_type": "code",
      "execution_count": null,
      "metadata": {
        "colab": {
          "base_uri": "https://localhost:8080/"
        },
        "id": "vqtF5-_b0hSo",
        "outputId": "b22a1712-323d-41d4-f01a-ba5599b802cd"
      },
      "outputs": [
        {
          "name": "stdout",
          "output_type": "stream",
          "text": [
            "The code calculates the  number of minutes in a year\n",
            "Minutes in an hour:60\n",
            "Hours in a day:24\n",
            "Days in a year:365\n",
            "Total number of minutes in a year:525600\n"
          ]
        }
      ],
      "source": [
        "print(f\"The code calculates the  number of minutes in a year\")\n",
        "print(f\"Minutes in an hour:{b}\")\n",
        "print(f\"Hours in a day:{c}\")\n",
        "print(f\"Days in a year:{a}\")\n",
        "print(f\"Total number of minutes in a year:{x}\")"
      ]
    },
    {
      "cell_type": "markdown",
      "metadata": {
        "id": "E-j5Rjno3Svi"
      },
      "source": [
        "#EXERCISE 9"
      ]
    },
    {
      "cell_type": "markdown",
      "metadata": {
        "id": "1n9DhNCX3W__"
      },
      "source": [
        "###WRITE PYTHON CODE THAT ASKS THE USER TO ENTER HIS/HER NAME AND THEN OUTPUT/PRINTS HIS/HER NAME WITH A GREETING."
      ]
    },
    {
      "cell_type": "code",
      "execution_count": null,
      "metadata": {
        "colab": {
          "background_save": true,
          "base_uri": "https://localhost:8080/"
        },
        "id": "X88XCtry6YzR",
        "outputId": "9e0b39d0-261e-4ae2-abc8-36512d24bed2"
      },
      "outputs": [
        {
          "name": "stdout",
          "output_type": "stream",
          "text": [
            "Hello,{Name}!:Welcome to my party\n"
          ]
        }
      ],
      "source": [
        "name=input(\"Enter your name:\")\n",
        "print(\"Hello,{Name}!:Welcome to my party\")"
      ]
    },
    {
      "cell_type": "code",
      "execution_count": null,
      "metadata": {
        "id": "xQCt4zX_DxEM"
      },
      "outputs": [],
      "source": []
    }
  ],
  "metadata": {
    "colab": {
      "provenance": [],
      "authorship_tag": "ABX9TyMwnVeOne5axv21GvrZdC41",
      "include_colab_link": true
    },
    "kernelspec": {
      "display_name": "Python 3",
      "name": "python3"
    },
    "language_info": {
      "name": "python"
    }
  },
  "nbformat": 4,
  "nbformat_minor": 0
}
