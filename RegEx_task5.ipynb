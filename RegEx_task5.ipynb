{
  "nbformat": 4,
  "nbformat_minor": 0,
  "metadata": {
    "colab": {
      "provenance": [],
      "include_colab_link": true
    },
    "kernelspec": {
      "name": "python3",
      "display_name": "Python 3"
    },
    "language_info": {
      "name": "python"
    }
  },
  "cells": [
    {
      "cell_type": "markdown",
      "metadata": {
        "id": "view-in-github",
        "colab_type": "text"
      },
      "source": [
        "<a href=\"https://colab.research.google.com/github/BasilaThasni/DSML-Python-Tasks/blob/main/RegEx_task5.ipynb\" target=\"_parent\"><img src=\"https://colab.research.google.com/assets/colab-badge.svg\" alt=\"Open In Colab\"/></a>"
      ]
    },
    {
      "cell_type": "markdown",
      "source": [
        "1. Write a Python program to check that a string contains only a certain set of characters (in this case a-z, A-Z and 0-9).\n",
        "\n"
      ],
      "metadata": {
        "id": "fpQX9wBhb6ox"
      }
    },
    {
      "cell_type": "code",
      "execution_count": 1,
      "metadata": {
        "id": "5HKhizIkbt59",
        "outputId": "f21905f1-539a-4c96-9e00-53358246b23b",
        "colab": {
          "base_uri": "https://localhost:8080/"
        }
      },
      "outputs": [
        {
          "output_type": "stream",
          "name": "stdout",
          "text": [
            "'Hello123' is valid: True\n",
            "'Hello 123' is valid: False\n",
            "'Hello_123' is valid: False\n",
            "'Hello-123' is valid: False\n",
            "'123456' is valid: True\n"
          ]
        }
      ],
      "source": [
        "import re\n",
        "\n",
        "def is_valid_string(input_string):\n",
        "\n",
        "    pattern = re.compile(\"^[a-zA-Z0-9]+$\")\n",
        "\n",
        "\n",
        "    return bool(pattern.match(input_string))\n",
        "\n",
        "\n",
        "test_strings = [\"Hello123\", \"Hello 123\", \"Hello_123\", \"Hello-123\", \"123456\"]\n",
        "\n",
        "for s in test_strings:\n",
        "    print(f\"'{s}' is valid: {is_valid_string(s)}\")\n"
      ]
    },
    {
      "cell_type": "markdown",
      "source": [
        "2. Write a Python program that matches a string that has an a followed by zero or more b's.\n",
        "\n"
      ],
      "metadata": {
        "id": "rtdxRzltcRtS"
      }
    },
    {
      "cell_type": "code",
      "source": [
        "import re\n",
        "\n",
        "def matches_pattern(input_string):\n",
        "\n",
        "    pattern = re.compile(\"^ab*$\")\n",
        "\n",
        "    return bool(pattern.match(input_string))\n",
        "\n",
        "test_strings = [\"a\", \"ab\", \"abb\", \"abbb\", \"b\", \"ba\", \"aab\", \"\"]\n",
        "\n",
        "for s in test_strings:\n",
        "    print(f\"'{s}' matches pattern: {matches_pattern(s)}\")\n"
      ],
      "metadata": {
        "id": "ZjdCBYZAcZGl",
        "outputId": "856dbbca-a99e-4d41-e718-fa68d8e57906",
        "colab": {
          "base_uri": "https://localhost:8080/"
        }
      },
      "execution_count": 2,
      "outputs": [
        {
          "output_type": "stream",
          "name": "stdout",
          "text": [
            "'a' matches pattern: True\n",
            "'ab' matches pattern: True\n",
            "'abb' matches pattern: True\n",
            "'abbb' matches pattern: True\n",
            "'b' matches pattern: False\n",
            "'ba' matches pattern: False\n",
            "'aab' matches pattern: False\n",
            "'' matches pattern: False\n"
          ]
        }
      ]
    },
    {
      "cell_type": "markdown",
      "source": [
        "3. Replace only the first occurrence of 5 with five for the given string\n",
        "\n"
      ],
      "metadata": {
        "id": "kyvbz3eNcZri"
      }
    },
    {
      "cell_type": "code",
      "source": [
        "import re\n",
        "\n",
        "\n",
        "ip = 'They ate 5 apples and 5 oranges'\n",
        "\n",
        "result = re.sub(r'5', 'five', ip, count=1)\n",
        "\n",
        "print(result)\n"
      ],
      "metadata": {
        "id": "pgZy45dxcqSg",
        "outputId": "2f30bd09-a2b6-4790-8e6b-3ec46ddfbac3",
        "colab": {
          "base_uri": "https://localhost:8080/"
        }
      },
      "execution_count": 3,
      "outputs": [
        {
          "output_type": "stream",
          "name": "stdout",
          "text": [
            "They ate five apples and 5 oranges\n"
          ]
        }
      ]
    },
    {
      "cell_type": "markdown",
      "source": [
        "4. Write a Python program that matches a string that has an a followed by three 'b'.\n",
        "\n"
      ],
      "metadata": {
        "id": "h_b1-o6ncuzM"
      }
    },
    {
      "cell_type": "code",
      "source": [
        "import re\n",
        "\n",
        "def matches_pattern(input_string):\n",
        "\n",
        "    pattern = re.compile(\"^ab{3}$\")\n",
        "\n",
        "    return bool(pattern.match(input_string))\n",
        "test_strings = [\"abbb\", \"a\", \"abb\", \"abbbb\", \"aaabbb\", \"ab\", \"abbbbb\"]\n",
        "\n",
        "for s in test_strings:\n",
        "    print(f\"'{s}' matches pattern: {matches_pattern(s)}\")\n"
      ],
      "metadata": {
        "id": "eWIRl3LccqwE",
        "outputId": "218100c5-55b5-4bc7-82f9-00767f8fbb74",
        "colab": {
          "base_uri": "https://localhost:8080/"
        }
      },
      "execution_count": 4,
      "outputs": [
        {
          "output_type": "stream",
          "name": "stdout",
          "text": [
            "'abbb' matches pattern: True\n",
            "'a' matches pattern: False\n",
            "'abb' matches pattern: False\n",
            "'abbbb' matches pattern: False\n",
            "'aaabbb' matches pattern: False\n",
            "'ab' matches pattern: False\n",
            "'abbbbb' matches pattern: False\n"
          ]
        }
      ]
    },
    {
      "cell_type": "markdown",
      "source": [
        "5. Write a Python program that matches a string that has an 'a' followed by anything ending in 'b'.\n",
        "\n"
      ],
      "metadata": {
        "id": "K2vPe01bc2LN"
      }
    },
    {
      "cell_type": "code",
      "source": [
        "import re\n",
        "\n",
        "def matches_pattern(input_string):\n",
        "\n",
        "    pattern = re.compile(\"^a.*b$\")\n",
        "\n",
        "    return bool(pattern.match(input_string))\n",
        "\n",
        "test_strings = [\"ab\", \"aab\", \"axb\", \"a123b\", \"acb\", \"abbbbb\", \"a\", \"b\", \"abc\"]\n",
        "\n",
        "for s in test_strings:\n",
        "    print(f\"'{s}' matches pattern: {matches_pattern(s)}\")\n"
      ],
      "metadata": {
        "id": "f8KfX59qc3UJ",
        "outputId": "3473296c-5d7a-4fdf-84d2-500c7b66a4e1",
        "colab": {
          "base_uri": "https://localhost:8080/"
        }
      },
      "execution_count": 5,
      "outputs": [
        {
          "output_type": "stream",
          "name": "stdout",
          "text": [
            "'ab' matches pattern: True\n",
            "'aab' matches pattern: True\n",
            "'axb' matches pattern: True\n",
            "'a123b' matches pattern: True\n",
            "'acb' matches pattern: True\n",
            "'abbbbb' matches pattern: True\n",
            "'a' matches pattern: False\n",
            "'b' matches pattern: False\n",
            "'abc' matches pattern: False\n"
          ]
        }
      ]
    },
    {
      "cell_type": "markdown",
      "source": [
        "6. Write a Python program to search for numbers (0-9) of length between 1 and 3 in a given string."
      ],
      "metadata": {
        "id": "NyL-DhqXdZi7"
      }
    },
    {
      "cell_type": "code",
      "source": [
        "import re\n",
        "\n",
        "def find_numbers(input_string):\n",
        "\n",
        "    pattern = re.compile(r'\\b\\d{1,3}\\b')\n",
        "\n",
        "    matches = pattern.findall(input_string)\n",
        "\n",
        "    return matches\n",
        "\n",
        "txt = \"Exercises number 1, 12, 13, and 345 are important\"\n",
        "\n",
        "found_numbers = find_numbers(txt)\n",
        "\n",
        "print(f\"Found numbers: {found_numbers}\")\n"
      ],
      "metadata": {
        "id": "pWsu0HljdnKX",
        "colab": {
          "base_uri": "https://localhost:8080/"
        },
        "outputId": "63f1228c-7795-4c83-dd35-f624198ba704"
      },
      "execution_count": 6,
      "outputs": [
        {
          "output_type": "stream",
          "name": "stdout",
          "text": [
            "Found numbers: ['1', '12', '13', '345']\n"
          ]
        }
      ]
    },
    {
      "cell_type": "markdown",
      "source": [
        "7. Write a Python program to search for literal strings within a string.\\\n",
        "Sample text : 'The quick brown fox jumps over the lazy dog.' \\\n",
        "Searched words : 'fox', 'dog', 'horse'**bold text**"
      ],
      "metadata": {
        "id": "aWaHWXFjdqy7"
      }
    },
    {
      "cell_type": "code",
      "source": [
        "import re\n",
        "\n",
        "def highlight_words(sample_text, words):\n",
        "    highlighted_text = sample_text\n",
        "    for word in words:\n",
        "        highlighted_text = re.sub(r'\\b' + re.escape(word) + r'\\b', r'**\\g<0>**', highlighted_text)\n",
        "    return highlighted_text\n",
        "\n",
        "sample_text = 'The quick brown fox jumps over the lazy dog.'\n",
        "\n",
        "searched_words = ['fox', 'dog', 'horse']\n",
        "\n",
        "highlighted_text = highlight_words(sample_text, searched_words)\n",
        "\n",
        "print(highlighted_text)\n"
      ],
      "metadata": {
        "id": "bVAMeTMddnmf",
        "outputId": "035553c9-2535-4f71-c288-3af9c4cbae06",
        "colab": {
          "base_uri": "https://localhost:8080/"
        }
      },
      "execution_count": 8,
      "outputs": [
        {
          "output_type": "stream",
          "name": "stdout",
          "text": [
            "The quick brown **fox** jumps over the lazy **dog**.\n"
          ]
        }
      ]
    },
    {
      "cell_type": "markdown",
      "source": [
        "8. Write a Python program to search for a literal string in a string and also find the location within the original string where the pattern occurs.\n",
        "\n",
        "Sample text : 'The quick brown fox jumps over the lazy dog.' \\\n",
        "Searched words : 'fox'"
      ],
      "metadata": {
        "id": "2cgZLc6Yd0sE"
      }
    },
    {
      "cell_type": "code",
      "source": [
        "import re\n",
        "\n",
        "def find_word_locations(sample_text, word):\n",
        "    locations = []\n",
        "\n",
        "    for match in re.finditer(r'\\b' + re.escape(word) + r'\\b', sample_text):\n",
        "        locations.append((match.start(), match.end()))\n",
        "\n",
        "    return locations\n",
        "\n",
        "sample_text = 'The quick brown fox jumps over the lazy dog.'\n",
        "\n",
        "searched_word = 'fox'\n",
        "\n",
        "locations = find_word_locations(sample_text, searched_word)\n",
        "\n",
        "if locations:\n",
        "    for start, end in locations:\n",
        "        print(f\"'{searched_word}' found at positions: {start} to {end}\")\n",
        "else:\n",
        "    print(f\"'{searched_word}' not found in the text.\")\n"
      ],
      "metadata": {
        "id": "Tj1FCCx4d3zZ",
        "outputId": "ea6f5a85-782d-4b2c-eccd-2c48eeee77dd",
        "colab": {
          "base_uri": "https://localhost:8080/"
        }
      },
      "execution_count": 9,
      "outputs": [
        {
          "output_type": "stream",
          "name": "stdout",
          "text": [
            "'fox' found at positions: 16 to 19\n"
          ]
        }
      ]
    },
    {
      "cell_type": "markdown",
      "source": [
        "9.  Write a Python program to extract year, month and date from an URL"
      ],
      "metadata": {
        "id": "ixuwdsnvdtcP"
      }
    },
    {
      "cell_type": "code",
      "source": [
        "import re\n",
        "\n",
        "def extract_date_from_url(url):\n",
        "    pattern = re.compile(r'/(\\d{4})/(\\d{2})/(\\d{2})/')\n",
        "\n",
        "    match = pattern.search(url)\n",
        "\n",
        "    if match:\n",
        "        year, month, day = match.groups()\n",
        "        return int(year), int(month), int(day)\n",
        "    else:\n",
        "        return None\n",
        "\n",
        "url = \"https://www.washingtonpost.com/news/football-insider/wp/2016/09/02/odell-beckhams-fame-rests-on-one-stupid-little-ball-josh-norman-tells-author/\"\n",
        "\n",
        "date_info = extract_date_from_url(url)\n",
        "\n",
        "if date_info:\n",
        "    year, month, day = date_info\n",
        "    print(f\"Year: {year}, Month: {month}, Day: {day}\")\n",
        "else:\n",
        "    print(\"No date found in the URL.\")\n"
      ],
      "metadata": {
        "id": "uWA2_OfJeFpw",
        "colab": {
          "base_uri": "https://localhost:8080/"
        },
        "outputId": "e0c2acb1-e5fc-4db8-d93e-9aaaffb392fc"
      },
      "execution_count": 14,
      "outputs": [
        {
          "output_type": "stream",
          "name": "stdout",
          "text": [
            "Year: 2016, Month: 9, Day: 2\n"
          ]
        }
      ]
    },
    {
      "cell_type": "markdown",
      "source": [
        "10. Write a Python program to find URLs in a string.\n"
      ],
      "metadata": {
        "id": "Qdob8Ojkea-W"
      }
    },
    {
      "cell_type": "code",
      "source": [
        "import re\n",
        "\n",
        "def find_urls(text):\n",
        "    pattern = re.compile(r'href=\"(https?://[^\"]+)\"')\n",
        "\n",
        "    urls = pattern.findall(text)\n",
        "\n",
        "    return urls\n",
        "\n",
        "text = '<p>Contents :</p><a href=\"https://w3resource.com\">Python Examples</a><a href=\"http://github.com\">Even More Examples</a>'\n",
        "\n",
        "urls = find_urls(text)\n",
        "\n",
        "print(\"Found URLs:\")\n",
        "for url in urls:\n",
        "    print(url)\n"
      ],
      "metadata": {
        "id": "d9KUcdQEeIJu",
        "outputId": "45bae551-71e6-4f4d-905a-e49b1bb3a0c2",
        "colab": {
          "base_uri": "https://localhost:8080/"
        }
      },
      "execution_count": 15,
      "outputs": [
        {
          "output_type": "stream",
          "name": "stdout",
          "text": [
            "Found URLs:\n",
            "https://w3resource.com\n",
            "http://github.com\n"
          ]
        }
      ]
    },
    {
      "cell_type": "markdown",
      "source": [
        "11. Write a Python program to remove the parenthesis area in a string.\\\n",
        "\n",
        "Sample data : [\"example (.com)\", \"w3resource\", \"github (.com)\", \"stackoverflow (.com)\"] \\\n",
        "Expected Output: \\\n",
        "example  \\\n",
        "w3resource \\\n",
        "github  \\\n",
        "stackoverflow. \\\n",
        "\n"
      ],
      "metadata": {
        "id": "5mX_cCEFepSi"
      }
    },
    {
      "cell_type": "code",
      "source": [
        "import re\n",
        "\n",
        "def remove_parenthesis_area(input_list):\n",
        "    pattern = re.compile(r'\\s*\\([^)]*\\)')\n",
        "\n",
        "    result_list = [pattern.sub('', item).strip() for item in input_list]\n",
        "\n",
        "    return result_list\n",
        "\n",
        "sample_data = [\"example (.com)\", \"w3resource\", \"github (.com)\", \"stackoverflow (.com)\"]\n",
        "\n",
        "result_data = remove_parenthesis_area(sample_data)\n",
        "\n",
        "for item in result_data:\n",
        "    print(item)\n"
      ],
      "metadata": {
        "id": "CNYOSWfLee_M",
        "outputId": "67fe8fb6-a842-4612-ac8d-507b64ac5956",
        "colab": {
          "base_uri": "https://localhost:8080/"
        }
      },
      "execution_count": 12,
      "outputs": [
        {
          "output_type": "stream",
          "name": "stdout",
          "text": [
            "example\n",
            "w3resource\n",
            "github\n",
            "stackoverflow\n"
          ]
        }
      ]
    },
    {
      "cell_type": "markdown",
      "source": [
        "12. Write a Python program to concatenate the consecutive numbers in a given string. \\\n",
        "\n",
        "Original string:  \\\n",
        "Enter at 1 20 Kearny Street. The security desk can direct you to floor 1 6. Please have your identification ready.  \\\n",
        "\n",
        "After concatenating the consecutive numbers in the said string:  \\\n",
        "Enter at 120 Kearny Street. The security desk can direct you to floor 16. Please have your identification ready."
      ],
      "metadata": {
        "id": "sRhveFHXe7nz"
      }
    },
    {
      "cell_type": "code",
      "source": [
        "import re\n",
        "\n",
        "def concatenate_consecutive_numbers(input_string):\n",
        "    pattern = re.compile(r'(\\d+)\\s+(\\d+)')\n",
        "\n",
        "    while pattern.search(input_string):\n",
        "        input_string = pattern.sub(r'\\1\\2', input_string)\n",
        "\n",
        "    return input_string\n",
        "\n",
        "original_string = 'Enter at 1 20 Kearny Street. The security desk can direct you to floor 1 6. Please have your identification ready.'\n",
        "\n",
        "result_string = concatenate_consecutive_numbers(original_string)\n",
        "\n",
        "print(original_string)\n",
        "print(\"\\nAfter concatenating the consecutive numbers in the said string:\")\n",
        "print(result_string)\n"
      ],
      "metadata": {
        "id": "4dcBL0RTe_zP",
        "outputId": "41cfe472-c202-42fb-b84d-849662c5abfc",
        "colab": {
          "base_uri": "https://localhost:8080/"
        }
      },
      "execution_count": 13,
      "outputs": [
        {
          "output_type": "stream",
          "name": "stdout",
          "text": [
            "Enter at 1 20 Kearny Street. The security desk can direct you to floor 1 6. Please have your identification ready.\n",
            "\n",
            "After concatenating the consecutive numbers in the said string:\n",
            "Enter at 120 Kearny Street. The security desk can direct you to floor 16. Please have your identification ready.\n"
          ]
        }
      ]
    },
    {
      "cell_type": "markdown",
      "source": [],
      "metadata": {
        "id": "rENrD10afBB3"
      }
    }
  ]
}