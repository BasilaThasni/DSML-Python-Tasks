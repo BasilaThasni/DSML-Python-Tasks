{
  "nbformat": 4,
  "nbformat_minor": 0,
  "metadata": {
    "colab": {
      "provenance": [],
      "authorship_tag": "ABX9TyMuoHYnkas7/f9hanQBMsA7",
      "include_colab_link": true
    },
    "kernelspec": {
      "name": "python3",
      "display_name": "Python 3"
    },
    "language_info": {
      "name": "python"
    }
  },
  "cells": [
    {
      "cell_type": "markdown",
      "metadata": {
        "id": "view-in-github",
        "colab_type": "text"
      },
      "source": [
        "<a href=\"https://colab.research.google.com/github/BasilaThasni/DSML-Python-Tasks/blob/main/ListTupleDict.ipynb\" target=\"_parent\"><img src=\"https://colab.research.google.com/assets/colab-badge.svg\" alt=\"Open In Colab\"/></a>"
      ]
    },
    {
      "cell_type": "markdown",
      "source": [
        "#TASK 3"
      ],
      "metadata": {
        "id": "hxDjTur_R8I7"
      }
    },
    {
      "cell_type": "markdown",
      "source": [
        "###1. Write a Python program to sum all the items in a list.\n"
      ],
      "metadata": {
        "id": "wotB5LofTVDB"
      }
    },
    {
      "cell_type": "code",
      "source": [
        "thelist=[23,44,1,246,90,88,456,4,54]\n",
        "sum(thelist)"
      ],
      "metadata": {
        "colab": {
          "base_uri": "https://localhost:8080/"
        },
        "id": "m4CBE8RSTXty",
        "outputId": "6783abc6-b764-4e91-b557-a0a82ff4cd15"
      },
      "execution_count": null,
      "outputs": [
        {
          "output_type": "execute_result",
          "data": {
            "text/plain": [
              "1006"
            ]
          },
          "metadata": {},
          "execution_count": 1
        }
      ]
    },
    {
      "cell_type": "markdown",
      "source": [
        "###2. Write a Python program to get the largest number from a list."
      ],
      "metadata": {
        "id": "PI0eS3IXUHrZ"
      }
    },
    {
      "cell_type": "code",
      "source": [
        "max(thelist)"
      ],
      "metadata": {
        "colab": {
          "base_uri": "https://localhost:8080/"
        },
        "id": "1Ekp5eukUK-N",
        "outputId": "66e94183-0bb3-4d69-b8be-3c78b722fdab"
      },
      "execution_count": null,
      "outputs": [
        {
          "output_type": "execute_result",
          "data": {
            "text/plain": [
              "456"
            ]
          },
          "metadata": {},
          "execution_count": 2
        }
      ]
    },
    {
      "cell_type": "markdown",
      "source": [
        "###3. Write a Python program to count the number of strings from a given list of strings. The string length is 2 or more and the first and last characters are the same."
      ],
      "metadata": {
        "id": "9BAiABjAUSUF"
      }
    },
    {
      "cell_type": "code",
      "source": [
        "newlist=[23,4,56,77,56,26,56,23]\n",
        "len(newlist)"
      ],
      "metadata": {
        "colab": {
          "base_uri": "https://localhost:8080/"
        },
        "id": "EIb5DRWZU2wQ",
        "outputId": "ea860720-8fa6-40dd-87a5-0b34fc294781"
      },
      "execution_count": null,
      "outputs": [
        {
          "output_type": "execute_result",
          "data": {
            "text/plain": [
              "8"
            ]
          },
          "metadata": {},
          "execution_count": 3
        }
      ]
    },
    {
      "cell_type": "markdown",
      "source": [
        "###4. Write a Python program to remove duplicates from a list.\n"
      ],
      "metadata": {
        "id": "pPSBmp88V4b_"
      }
    },
    {
      "cell_type": "code",
      "source": [
        "list1 = [10, 20, 10, 30, 40, 50, 30]\n",
        "def remove_duplicates(list1):\n",
        "  # create a new list to store unique elements\n",
        "  list2 = []\n",
        "\n",
        "  # iterate over the original list\n",
        "  for x in list1:\n",
        "    # check if the element is not already in the list2\n",
        "    if x not in list2:\n",
        "      # add the element to the list2\n",
        "      list2.append(x)\n",
        "  return (list2)\n",
        "result = remove_duplicates(list1)\n",
        "print(str(result))"
      ],
      "metadata": {
        "colab": {
          "base_uri": "https://localhost:8080/"
        },
        "id": "pz57KkU4WDE4",
        "outputId": "67b236c1-fe71-4da2-c376-66bf1c05800f"
      },
      "execution_count": 5,
      "outputs": [
        {
          "output_type": "stream",
          "name": "stdout",
          "text": [
            "[10, 20, 30, 40, 50]\n"
          ]
        }
      ]
    },
    {
      "cell_type": "markdown",
      "source": [
        "###5.Write a Python program to check if a list is empty or not.\n"
      ],
      "metadata": {
        "id": "Q-_09FmkbQOB"
      }
    },
    {
      "cell_type": "code",
      "source": [
        "listA=[2,45,\"car\",3.45,5,67,88]\n",
        "if len(listA)==0:\n",
        "  print(\"listA is empty\")\n",
        "else :\n",
        "  print(\"listA is not empty\")\n",
        "\n",
        "listB =[]\n",
        "if len(listB)==0:\n",
        "  print(\"listB is empty\")\n",
        "else:\n",
        "  print(\"listB is not empty\")"
      ],
      "metadata": {
        "colab": {
          "base_uri": "https://localhost:8080/"
        },
        "id": "VKIkTOJBbWB4",
        "outputId": "436897be-ee38-4e7f-9b56-bfe033452ed9"
      },
      "execution_count": 6,
      "outputs": [
        {
          "output_type": "stream",
          "name": "stdout",
          "text": [
            "listA is not empty\n",
            "listB is empty\n"
          ]
        }
      ]
    },
    {
      "cell_type": "markdown",
      "source": [
        "###6. Write a Python program to filter the list if the length of the character is < 4\n",
        "\n"
      ],
      "metadata": {
        "id": "H0aeHZSUcp0t"
      }
    },
    {
      "cell_type": "code",
      "source": [
        "students=[\"Sarath\",\"Anu\",\"John\",\"Tom\",\"Michael\",\"Jim\",\"kim\"]\n",
        "new=[]\n",
        "for x in students:\n",
        "  if len(x)<4:\n",
        "    new.append(x)\n",
        "print(new)"
      ],
      "metadata": {
        "colab": {
          "base_uri": "https://localhost:8080/"
        },
        "id": "H2eVaXoZczab",
        "outputId": "cd5595bc-a950-4ee1-ef36-e88d39b7a196"
      },
      "execution_count": 8,
      "outputs": [
        {
          "output_type": "stream",
          "name": "stdout",
          "text": [
            "['Anu', 'Tom', 'Jim', 'kim']\n"
          ]
        }
      ]
    },
    {
      "cell_type": "markdown",
      "source": [
        "###7.Write a Python program to find the second largest number in a list.\n"
      ],
      "metadata": {
        "id": "q9yFkHlurH2g"
      }
    },
    {
      "cell_type": "code",
      "source": [
        "x = [100, 24, 4, 45, 99]\n",
        "x.sort()\n",
        "print(x[-2])"
      ],
      "metadata": {
        "colab": {
          "base_uri": "https://localhost:8080/"
        },
        "id": "un3w5lXBqq7_",
        "outputId": "d5814168-e2f5-4d36-d675-7d5f1a49dfec"
      },
      "execution_count": 10,
      "outputs": [
        {
          "output_type": "stream",
          "name": "stdout",
          "text": [
            "99\n"
          ]
        }
      ]
    },
    {
      "cell_type": "markdown",
      "source": [
        "###8. Write a Python program to reverse a list at a specific location.\n"
      ],
      "metadata": {
        "id": "CYIOyRKcsHqs"
      }
    },
    {
      "cell_type": "code",
      "source": [
        "def reverse_list_at_index(list1, index):\n",
        "  first_half = list1[:index]\n",
        "  second_half = list1[index:]\n",
        "\n",
        "  # Reverse the second half of the list.\n",
        "  second_half_reversed = second_half[::-1]\n",
        "\n",
        "  # Combine the two halves and return the new list.\n",
        "  new_list = first_half + second_half_reversed\n",
        "  return new_list\n",
        "\n",
        "list1 = [1, 2, 3, 4, 5, 6, 7, 8, 9, 10]\n",
        "index = 5\n",
        "reversed_list = reverse_list_at_index(list1, index)\n",
        "print(reversed_list)"
      ],
      "metadata": {
        "colab": {
          "base_uri": "https://localhost:8080/"
        },
        "id": "a2gusr0MrxeY",
        "outputId": "5f91c3d3-3cda-4ca8-e0f8-56d1f7356cef"
      },
      "execution_count": 11,
      "outputs": [
        {
          "output_type": "stream",
          "name": "stdout",
          "text": [
            "[1, 2, 3, 4, 5, 10, 9, 8, 7, 6]\n"
          ]
        }
      ]
    },
    {
      "cell_type": "markdown",
      "source": [
        "###9. Write a Python program to check if a list is a palindrome or not. Return true otherwise false.\n"
      ],
      "metadata": {
        "id": "87Q9ZF8Xt93f"
      }
    },
    {
      "cell_type": "code",
      "source": [
        "def is_palindrome(list1):\n",
        "\n",
        "  # Check if the list is empty or has only one element.\n",
        "  if len(list1) <= 1:\n",
        "    return True\n",
        "\n",
        "  # Compare the first and last elements, second and second-to-last elements, and so on.\n",
        "  for i in range(len(list1) // 2):\n",
        "    if list1[i] != list1[len(list1) - i - 1]:\n",
        "      return False\n",
        "\n",
        "  # If all comparisons are True, the list is a palindrome.\n",
        "  return True\n",
        "\n",
        "list1 = [1, 2, 3, 2, 1]\n",
        "print(is_palindrome(list1))\n",
        "\n",
        "list2 = [1, 2, 3, 4, 5]\n",
        "print(is_palindrome(list2))"
      ],
      "metadata": {
        "colab": {
          "base_uri": "https://localhost:8080/"
        },
        "id": "X7kMsvzDtvWw",
        "outputId": "72b9b079-e03d-40fa-f571-d157ac94f5ec"
      },
      "execution_count": 12,
      "outputs": [
        {
          "output_type": "stream",
          "name": "stdout",
          "text": [
            "True\n",
            "False\n"
          ]
        }
      ]
    },
    {
      "cell_type": "markdown",
      "source": [
        "###10. Write a Python a program to find the union and intersection of two lists.\n"
      ],
      "metadata": {
        "id": "5-Kz_JkHumhg"
      }
    },
    {
      "cell_type": "code",
      "source": [
        "def find_union_and_intersection(list1, list2):\n",
        "\n",
        "  # Find the union of the two lists.\n",
        "  union = list(set(list1 + list2))\n",
        "\n",
        "  # Find the intersection of the two lists.\n",
        "  intersection = list(set(list1).intersection(list2))\n",
        "\n",
        "  # Return the union and intersection.\n",
        "  return union, intersection\n",
        "\n",
        "\n",
        "# Driver code\n",
        "list1 = [1, 2, 3, 4, 5]\n",
        "list2 = [3, 4, 5, 6, 7]\n",
        "union, intersection = find_union_and_intersection(list1, list2)\n",
        "print(\"Union:\", union)\n",
        "print(\"Intersection:\", intersection)"
      ],
      "metadata": {
        "colab": {
          "base_uri": "https://localhost:8080/"
        },
        "id": "PeKNcnPIuim8",
        "outputId": "366af8aa-1ba9-4b66-c48f-3fed40a7147b"
      },
      "execution_count": 13,
      "outputs": [
        {
          "output_type": "stream",
          "name": "stdout",
          "text": [
            "Union: [1, 2, 3, 4, 5, 6, 7]\n",
            "Intersection: [3, 4, 5]\n"
          ]
        }
      ]
    },
    {
      "cell_type": "markdown",
      "source": [
        "###11.Write a Python script to sort (ascending and descending) a dictionary by value\n"
      ],
      "metadata": {
        "id": "QIf6Ljz0vAXL"
      }
    },
    {
      "source": [
        "def sort_dict_by_value(dict1, order='ascending'):\n",
        "\n",
        "  # Sort the dictionary by values in ascending order by default.\n",
        "  sorted_dict = {}\n",
        "  for key, value in sorted(dict1.items(), key=lambda item: item[1]):\n",
        "    sorted_dict[key] = value\n",
        "\n",
        "  # Reverse the dictionary if descending order is desired.\n",
        "  if order == 'descending':\n",
        "    sorted_dict = dict(reversed(sorted_dict.items()))\n",
        "\n",
        "  return sorted_dict\n",
        "dict1 = {'a': 5, 'b': 2, 'c': 3, 'd': 1, 'e': 4}\n",
        "\n",
        "print(\"Original dictionary\")\n",
        "print(dict1)\n",
        "\n",
        "print(\"\\nDictionary sorted by values in ascending order:\")\n",
        "print(sort_dict_by_value(dict1))\n",
        "\n",
        "print(\"\\nDictionary sorted by values in descending order:\")\n",
        "print(sort_dict_by_value(dict1, order='descending'))"
      ],
      "cell_type": "code",
      "metadata": {
        "colab": {
          "base_uri": "https://localhost:8080/"
        },
        "id": "B3HXQ8b6vI2Y",
        "outputId": "3a5ec9a1-cabc-471a-c067-6a0189643d34"
      },
      "execution_count": 15,
      "outputs": [
        {
          "output_type": "stream",
          "name": "stdout",
          "text": [
            "Original dictionary\n",
            "{'a': 5, 'b': 2, 'c': 3, 'd': 1, 'e': 4}\n",
            "\n",
            "Dictionary sorted by values in ascending order:\n",
            "{'d': 1, 'b': 2, 'c': 3, 'e': 4, 'a': 5}\n",
            "\n",
            "Dictionary sorted by values in descending order:\n",
            "{'a': 5, 'e': 4, 'c': 3, 'b': 2, 'd': 1}\n"
          ]
        }
      ]
    },
    {
      "cell_type": "markdown",
      "source": [
        "###"
      ],
      "metadata": {
        "id": "1BKm4Mgjvz9z"
      }
    },
    {
      "cell_type": "markdown",
      "source": [
        "###12. Write a Python script to check whether a given key already exists in a dictionary.\n"
      ],
      "metadata": {
        "id": "4_kIXeBMvx5n"
      }
    },
    {
      "source": [
        "def check_key_exists(dict1, key):\n",
        "\n",
        "  # Check if the key is in the dictionary.\n",
        "  if key in dict1:\n",
        "    return True\n",
        "  else:\n",
        "    return False\n",
        "\n",
        "dict1 = {'a': 5, 'b': 2, 'c': 3, 'd': 1, 'e': 4}\n",
        "\n",
        "key = 'a'\n",
        "print(f\"Is '{key}' in the dictionary? {check_key_exists(dict1, key)}\")\n",
        "\n",
        "key = 'f'\n",
        "print(f\"Is '{key}' in the dictionary? {check_key_exists(dict1, key)}\")"
      ],
      "cell_type": "code",
      "metadata": {
        "colab": {
          "base_uri": "https://localhost:8080/"
        },
        "id": "w2KNANOcv98A",
        "outputId": "c7275822-5ae3-45be-a341-fa771091a2e8"
      },
      "execution_count": 16,
      "outputs": [
        {
          "output_type": "stream",
          "name": "stdout",
          "text": [
            "Is 'a' in the dictionary? True\n",
            "Is 'f' in the dictionary? False\n"
          ]
        }
      ]
    },
    {
      "cell_type": "markdown",
      "source": [
        "###14.Write a Python program to create a dictionary with a number and its corresponding square from 1 to input number. And also check if the input number is less than 10"
      ],
      "metadata": {
        "id": "Vp649R8IBI26"
      }
    },
    {
      "cell_type": "code",
      "source": [],
      "metadata": {
        "id": "tWFdPDGwBNL-"
      },
      "execution_count": null,
      "outputs": []
    },
    {
      "source": [],
      "cell_type": "code",
      "metadata": {
        "id": "lIBdvcbeBQS1"
      },
      "execution_count": null,
      "outputs": []
    },
    {
      "source": [
        "def sum_dict_values(dict1):\n",
        "\n",
        "  sum_of_values = 0\n",
        "\n",
        "  for value in dict1.values():\n",
        "    sum_of_values += value\n",
        "\n",
        "  # Return the sum of all values.\n",
        "  return sum_of_values\n",
        "\n",
        "dict1 = {'a': 5, 'b': 2, 'c': 3, 'd': 1, 'e': 4}\n",
        "\n",
        "print(\"Sum of all values in the dictionary:\", sum_dict_values(dict1))"
      ],
      "cell_type": "code",
      "metadata": {
        "colab": {
          "base_uri": "https://localhost:8080/"
        },
        "id": "UBWnN9nIBeiu",
        "outputId": "1cc79b44-d7b3-4319-f4b3-994d0434cc4e"
      },
      "execution_count": 3,
      "outputs": [
        {
          "output_type": "stream",
          "name": "stdout",
          "text": [
            "Sum of all values in the dictionary: 15\n"
          ]
        }
      ]
    },
    {
      "cell_type": "markdown",
      "source": [
        "###14.Write a Python program to create a dictionary with a number and its corresponding square from 1 to input number. And also check if the input number is less than 10"
      ],
      "metadata": {
        "id": "RcqTeQ_owSnf"
      }
    },
    {
      "cell_type": "code",
      "source": [],
      "metadata": {
        "id": "RHmTo5yKwWp9"
      },
      "execution_count": null,
      "outputs": []
    },
    {
      "source": [
        "def create_square_dict(max_number):\n",
        "\n",
        "  # Check if the input number is less than 10.\n",
        "  if max_number < 10:\n",
        "    print(\"Input number should be greater than or equal to 10.\")\n",
        "    return\n",
        "\n",
        "  # Create a dictionary with numbers as keys and their squares as values.\n",
        "  square_dict = {}\n",
        "  for i in range(1, max_number + 1):\n",
        "    square_dict[i] = i ** 2\n",
        "\n",
        "  return square_dict\n",
        "\n",
        "max_number = int(input(\"Enter a number: \"))\n",
        "\n",
        "square_dict = create_square_dict(max_number)\n",
        "\n",
        "if square_dict:\n",
        "  print(\"Dictionary:\", square_dict)"
      ],
      "cell_type": "code",
      "metadata": {
        "colab": {
          "base_uri": "https://localhost:8080/"
        },
        "id": "qFbJks4ywfY8",
        "outputId": "95d3dc51-cfd7-4e5c-e9a3-b91ed6955ba4"
      },
      "execution_count": 2,
      "outputs": [
        {
          "output_type": "stream",
          "name": "stdout",
          "text": [
            "Enter a number: 11\n",
            "Dictionary: {1: 1, 2: 4, 3: 9, 4: 16, 5: 25, 6: 36, 7: 49, 8: 64, 9: 81, 10: 100, 11: 121}\n"
          ]
        }
      ]
    },
    {
      "cell_type": "markdown",
      "source": [
        "###15.Write a Python program to sort a given dictionary by key.\n"
      ],
      "metadata": {
        "id": "nDCVC3JqBFA1"
      }
    },
    {
      "cell_type": "code",
      "source": [],
      "metadata": {
        "id": "ntYYCdw6wrlu"
      },
      "execution_count": null,
      "outputs": []
    },
    {
      "source": [
        "def sort_dict_by_key(dict1):\n",
        "\n",
        "  sorted_dict = {k: v for k, v in sorted(dict1.items())}\n",
        "\n",
        "  return sorted_dict\n",
        "\n",
        "dict1 = {'d': 1, 'a': 5, 'c': 3, 'b': 2, 'e': 4}\n",
        "\n",
        "print(\"The dictionary:\")\n",
        "print(dict1)\n",
        "\n",
        "print(\"\\nDictionary sorted by key:\")\n",
        "print(sort_dict_by_key(dict1))"
      ],
      "cell_type": "code",
      "metadata": {
        "colab": {
          "base_uri": "https://localhost:8080/"
        },
        "id": "K6bKIdBUB-jn",
        "outputId": "0e84eedc-7e66-4454-cebb-3e90ef72208f"
      },
      "execution_count": 4,
      "outputs": [
        {
          "output_type": "stream",
          "name": "stdout",
          "text": [
            "The dictionary:\n",
            "{'d': 1, 'a': 5, 'c': 3, 'b': 2, 'e': 4}\n",
            "\n",
            "Dictionary sorted by key:\n",
            "{'a': 5, 'b': 2, 'c': 3, 'd': 1, 'e': 4}\n"
          ]
        }
      ]
    },
    {
      "cell_type": "markdown",
      "source": [
        "###16.  Write a Python program to create a dictionary from a string.\n"
      ],
      "metadata": {
        "id": "vm0DAJwcAZa4"
      }
    },
    {
      "source": [
        "def create_dict_from_string_simple(string):\n",
        "\n",
        "  # Initialize an empty dictionary.\n",
        "  letter_counts = {}\n",
        "\n",
        "  # Loop through each character in the string.\n",
        "  for char in string:\n",
        "    if char in letter_counts:\n",
        "      letter_counts[char] += 1\n",
        "    else:\n",
        "\n",
        "      letter_counts[char] = 1\n",
        "\n",
        "  # Return the dictionary with letter counts.\n",
        "  return letter_counts\n",
        "\n",
        "string = \"myworld\"\n",
        "\n",
        "letter_counts_dict = create_dict_from_string_simple(string)\n",
        "\n",
        "print(\"Dictionary with letter counts:\")\n",
        "print(letter_counts_dict)"
      ],
      "cell_type": "code",
      "metadata": {
        "colab": {
          "base_uri": "https://localhost:8080/"
        },
        "id": "AN4p2r0pDKQf",
        "outputId": "81259115-c754-4041-a663-a307f05911ac"
      },
      "execution_count": 8,
      "outputs": [
        {
          "output_type": "stream",
          "name": "stdout",
          "text": [
            "Dictionary with letter counts:\n",
            "{'m': 1, 'y': 1, 'w': 1, 'o': 1, 'r': 1, 'l': 1, 'd': 1}\n"
          ]
        }
      ]
    },
    {
      "cell_type": "markdown",
      "source": [
        "###17. Write a Python program to get the top three items in a shop."
      ],
      "metadata": {
        "id": "Gu6NWjoqDoH_"
      }
    },
    {
      "source": [
        "def top_three_items(items_data):\n",
        "\n",
        "  # Sort the dictionary by sales in descending order.\n",
        "  sorted_data = sorted(items_data.items(), key=lambda item: item[1], reverse=True)\n",
        "\n",
        "  # Extract the top three items.\n",
        "  top_three_items = [item[0] for item in sorted_data[:3]]\n",
        "\n",
        "  # Return the list of top three items.\n",
        "  return top_three_items\n",
        "\n",
        "items_data = {'item1': 45.50, 'item2': 35, 'item3': 41.30, 'item4': 55, 'item5': 24}\n",
        "\n",
        "top_three_items = top_three_items(items_data)\n",
        "\n",
        "for item in top_three_items:\n",
        "  print(f\"{item} {items_data[item]:.2f}\")"
      ],
      "cell_type": "code",
      "metadata": {
        "colab": {
          "base_uri": "https://localhost:8080/"
        },
        "id": "z_R9yIJ1FRr6",
        "outputId": "47b1c3a4-9b8a-42ec-b7f3-4a582623e9c0"
      },
      "execution_count": 13,
      "outputs": [
        {
          "output_type": "stream",
          "name": "stdout",
          "text": [
            "item4 55.00\n",
            "item1 45.50\n",
            "item3 41.30\n"
          ]
        }
      ]
    },
    {
      "cell_type": "code",
      "source": [],
      "metadata": {
        "id": "YXpnlq_oFhEW"
      },
      "execution_count": null,
      "outputs": []
    }
  ]
}