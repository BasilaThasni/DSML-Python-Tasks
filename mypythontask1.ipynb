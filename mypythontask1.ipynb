{
  "nbformat": 4,
  "nbformat_minor": 0,
  "metadata": {
    "colab": {
      "provenance": [],
      "authorship_tag": "ABX9TyPNaMdo7CVovhazDzRJFlvR",
      "include_colab_link": true
    },
    "kernelspec": {
      "name": "python3",
      "display_name": "Python 3"
    },
    "language_info": {
      "name": "python"
    }
  },
  "cells": [
    {
      "cell_type": "markdown",
      "metadata": {
        "id": "view-in-github",
        "colab_type": "text"
      },
      "source": [
        "<a href=\"https://colab.research.google.com/github/BasilaThasni/DSML-Python-Tasks/blob/main/mypythontask1.ipynb\" target=\"_parent\"><img src=\"https://colab.research.google.com/assets/colab-badge.svg\" alt=\"Open In Colab\"/></a>"
      ]
    },
    {
      "cell_type": "code",
      "source": [],
      "metadata": {
        "id": "gB5P0qwpIx8M"
      },
      "execution_count": null,
      "outputs": []
    },
    {
      "cell_type": "markdown",
      "source": [
        "#TASK 1"
      ],
      "metadata": {
        "id": "G978WLIFvo5j"
      }
    },
    {
      "cell_type": "markdown",
      "source": [
        "##FIND THE NUMBERS WHICH ARE DIVISIBLE BY 7 AND MULTIPLES OF 5"
      ],
      "metadata": {
        "id": "enwpE110wqKj"
      }
    },
    {
      "cell_type": "code",
      "source": [
        "a=int(input(\"enter the start number: \"))\n",
        "b=int(input(\"enter the end number\"))\n",
        "\n",
        "for number in range(a,b + 1):\n",
        "  if (number % 7 == 0 and number % 5 == 0):\n",
        "    print(f'The number {number} is divisible by 7 and multiple of 5')"
      ],
      "metadata": {
        "colab": {
          "base_uri": "https://localhost:8080/"
        },
        "id": "eF543il1wydY",
        "outputId": "8ba63e8f-378c-4fe6-e9d8-86db327ce48a"
      },
      "execution_count": null,
      "outputs": [
        {
          "output_type": "stream",
          "name": "stdout",
          "text": [
            "enter the start number: 100\n",
            "enter the end number1000\n",
            "The number 105 is divisible by 7 and multiple of 5\n",
            "The number 140 is divisible by 7 and multiple of 5\n",
            "The number 175 is divisible by 7 and multiple of 5\n",
            "The number 210 is divisible by 7 and multiple of 5\n",
            "The number 245 is divisible by 7 and multiple of 5\n",
            "The number 280 is divisible by 7 and multiple of 5\n",
            "The number 315 is divisible by 7 and multiple of 5\n",
            "The number 350 is divisible by 7 and multiple of 5\n",
            "The number 385 is divisible by 7 and multiple of 5\n",
            "The number 420 is divisible by 7 and multiple of 5\n",
            "The number 455 is divisible by 7 and multiple of 5\n",
            "The number 490 is divisible by 7 and multiple of 5\n",
            "The number 525 is divisible by 7 and multiple of 5\n",
            "The number 560 is divisible by 7 and multiple of 5\n",
            "The number 595 is divisible by 7 and multiple of 5\n",
            "The number 630 is divisible by 7 and multiple of 5\n",
            "The number 665 is divisible by 7 and multiple of 5\n",
            "The number 700 is divisible by 7 and multiple of 5\n",
            "The number 735 is divisible by 7 and multiple of 5\n",
            "The number 770 is divisible by 7 and multiple of 5\n",
            "The number 805 is divisible by 7 and multiple of 5\n",
            "The number 840 is divisible by 7 and multiple of 5\n",
            "The number 875 is divisible by 7 and multiple of 5\n",
            "The number 910 is divisible by 7 and multiple of 5\n",
            "The number 945 is divisible by 7 and multiple of 5\n",
            "The number 980 is divisible by 7 and multiple of 5\n"
          ]
        }
      ]
    },
    {
      "cell_type": "markdown",
      "source": [
        "#TASK 2"
      ],
      "metadata": {
        "id": "fhNOpPZQzXXF"
      }
    },
    {
      "cell_type": "markdown",
      "source": [
        "##WRITE A PYTHON PROGRAM TO CHECK THE USER INPUT IS EVEN,ODD OR ZERO."
      ],
      "metadata": {
        "id": "ZO643v5NzeTF"
      }
    },
    {
      "cell_type": "code",
      "source": [
        "a=int(input(\"Enter a number: \"))\n",
        "if a==0:\n",
        "  print (\"The number is zero\")\n",
        "\n",
        "b=int(input(\"Enter a number:\"))\n",
        "if b%2==0:\n",
        "  print (\"The number is even\")\n",
        "\n",
        "c=int(input(\"Enter a number\"))\n",
        "if c%2==1:\n",
        "  print (\"The number is odd\")\n"
      ],
      "metadata": {
        "colab": {
          "base_uri": "https://localhost:8080/"
        },
        "id": "nn5CWofz8Nue",
        "outputId": "b7a02674-fc33-4fdd-d91c-9fb2952f4da4"
      },
      "execution_count": null,
      "outputs": [
        {
          "output_type": "stream",
          "name": "stdout",
          "text": [
            "Enter a number: 0\n",
            "The number is zero\n",
            "Enter a number:90\n",
            "The number is even\n",
            "Enter a number77\n",
            "The number is odd\n"
          ]
        }
      ]
    },
    {
      "cell_type": "markdown",
      "source": [
        "#TASK 3"
      ],
      "metadata": {
        "id": "beUUG--j9V0b"
      }
    },
    {
      "cell_type": "markdown",
      "source": [
        "##PRINT DECIMAL PART OF AN INPUT NUMBER.IF THE DECIMAL PART IS ZERO,PRINT THE STRING 'INTEGER'."
      ],
      "metadata": {
        "id": "xA9yu43E9bdN"
      }
    },
    {
      "cell_type": "code",
      "source": [
        "number=float(input(\"Enter a number :\"))\n",
        "a=number-int(number)\n",
        "if(a==0):\n",
        "  print(\"INTEGER\")\n",
        "else:\n",
        "  print(f\"The decimal part is :{a}\")\n",
        "\n",
        "\n"
      ],
      "metadata": {
        "colab": {
          "base_uri": "https://localhost:8080/"
        },
        "id": "WOy5XNXa-m4d",
        "outputId": "6c1ff645-e529-4c35-9b35-988644025ce0"
      },
      "execution_count": 3,
      "outputs": [
        {
          "output_type": "stream",
          "name": "stdout",
          "text": [
            "Enter a number :23.6\n",
            "The decimal part is :0.6000000000000014\n"
          ]
        }
      ]
    },
    {
      "cell_type": "code",
      "source": [],
      "metadata": {
        "id": "yH3YIAYIFOok"
      },
      "execution_count": null,
      "outputs": []
    }
  ]
}