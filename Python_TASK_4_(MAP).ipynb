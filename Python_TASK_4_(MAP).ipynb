{
  "nbformat": 4,
  "nbformat_minor": 0,
  "metadata": {
    "colab": {
      "provenance": [],
      "authorship_tag": "ABX9TyMetEzNosDkskYCAU82a+dD",
      "include_colab_link": true
    },
    "kernelspec": {
      "name": "python3",
      "display_name": "Python 3"
    },
    "language_info": {
      "name": "python"
    }
  },
  "cells": [
    {
      "cell_type": "markdown",
      "metadata": {
        "id": "view-in-github",
        "colab_type": "text"
      },
      "source": [
        "<a href=\"https://colab.research.google.com/github/BasilaThasni/DSML-Python-Tasks/blob/main/Python_TASK_4_(MAP).ipynb\" target=\"_parent\"><img src=\"https://colab.research.google.com/assets/colab-badge.svg\" alt=\"Open In Colab\"/></a>"
      ]
    },
    {
      "cell_type": "markdown",
      "source": [
        "#Exercise 1: Create a function with a default argument"
      ],
      "metadata": {
        "id": "AHKNQzQBL5lz"
      }
    },
    {
      "cell_type": "markdown",
      "source": [
        "##Write a program to create a function show_employee() using the following conditions.\n",
        "*It should accept the employee’s name and salary and display both.\n",
        "\n",
        "*If the salary is missing in the function call then assign default value 9000 to salary\n"
      ],
      "metadata": {
        "id": "o-mgMATsMBW7"
      }
    },
    {
      "cell_type": "code",
      "source": [
        "def show_employee(name,salary=30000):\n",
        "  print(f\"Name of employee:{name} , Salary:{salary}\")\n",
        "\n",
        "show_employee(\"Paul\",35000)\n",
        "show_employee(\"fathima\")"
      ],
      "metadata": {
        "colab": {
          "base_uri": "https://localhost:8080/"
        },
        "id": "6w707P_aL8VE",
        "outputId": "45fec9cb-2c2d-4f71-c1a7-98a0d5a6c28f"
      },
      "execution_count": null,
      "outputs": [
        {
          "output_type": "stream",
          "name": "stdout",
          "text": [
            "Name of employee:Paul , Salary:35000\n",
            "Name of employee:fathima , Salary:30000\n"
          ]
        }
      ]
    },
    {
      "cell_type": "markdown",
      "source": [
        "#Exercise 2: Create an inner function to calculate the addition in the following way\n"
      ],
      "metadata": {
        "id": "2wWmbghWOe4i"
      }
    },
    {
      "cell_type": "markdown",
      "source": [
        "##*Create an outer function that will accept two parameters, a and b\n",
        "\n",
        "##*Create an inner function inside an outer function that will calculate the addition of a and b\n",
        "\n",
        "##*At last, an outer function will add 5 into addition and return it\n",
        "\n",
        "\n"
      ],
      "metadata": {
        "id": "fhwviZT8PGIu"
      }
    },
    {
      "cell_type": "code",
      "source": [
        "def outer_function(a, b):\n",
        "    def inner_function():\n",
        "        return a + b\n",
        "\n",
        "    addition_result = inner_function()  # Calling the inner function to get the addition result\n",
        "    result = addition_result + 5       # Adding 5 to the addition result\n",
        "\n",
        "    return result\n",
        "\n",
        "# Example usage:\n",
        "result = outer_function(7, 10)\n",
        "print(\"Result:\", result)  # Output will be 12 (7+10+5 = 26))\n"
      ],
      "metadata": {
        "colab": {
          "base_uri": "https://localhost:8080/"
        },
        "id": "44IycfivPO-a",
        "outputId": "18d2bc2f-df9d-4da4-fec9-c81e77acf417"
      },
      "execution_count": null,
      "outputs": [
        {
          "output_type": "stream",
          "name": "stdout",
          "text": [
            "Result: 22\n"
          ]
        }
      ]
    },
    {
      "cell_type": "markdown",
      "source": [
        "#Exercise 3: Generate a Python list of all the even numbers between 4 to 30\n"
      ],
      "metadata": {
        "id": "JuPWrRQXZKwZ"
      }
    },
    {
      "cell_type": "code",
      "source": [
        "even_numbers=[num for num in range(4,30) if num%2==0]\n",
        "\n",
        "print(even_numbers)"
      ],
      "metadata": {
        "colab": {
          "base_uri": "https://localhost:8080/"
        },
        "id": "jgDu8zG3QgL9",
        "outputId": "0f3e28e8-ac71-45e4-d4c2-c62a3045151a"
      },
      "execution_count": null,
      "outputs": [
        {
          "output_type": "stream",
          "name": "stdout",
          "text": [
            "[4, 6, 8, 10, 12, 14, 16, 18, 20, 22, 24, 26, 28]\n"
          ]
        }
      ]
    },
    {
      "cell_type": "markdown",
      "source": [
        "#Exercise 4: Lambda Function to Check if value is in a List"
      ],
      "metadata": {
        "id": "bmguYQ7wcB_z"
      }
    },
    {
      "cell_type": "code",
      "source": [
        "newlist=[2,3,4,5,6,7,8,9]\n",
        "x=int(input(\"Enter a number: \"))\n",
        "check_value=lambda x:x in newlist\n",
        "\n",
        "if check_value(x):\n",
        "  print(f\"{x} is in the list\")\n",
        "else:\n",
        "  print(f\"{x} is not in the list\")\n"
      ],
      "metadata": {
        "colab": {
          "base_uri": "https://localhost:8080/"
        },
        "id": "XeZb_YdycDL3",
        "outputId": "89224066-a544-415c-c393-5f22bc7f5289"
      },
      "execution_count": null,
      "outputs": [
        {
          "output_type": "stream",
          "name": "stdout",
          "text": [
            "Enter a number: 6\n",
            "6 is in the list\n"
          ]
        }
      ]
    },
    {
      "cell_type": "markdown",
      "source": [
        "#Exercise 5: Sort list of tuples with their sum\n"
      ],
      "metadata": {
        "id": "dGcy1Ph7dpDY"
      }
    },
    {
      "cell_type": "code",
      "source": [
        "points = [(1, 2), (5, 3), (0, 7), (3, 1)]\n",
        "\n",
        "# Sort the list of tuples based on the sum of elements in each tuple\n",
        "sorted_points = sorted(points, key=lambda x: x[0] + x[1])\n",
        "\n",
        "# Print the sorted list\n",
        "print(\"Sorted points based on sum of elements:\", sorted_points)\n"
      ],
      "metadata": {
        "colab": {
          "base_uri": "https://localhost:8080/"
        },
        "id": "IWTGdOlFhocG",
        "outputId": "a93fba15-0d46-4c4e-e969-cc1333c401fb"
      },
      "execution_count": null,
      "outputs": [
        {
          "output_type": "stream",
          "name": "stdout",
          "text": [
            "Sorted points based on sum of elements: [(1, 2), (3, 1), (0, 7), (5, 3)]\n"
          ]
        }
      ]
    },
    {
      "cell_type": "markdown",
      "source": [
        "#Exercise 6 :\n",
        "Write a python function, which will find all such numbers between 1000 and 3000 (both included) such that each digit of the number is an even number. Return the results as a list\n",
        "\n"
      ],
      "metadata": {
        "id": "4-FxVrqslNpd"
      }
    },
    {
      "cell_type": "code",
      "source": [
        "def find_even_digit_numbers():\n",
        "    results = []\n",
        "    for num in range(1000, 3001):\n",
        "        digits = [int(digit) for digit in str(num)]\n",
        "        if all(digit % 2 == 0 for digit in digits):\n",
        "            results.append(num)\n",
        "    return results\n",
        "\n",
        "even_digit_numbers = find_even_digit_numbers()\n",
        "print(even_digit_numbers)\n"
      ],
      "metadata": {
        "id": "gf-j9ikZia-P",
        "colab": {
          "base_uri": "https://localhost:8080/"
        },
        "outputId": "2c716dac-8fda-41d7-e721-52fe77c37f40"
      },
      "execution_count": null,
      "outputs": [
        {
          "output_type": "stream",
          "name": "stdout",
          "text": [
            "[2000, 2002, 2004, 2006, 2008, 2020, 2022, 2024, 2026, 2028, 2040, 2042, 2044, 2046, 2048, 2060, 2062, 2064, 2066, 2068, 2080, 2082, 2084, 2086, 2088, 2200, 2202, 2204, 2206, 2208, 2220, 2222, 2224, 2226, 2228, 2240, 2242, 2244, 2246, 2248, 2260, 2262, 2264, 2266, 2268, 2280, 2282, 2284, 2286, 2288, 2400, 2402, 2404, 2406, 2408, 2420, 2422, 2424, 2426, 2428, 2440, 2442, 2444, 2446, 2448, 2460, 2462, 2464, 2466, 2468, 2480, 2482, 2484, 2486, 2488, 2600, 2602, 2604, 2606, 2608, 2620, 2622, 2624, 2626, 2628, 2640, 2642, 2644, 2646, 2648, 2660, 2662, 2664, 2666, 2668, 2680, 2682, 2684, 2686, 2688, 2800, 2802, 2804, 2806, 2808, 2820, 2822, 2824, 2826, 2828, 2840, 2842, 2844, 2846, 2848, 2860, 2862, 2864, 2866, 2868, 2880, 2882, 2884, 2886, 2888]\n"
          ]
        }
      ]
    },
    {
      "cell_type": "markdown",
      "source": [
        "#Exercise 7 :\n",
        "##Write a python function that accepts a sentence and calculate and return the number of letters and digits.\n"
      ],
      "metadata": {
        "id": "ckUeecwl6T1h"
      }
    },
    {
      "cell_type": "code",
      "source": [
        "def count_letters_and_digits(sentence):\n",
        "    letters = 0\n",
        "    digits = 0\n",
        "\n",
        "    for char in sentence:\n",
        "        if char.isalpha():\n",
        "            letters += 1\n",
        "        elif char.isdigit():\n",
        "            digits += 1\n",
        "\n",
        "    return letters, digits\n",
        "sentence=input(\"Enter a sentence: \")\n",
        "letters, digits = count_letters_and_digits(sentence)\n",
        "print(\"Letters:\", letters)\n",
        "print(\"Digits:\", digits)"
      ],
      "metadata": {
        "colab": {
          "base_uri": "https://localhost:8080/"
        },
        "id": "UeHTqbqV6X3G",
        "outputId": "736323d6-802b-45b5-bdae-0edbf63d6d63"
      },
      "execution_count": null,
      "outputs": [
        {
          "output_type": "stream",
          "name": "stdout",
          "text": [
            "Enter a sentence: Everyone one should be ready in 50 minutes\n",
            "Letters: 33\n",
            "Digits: 2\n"
          ]
        }
      ]
    },
    {
      "cell_type": "markdown",
      "source": [
        "#Exercise 8  MAP:\n",
        "##Write a Python program to convert all the characters into uppercase and lowercase and eliminate duplicate letters from a given sequence. Use the map() function\n",
        "\n"
      ],
      "metadata": {
        "id": "jdyZ1njI769U"
      }
    },
    {
      "cell_type": "code",
      "source": [
        "def to_uppercase(s):\n",
        "    \"\"\"Convert all characters to uppercase and eliminate duplicates.\"\"\"\n",
        "    seen = set()\n",
        "    result = []\n",
        "    for char in s.upper():\n",
        "        if char not in seen:\n",
        "            seen.add(char)\n",
        "            result.append(char)\n",
        "    return ''.join(result)\n",
        "\n",
        "def to_lowercase(s):\n",
        "    \"\"\"Convert all characters to lowercase and eliminate duplicates.\"\"\"\n",
        "    seen = set()\n",
        "    result = []\n",
        "    for char in s.lower():\n",
        "        if char not in seen:\n",
        "            seen.add(char)\n",
        "            result.append(char)\n",
        "    return ''.join(result)\n",
        "\n",
        "def process_sequence(seq):\n",
        "    \"\"\"Process the given sequence to uppercase and lowercase versions without duplicates.\"\"\"\n",
        "    upper_result = map(to_uppercase, [seq])\n",
        "    lower_result = map(to_lowercase, [seq])\n",
        "    return list(upper_result)[0], list(lower_result)[0]\n",
        "\n",
        "# Example usage\n",
        "sequence = \"AAaabBBBCccCCcDDddDDeeeEEEEfFFffff\"\n",
        "upper_case, lower_case = process_sequence(sequence)\n",
        "print(\"Uppercase without duplicates:\", upper_case)\n",
        "print(\"Lowercase without duplicates:\", lower_case)\n"
      ],
      "metadata": {
        "id": "nKBfJG9P8Bgc",
        "colab": {
          "base_uri": "https://localhost:8080/"
        },
        "outputId": "72715bf9-a125-46d5-dee7-74286b9604be"
      },
      "execution_count": 2,
      "outputs": [
        {
          "output_type": "stream",
          "name": "stdout",
          "text": [
            "Uppercase without duplicates: ABCDEF\n",
            "Lowercase without duplicates: abcdef\n"
          ]
        }
      ]
    },
    {
      "cell_type": "markdown",
      "source": [
        "#Exercise 9 MAP:\n",
        "##Write a Python program to element wise add two given lists and find the difference between them. Use the map() function\n"
      ],
      "metadata": {
        "id": "NHcjXXXC8GCS"
      }
    },
    {
      "cell_type": "code",
      "source": [
        "def add_lists(list1, list2):\n",
        "    \"\"\"Add elements of two lists element-wise.\"\"\"\n",
        "    return list(map(lambda x, y: x + y, list1, list2))\n",
        "\n",
        "def subtract_lists(list1, list2):\n",
        "    \"\"\"Subtract elements of the second list from the first list element-wise.\"\"\"\n",
        "    return list(map(lambda x, y: x - y, list1, list2))\n",
        "\n",
        "# Example usage\n",
        "list1 = [1, 2, 3, 4, 5]\n",
        "list2 = [5, 4, 3, 2, 1]\n",
        "\n",
        "sum_result = add_lists(list1, list2)\n",
        "diff_result = subtract_lists(list1, list2)\n",
        "\n",
        "print(\"Element-wise addition:\", sum_result)\n",
        "print(\"Element-wise difference:\", diff_result)\n"
      ],
      "metadata": {
        "colab": {
          "base_uri": "https://localhost:8080/"
        },
        "id": "sxesje_E8HB4",
        "outputId": "e3e7a7a4-cb40-4cdc-b036-dd3429ffbac3"
      },
      "execution_count": 3,
      "outputs": [
        {
          "output_type": "stream",
          "name": "stdout",
          "text": [
            "Element-wise addition: [6, 6, 6, 6, 6]\n",
            "Element-wise difference: [-4, -2, 0, 2, 4]\n"
          ]
        }
      ]
    },
    {
      "cell_type": "markdown",
      "source": [
        "#Exercise 10 Filter:\n",
        "##Write a Python program to filter the height and weight of students, which are stored in a dictionary using lambda.\n"
      ],
      "metadata": {
        "id": "IOGc6YO78fSB"
      }
    },
    {
      "cell_type": "code",
      "source": [
        "#dictionary of students with height and weight\n",
        "students = {\n",
        "    'Cierra Vega': (6.2, 71),\n",
        "    'Alden Cantrell': (5.9, 65),\n",
        "    'Kierra Gentry': (6.0, 68),\n",
        "    'Pierre Cox': (5.8, 66)\n",
        "}\n",
        "\n",
        "#filtering\n",
        "min_height = 6.0\n",
        "min_weight = 70\n",
        "\n",
        "filtered_students = dict(filter(lambda item: item[1][0] > min_height and item[1][1] > min_weight, students.items()))\n",
        "\n",
        "#filtered dictionary\n",
        "print(\"Height > 6ft and Weight > 70kg:\", filtered_students)\n"
      ],
      "metadata": {
        "colab": {
          "base_uri": "https://localhost:8080/"
        },
        "id": "TYqRQ2Sr8jwN",
        "outputId": "ea831988-44a8-4252-8791-3519f2893764"
      },
      "execution_count": 4,
      "outputs": [
        {
          "output_type": "stream",
          "name": "stdout",
          "text": [
            "Height > 6ft and Weight > 70kg: {'Cierra Vega': (6.2, 71)}\n"
          ]
        }
      ]
    },
    {
      "cell_type": "markdown",
      "source": [
        "#Exercise 11 Filter:\n",
        "##Write a Python program to remove all elements from a given list present in another list using lambda.\n",
        "\n",
        "\n",
        "\n",
        "\n"
      ],
      "metadata": {
        "id": "YXcWR4349Eyt"
      }
    },
    {
      "cell_type": "code",
      "source": [
        "list1 = [1, 2, 3, 4, 5, 6, 7, 8, 9, 10]\n",
        "list2 = [2, 4, 6, 8]\n",
        "\n",
        "#to remove elements in list1 that are in list2\n",
        "filtered_list = list(filter(lambda x: x not in list2, list1))\n",
        "\n",
        "#filtered list\n",
        "print(\"Filtered list:\", filtered_list)\n"
      ],
      "metadata": {
        "colab": {
          "base_uri": "https://localhost:8080/"
        },
        "id": "xbsLCPFz9NwT",
        "outputId": "dade69b6-3257-4857-de69-6cc789db387a"
      },
      "execution_count": 5,
      "outputs": [
        {
          "output_type": "stream",
          "name": "stdout",
          "text": [
            "Filtered list: [1, 3, 5, 7, 9, 10]\n"
          ]
        }
      ]
    },
    {
      "cell_type": "markdown",
      "source": [
        "#Exercise 12 Reduce:\n",
        "##Write a Python program to calculate the product of a given list of numbers using lambda.\n"
      ],
      "metadata": {
        "id": "foUOxxEG9wTG"
      }
    },
    {
      "cell_type": "code",
      "source": [
        "from functools import reduce\n",
        "\n",
        "numbers = [1, 2, 3, 4, 5,6,7,8,9,10]\n",
        "\n",
        "product = reduce(lambda x, y: x * y, numbers)\n",
        "\n",
        "print(\"Product of the list:\", product)\n"
      ],
      "metadata": {
        "colab": {
          "base_uri": "https://localhost:8080/"
        },
        "id": "qvNwyLOU9zcU",
        "outputId": "78e68c60-f95a-4eb1-b32b-cf41e56b473d"
      },
      "execution_count": 7,
      "outputs": [
        {
          "output_type": "stream",
          "name": "stdout",
          "text": [
            "Product of the list: 3628800\n"
          ]
        }
      ]
    },
    {
      "cell_type": "markdown",
      "source": [
        "#Exercise 13 Reduce:\n",
        "## Write a Python program to multiply all the numbers in a given list using lambda.\n",
        "\n"
      ],
      "metadata": {
        "id": "-SM2XOay-XET"
      }
    },
    {
      "cell_type": "code",
      "source": [
        "from functools import reduce\n",
        "\n",
        "newnumbers = [4,3,2,2,-1,18]\n",
        "\n",
        "product = reduce(lambda x,y:x*y,newnumbers)\n",
        "\n",
        "print(\"Product of the numbers in the list is\",product)"
      ],
      "metadata": {
        "colab": {
          "base_uri": "https://localhost:8080/"
        },
        "id": "5cJkTNT5-g7f",
        "outputId": "6117897c-da72-45e9-c397-e3a1f6834986"
      },
      "execution_count": 10,
      "outputs": [
        {
          "output_type": "stream",
          "name": "stdout",
          "text": [
            "Product of the numbers in the list is -864\n"
          ]
        }
      ]
    },
    {
      "cell_type": "markdown",
      "source": [
        "#Exercise 14 Reduce:\n",
        "##Write a Python program to calculate the average value of the numbers in a given tuple of tuples using lambda.\n",
        "\n"
      ],
      "metadata": {
        "id": "pgQt-PLKATVU"
      }
    },
    {
      "cell_type": "code",
      "source": [
        "# Original tuple of tuples\n",
        "numbers = ((10, 10, 10), (30, 45, 56), (81, 80, 39), (1, 2, 3))\n",
        "\n",
        "# Calculate the number of tuples\n",
        "num_tuples = len(numbers)\n",
        "\n",
        "# Using zip to transpose the tuple of tuples and map to calculate the averages\n",
        "averages = list(map(lambda x: sum(x) / num_tuples, zip(*numbers)))\n",
        "\n",
        "# Output the average values\n",
        "print(\"Average value of the numbers of the said tuple of tuples:\", averages)\n"
      ],
      "metadata": {
        "colab": {
          "base_uri": "https://localhost:8080/"
        },
        "id": "A06sK_qEF2mU",
        "outputId": "f0444c1f-bcc6-4361-fd70-16d90e0350ec"
      },
      "execution_count": 30,
      "outputs": [
        {
          "output_type": "stream",
          "name": "stdout",
          "text": [
            "Average value of the numbers of the said tuple of tuples: [30.5, 34.25, 27.0]\n"
          ]
        }
      ]
    },
    {
      "cell_type": "markdown",
      "source": [
        "#Exercise 15:\n",
        "##Write a Python program to sort a given mixed list of integers and strings using lambda. Numbers must be sorted before strings.\n"
      ],
      "metadata": {
        "id": "hdcWQcxjGMJk"
      }
    },
    {
      "cell_type": "code",
      "source": [
        "mixed_list = [19, 'red', 12, 'green', 'blue', 10, 'white', 'green', 1]\n",
        "\n",
        "# Sorting the mixed list using sorted() with a lambda function as key\n",
        "sorted_list = sorted(mixed_list, key=lambda x: (isinstance(x, str), x))\n",
        "\n",
        "# Output the sorted list\n",
        "print(\"Sorted mixed list of integers and strings:\", sorted_list)\n"
      ],
      "metadata": {
        "colab": {
          "base_uri": "https://localhost:8080/"
        },
        "id": "dw3A9wsfGDc1",
        "outputId": "413a3ce6-e3b6-440c-fc18-2a7633bfc6fa"
      },
      "execution_count": 31,
      "outputs": [
        {
          "output_type": "stream",
          "name": "stdout",
          "text": [
            "Sorted mixed list of integers and strings: [1, 10, 12, 19, 'blue', 'green', 'green', 'red', 'white']\n"
          ]
        }
      ]
    },
    {
      "cell_type": "code",
      "source": [],
      "metadata": {
        "id": "uk8SRqFjGl8f"
      },
      "execution_count": null,
      "outputs": []
    },
    {
      "cell_type": "markdown",
      "source": [
        "#Exercise 16:\n",
        "##Write a Python program to count the occurrences of items in a given list using lambda.\n",
        "\n"
      ],
      "metadata": {
        "id": "5t74ECQPGvAW"
      }
    },
    {
      "cell_type": "code",
      "source": [
        "original_list = [3, 4, 5, 8, 0, 3, 8, 5, 0, 3, 1, 5, 2, 3, 4, 2]\n",
        "\n",
        "# Using map and lambda to count occurrences\n",
        "count_dict = dict(map(lambda x: (x, original_list.count(x)), original_list))\n",
        "\n",
        "# Output the count dictionary\n",
        "print(\"Count the occurrences of the items in the said list:\",count_dict)\n"
      ],
      "metadata": {
        "colab": {
          "base_uri": "https://localhost:8080/"
        },
        "id": "AIwBnla1G1X7",
        "outputId": "eafff48e-e6b2-42aa-e5a0-3b562a0fdc66"
      },
      "execution_count": 36,
      "outputs": [
        {
          "output_type": "stream",
          "name": "stdout",
          "text": [
            "Count the occurrences of the items in the said list: {3: 4, 4: 2, 5: 3, 8: 2, 0: 2, 1: 1, 2: 2}\n"
          ]
        }
      ]
    },
    {
      "cell_type": "markdown",
      "source": [
        "#Exercise 17:\n",
        "##Write a Python program to remove None values from a given list using the lambda function.\n"
      ],
      "metadata": {
        "id": "e-38P41bHLzA"
      }
    },
    {
      "cell_type": "code",
      "source": [
        "original_list = [12, 0, None, 23, None, -55, 234, 89, None, 0, 6, -12]\n",
        "\n",
        "# Using filter and lambda to remove None values\n",
        "filtered_list = list(filter(lambda x: x is not None, original_list))\n",
        "\n",
        "# Output the filtered list\n",
        "print(\"Remove None value from the said list:\",filtered_list)\n",
        "\n"
      ],
      "metadata": {
        "colab": {
          "base_uri": "https://localhost:8080/"
        },
        "id": "Cs-sbkjCHR5k",
        "outputId": "25569475-c850-41f1-ada9-87552b2f6b7f"
      },
      "execution_count": 35,
      "outputs": [
        {
          "output_type": "stream",
          "name": "stdout",
          "text": [
            "Remove None value from the said list: [12, 0, 23, -55, 234, 89, 0, 6, -12]\n"
          ]
        }
      ]
    }
  ]
}